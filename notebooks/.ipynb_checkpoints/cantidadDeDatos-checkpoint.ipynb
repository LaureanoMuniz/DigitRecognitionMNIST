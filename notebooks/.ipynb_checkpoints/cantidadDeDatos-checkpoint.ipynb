{
 "cells": [
  {
   "cell_type": "markdown",
   "metadata": {},
   "source": [
    "# Cantidad de datos utilizados en el entrenamiento \n",
    "\n",
    "#### En este notebook analizamos cual es la cantidad de datos necesarios para entrenar nuestros clasificadores. Tomamos nuestros parámetros ideales obtenidos anteriormente para el algoritmo de KNN y KNN+PCA y analizamos su performance en términos de accuracy y tiempo de ejecución."
   ]
  },
  {
   "cell_type": "markdown",
   "metadata": {},
   "source": [
    "## Compilando el módulo desde C++\n",
    "\n",
    "#### Compilamos el modulo desde C++. En CMakeList.txt está seteado que se corra con OpenMP para paralelizar operaciones."
   ]
  },
  {
   "cell_type": "code",
   "execution_count": 1,
   "metadata": {},
   "outputs": [
    {
     "name": "stdout",
     "output_type": "stream",
     "text": [
      "mkdir: no se puede crear el directorio «build»: El archivo ya existe\n",
      "-- The C compiler identification is GNU 9.3.0\n",
      "-- The CXX compiler identification is GNU 9.3.0\n",
      "-- Check for working C compiler: /usr/bin/cc\n",
      "-- Check for working C compiler: /usr/bin/cc -- works\n",
      "-- Detecting C compiler ABI info\n",
      "-- Detecting C compiler ABI info - done\n",
      "-- Detecting C compile features\n",
      "-- Detecting C compile features - done\n",
      "-- Check for working CXX compiler: /usr/bin/c++\n",
      "-- Check for working CXX compiler: /usr/bin/c++ -- works\n",
      "-- Detecting CXX compiler ABI info\n",
      "-- Detecting CXX compiler ABI info - done\n",
      "-- Detecting CXX compile features\n",
      "-- Detecting CXX compile features - done\n",
      "Release mode\n",
      "-- Found OpenMP_C: -fopenmp (found version \"4.5\") \n",
      "-- Found OpenMP_CXX: -fopenmp (found version \"4.5\") \n",
      "-- Found OpenMP: TRUE (found version \"4.5\")  \n",
      "-- Found libomp without any special flags\n",
      "-- pybind11 v2.6.3 dev1\n",
      "-- Found PythonInterp: /home/laureano/Documentos/met2021/grupal/metnum-1c2021-tp2/tp2/bin/python (found version \"3.8.5\") \n",
      "-- Found PythonLibs: /usr/lib/x86_64-linux-gnu/libpython3.8.so\n",
      "-- Performing Test HAS_FLTO\n",
      "-- Performing Test HAS_FLTO - Success\n",
      "CMAKE_INSTALL_PREFIX=/home/laureano/Documentos/met2021/grupal/metnum-1c2021-tp2\n",
      "-- Configuring done\n",
      "-- Generating done\n",
      "-- Build files have been written to: /home/laureano/Documentos/met2021/grupal/metnum-1c2021-tp2/build\n",
      "\u001b[35m\u001b[1mScanning dependencies of target tp2\u001b[0m\n",
      "[ 10%] \u001b[32mBuilding CXX object CMakeFiles/tp2.dir/src/main.cpp.o\u001b[0m\n",
      "[ 20%] \u001b[32mBuilding CXX object CMakeFiles/tp2.dir/src/knn.cpp.o\u001b[0m\n",
      "\u001b[01m\u001b[K/home/laureano/Documentos/met2021/grupal/metnum-1c2021-tp2/src/knn.cpp:\u001b[m\u001b[K In function ‘\u001b[01m\u001b[K_ZN13KNNClassifier7predictEN5Eigen6MatrixIdLin1ELin1ELi1ELin1ELin1EEE._omp_fn.0\u001b[m\u001b[K’:\n",
      "\u001b[01m\u001b[K/home/laureano/Documentos/met2021/grupal/metnum-1c2021-tp2/src/knn.cpp:59:16:\u001b[m\u001b[K \u001b[01;35m\u001b[Kwarning: \u001b[m\u001b[K‘\u001b[01m\u001b[Kmode\u001b[m\u001b[K’ may be used uninitialized in this function [\u001b[01;35m\u001b[K-Wmaybe-uninitialized\u001b[m\u001b[K]\n",
      "   59 |         ret[k] = mode;\n",
      "\u001b[01m\u001b[K/home/laureano/Documentos/met2021/grupal/metnum-1c2021-tp2/src/knn.cpp:52:13:\u001b[m\u001b[K \u001b[01;36m\u001b[Knote: \u001b[m\u001b[K‘\u001b[01m\u001b[Kmode\u001b[m\u001b[K’ was declared here\n",
      "   52 |         int \u001b[01;36m\u001b[Kmode\u001b[m\u001b[K;\n",
      "      |             \u001b[01;36m\u001b[K^~~~\u001b[m\u001b[K\n",
      "[ 30%] \u001b[32mBuilding CXX object CMakeFiles/tp2.dir/src/pca.cpp.o\u001b[0m\n",
      "[ 40%] \u001b[32mBuilding CXX object CMakeFiles/tp2.dir/src/eigen.cpp.o\u001b[0m\n",
      "[ 50%] \u001b[32m\u001b[1mLinking CXX executable tp2\u001b[0m\n",
      "[ 50%] Built target tp2\n",
      "\u001b[35m\u001b[1mScanning dependencies of target metnum\u001b[0m\n",
      "[ 60%] \u001b[32mBuilding CXX object CMakeFiles/metnum.dir/src/metnum.cpp.o\u001b[0m\n",
      "[ 70%] \u001b[32mBuilding CXX object CMakeFiles/metnum.dir/src/knn.cpp.o\u001b[0m\n",
      "[ 80%] \u001b[32mBuilding CXX object CMakeFiles/metnum.dir/src/pca.cpp.o\u001b[0m\n",
      "[ 90%] \u001b[32mBuilding CXX object CMakeFiles/metnum.dir/src/eigen.cpp.o\u001b[0m\n",
      "[100%] \u001b[32m\u001b[1mLinking CXX shared module metnum.cpython-38-x86_64-linux-gnu.so\u001b[0m\n",
      "[100%] Built target metnum\n",
      "\u001b[36mInstall the project...\u001b[0m\n",
      "-- Install configuration: \"Release\"\n",
      "-- Installing: /home/laureano/Documentos/met2021/grupal/metnum-1c2021-tp2/notebooks/metnum.cpython-38-x86_64-linux-gnu.so\n"
     ]
    }
   ],
   "source": [
    "!cd .. && mkdir build\n",
    "!cd ../build/ && rm -rf *\n",
    "!cd ../build && cmake \\\n",
    "  -DPYTHON_EXECUTABLE=\"$(which python)\" \\\n",
    "  -DCMAKE_BUILD_TYPE=Release ..\n",
    "!cd ../build && make install"
   ]
  },
  {
   "cell_type": "code",
   "execution_count": 2,
   "metadata": {},
   "outputs": [
    {
     "name": "stdout",
     "output_type": "stream",
     "text": [
      "/home/laureano/Documentos/met2021/grupal/metnum-1c2021-tp2/notebooks\n",
      "Python 3.8.5\n"
     ]
    }
   ],
   "source": [
    "# Verifico la correcta instalación. Si no falla el import está OK\n",
    "!pwd\n",
    "!python --version\n"
   ]
  },
  {
   "cell_type": "code",
   "execution_count": 3,
   "metadata": {},
   "outputs": [],
   "source": [
    "%reload_ext autoreload\n",
    "%autoreload 2\n",
    "\n",
    "import matplotlib.pyplot as plt\n",
    "import numpy as np\n",
    "import pandas as pd\n",
    "import time\n",
    "import metnum\n",
    "import funciones\n",
    "import sklearn as sk\n",
    "from tqdm import tqdm\n",
    "from sklearn import metrics\n",
    "\n"
   ]
  },
  {
   "cell_type": "code",
   "execution_count": 5,
   "metadata": {},
   "outputs": [],
   "source": [
    "setsDeDatos = []\n",
    "\n",
    "for i in range(1,7):\n",
    "    setsDeDatos.append(funciones.construir_dataset(numeroElementos = cantidadDeDatos // 2**i))"
   ]
  },
  {
   "cell_type": "markdown",
   "metadata": {},
   "source": [
    "#### Desordenamos los datos del set y creamos 6 sets de datos más chicos siguiendo una progresión geométrica. Utilizamos la funcion construir_dataset para darle formato correcto y separar los datos correctamente. Ahora, setsDeDatos contiene 6 tuplas de formato (X, y, X_test, y_test). Decidimos que X_test e y_test no varíen pese al número de elementos, sino que se testee siempre el clasificador contra un 20% de 42000."
   ]
  },
  {
   "cell_type": "markdown",
   "metadata": {},
   "source": [
    "## Búsqueda del par ideal de k vecinos y alpha componentes  para KNN+PCA para diferentes tamaños del set."
   ]
  },
  {
   "cell_type": "code",
   "execution_count": 8,
   "metadata": {},
   "outputs": [
    {
     "name": "stderr",
     "output_type": "stream",
     "text": [
      "100%|██████████| 15/15 [18:45<00:00, 75.06s/it]\n",
      "100%|██████████| 15/15 [12:31<00:00, 50.09s/it]\n",
      "100%|██████████| 15/15 [11:43<00:00, 46.92s/it]\n",
      "100%|██████████| 15/15 [10:30<00:00, 42.05s/it]\n",
      "100%|██████████| 15/15 [10:38<00:00, 42.54s/it]\n",
      "100%|██████████| 15/15 [10:28<00:00, 41.92s/it]\n"
     ]
    }
   ],
   "source": [
    "parIdeal = []\n",
    "accuracysDelIdeal = []\n",
    "minimof1DelIdeal = []\n",
    "tiemposDeEjecucion = []\n",
    "cantidadDeDatosDeLosSets = []\n",
    "for setDeDatos in setsDeDatos:\n",
    "    X_trains,Y_trains,X_vals,Y_vals = funciones.get_KFold_sets(setDeDatos[0],setDeDatos[1])\n",
    "    tupla, tiempo = funciones.encontrarParOptimo(X_trains,Y_trains,X_vals,Y_vals)\n",
    "    parIdeal.append((tupla[0],tupla[1]))\n",
    "    accuracysDelIdeal.append(tupla[2])\n",
    "    minimof1DelIdeal.append(tupla[3])\n",
    "    tiemposDeEjecucion.append(tiempo)\n",
    "    cantidadDeDatosDeLosSets.append(setDeDatos[0].shape)"
   ]
  },
  {
   "cell_type": "markdown",
   "metadata": {},
   "source": [
    "acc = open(\"./accuracy.txt\", \"a\")\n",
    "par = open(\"./par.txt\", \"a\")\n",
    "f1 = open(\"./f1.txt\", \"a\")\n",
    "tiempos = open(\"./tiempos.txt\", \"a\")\n",
    "\n",
    "for i in range(0,6):\n",
    "    acc.write(str(accuracysDelIdeal[i]) + \"\\n\")\n",
    "    par.write(str(parIdeal[i])+ \"\\n\")\n",
    "    tiempos.write(str(tiemposDeEjecucion[i]) + \"\\n\")\n",
    "    f1.write(str(minimof1DelIdeal[i])+ \"\\n\")\n",
    "    \n",
    "acc.close()\n",
    "par.close()\n",
    "f1.close()\n",
    "tiempos.close()"
   ]
  },
  {
   "cell_type": "code",
   "execution_count": null,
   "metadata": {},
   "outputs": [],
   "source": []
  }
 ],
 "metadata": {
  "kernelspec": {
   "display_name": "Python 3",
   "language": "python",
   "name": "python3"
  },
  "language_info": {
   "codemirror_mode": {
    "name": "ipython",
    "version": 3
   },
   "file_extension": ".py",
   "mimetype": "text/x-python",
   "name": "python",
   "nbconvert_exporter": "python",
   "pygments_lexer": "ipython3",
   "version": "3.6.9"
  }
 },
 "nbformat": 4,
 "nbformat_minor": 4
}

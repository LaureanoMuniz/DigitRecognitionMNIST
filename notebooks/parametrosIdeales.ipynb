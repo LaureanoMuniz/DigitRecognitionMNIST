{
 "cells": [
  {
   "cell_type": "markdown",
   "metadata": {},
   "source": [
    "# Búsqueda de parametros ideales para KNN y KNN+PCA.\n",
    "\n",
    "#### En este notebook buscamos cual es la cantidad k de vecinos ideal para el algoritmo de KNN. Luego buscamos cual es el par ideal de k vecinos y alpha componentes principales para el algoritmo de KNN+PCA."
   ]
  },
  {
   "cell_type": "markdown",
   "metadata": {},
   "source": [
    "## Compilando el módulo desde C++\n",
    "\n",
    "#### Compilamos el modulo desde C++. En CMakeList.txt está seteado que se corra con OpenMP para paralelizar operaciones"
   ]
  },
  {
   "cell_type": "code",
   "execution_count": 1,
   "metadata": {},
   "outputs": [
    {
     "name": "stdout",
     "output_type": "stream",
     "text": [
      "mkdir: cannot create directory ‘build’: File exists\n",
      "-- The C compiler identification is GNU 7.5.0\n",
      "-- The CXX compiler identification is GNU 7.5.0\n",
      "-- Check for working C compiler: /usr/bin/cc\n",
      "-- Check for working C compiler: /usr/bin/cc -- works\n",
      "-- Detecting C compiler ABI info\n",
      "-- Detecting C compiler ABI info - done\n",
      "-- Detecting C compile features\n",
      "-- Detecting C compile features - done\n",
      "-- Check for working CXX compiler: /usr/bin/c++\n",
      "-- Check for working CXX compiler: /usr/bin/c++ -- works\n",
      "-- Detecting CXX compiler ABI info\n",
      "-- Detecting CXX compiler ABI info - done\n",
      "-- Detecting CXX compile features\n",
      "-- Detecting CXX compile features - done\n",
      "Release mode\n",
      "-- Found OpenMP_C: -fopenmp (found version \"4.5\") \n",
      "-- Found OpenMP_CXX: -fopenmp (found version \"4.5\") \n",
      "-- Found OpenMP: TRUE (found version \"4.5\")  \n",
      "-- Found libomp without any special flags\n",
      "-- pybind11 v2.6.3 dev1\n",
      "-- Found PythonInterp: /home/orga2/tp2/bin/python (found version \"3.6.9\") \n",
      "-- Found PythonLibs: /usr/lib/x86_64-linux-gnu/libpython3.6m.so\n",
      "-- Performing Test HAS_FLTO\n",
      "-- Performing Test HAS_FLTO - Success\n",
      "CMAKE_INSTALL_PREFIX=/home/orga2/Metodos/metnum-1c2021-tp2\n",
      "-- Configuring done\n",
      "-- Generating done\n",
      "-- Build files have been written to: /home/orga2/Metodos/metnum-1c2021-tp2/build\n",
      "\u001b[35m\u001b[1mScanning dependencies of target tp2\u001b[0m\n",
      "[ 10%] \u001b[32mBuilding CXX object CMakeFiles/tp2.dir/src/main.cpp.o\u001b[0m\n",
      "[ 20%] \u001b[32mBuilding CXX object CMakeFiles/tp2.dir/src/knn.cpp.o\u001b[0m\n",
      "\u001b[01m\u001b[K/home/orga2/Metodos/metnum-1c2021-tp2/src/knn.cpp:\u001b[m\u001b[K In function ‘\u001b[01m\u001b[K_ZN13KNNClassifier7predictEN5Eigen6MatrixIdLin1ELin1ELi1ELin1ELin1EEE._omp_fn.0\u001b[m\u001b[K’:\n",
      "\u001b[01m\u001b[K/home/orga2/Metodos/metnum-1c2021-tp2/src/knn.cpp:59:16:\u001b[m\u001b[K \u001b[01;35m\u001b[Kwarning: \u001b[m\u001b[K‘\u001b[01m\u001b[Kmode\u001b[m\u001b[K’ may be used uninitialized in this function [\u001b[01;35m\u001b[K-Wmaybe-uninitialized\u001b[m\u001b[K]\n",
      "         ret[k] = mode;\n",
      "\u001b[01m\u001b[K/home/orga2/Metodos/metnum-1c2021-tp2/src/knn.cpp:52:13:\u001b[m\u001b[K \u001b[01;36m\u001b[Knote: \u001b[m\u001b[K‘\u001b[01m\u001b[Kmode\u001b[m\u001b[K’ was declared here\n",
      "         int \u001b[01;36m\u001b[Kmode\u001b[m\u001b[K;\n",
      "             \u001b[01;36m\u001b[K^~~~\u001b[m\u001b[K\n",
      "[ 30%] \u001b[32mBuilding CXX object CMakeFiles/tp2.dir/src/pca.cpp.o\u001b[0m\n",
      "[ 40%] \u001b[32mBuilding CXX object CMakeFiles/tp2.dir/src/eigen.cpp.o\u001b[0m\n",
      "[ 50%] \u001b[32m\u001b[1mLinking CXX executable tp2\u001b[0m\n",
      "[ 50%] Built target tp2\n",
      "\u001b[35m\u001b[1mScanning dependencies of target metnum\u001b[0m\n",
      "[ 60%] \u001b[32mBuilding CXX object CMakeFiles/metnum.dir/src/metnum.cpp.o\u001b[0m\n",
      "[ 70%] \u001b[32mBuilding CXX object CMakeFiles/metnum.dir/src/knn.cpp.o\u001b[0m\n",
      "[ 80%] \u001b[32mBuilding CXX object CMakeFiles/metnum.dir/src/pca.cpp.o\u001b[0m\n",
      "[ 90%] \u001b[32mBuilding CXX object CMakeFiles/metnum.dir/src/eigen.cpp.o\u001b[0m\n",
      "[100%] \u001b[32m\u001b[1mLinking CXX shared module metnum.cpython-36m-x86_64-linux-gnu.so\u001b[0m\n",
      "[100%] Built target metnum\n",
      "\u001b[36mInstall the project...\u001b[0m\n",
      "-- Install configuration: \"Release\"\n",
      "-- Installing: /home/orga2/Metodos/metnum-1c2021-tp2/notebooks/metnum.cpython-36m-x86_64-linux-gnu.so\n"
     ]
    }
   ],
   "source": [
    "!cd .. && mkdir build\n",
    "!cd ../build/ && rm -rf *\n",
    "!cd ../build && cmake \\\n",
    "  -DPYTHON_EXECUTABLE=\"$(which python)\" \\\n",
    "  -DCMAKE_BUILD_TYPE=Release ..\n",
    "!cd ../build && make install"
   ]
  },
  {
   "cell_type": "code",
   "execution_count": 2,
   "metadata": {},
   "outputs": [
    {
     "name": "stdout",
     "output_type": "stream",
     "text": [
      "/home/orga2/Metodos/metnum-1c2021-tp2/notebooks\n",
      "Python 3.6.9\n"
     ]
    }
   ],
   "source": [
    "# Verifico la correcta instalación. Si no falla el import está OK\n",
    "!pwd\n",
    "!python --version\n",
    "import metnum"
   ]
  },
  {
   "cell_type": "markdown",
   "metadata": {},
   "source": [
    "## Explorando los datos"
   ]
  },
  {
   "cell_type": "code",
   "execution_count": 3,
   "metadata": {},
   "outputs": [],
   "source": [
    "%load_ext autoreload\n",
    "%autoreload 2\n",
    "\n",
    "import pandas as pd\n",
    "from tqdm import tqdm\n",
    "import matplotlib.pyplot as plt\n",
    "import numpy as np\n",
    "import sklearn as sk\n",
    "from sklearn import metrics\n",
    "import time\n"
   ]
  },
  {
   "cell_type": "code",
   "execution_count": 4,
   "metadata": {},
   "outputs": [],
   "source": [
    "df_train = pd.read_csv(\"../data/train.csv\")"
   ]
  },
  {
   "cell_type": "markdown",
   "metadata": {},
   "source": [
    "#### Leemos el csv que tiene en cada fila una imagen de un digito y su etiqueta asociada."
   ]
  },
  {
   "cell_type": "code",
   "execution_count": 5,
   "metadata": {},
   "outputs": [],
   "source": [
    "df_train = sk.utils.shuffle(df_train, random_state = 42)\n",
    "df_train = df_train[:5000] #comentar para hacer los tests enteros"
   ]
  },
  {
   "cell_type": "code",
   "execution_count": 6,
   "metadata": {},
   "outputs": [],
   "source": [
    "cutting_point = len(df_train) - (len(df_train)//5)\n",
    "df_test = df_train[cutting_point:]\n",
    "df_train = df_train[:cutting_point]"
   ]
  },
  {
   "cell_type": "markdown",
   "metadata": {},
   "source": [
    "#### Dividimos el set de datos en dos partes. Una parte para entrenar con cross validation y una parte para validar nuestro clasificador. Entrenamos con el 80% de los datos y validamos con el 20% restante. Si se quiere entrenar con el 100% de los datos comentar este bloque. Esto ultimo serviría para testear con kaggle."
   ]
  },
  {
   "cell_type": "code",
   "execution_count": 7,
   "metadata": {},
   "outputs": [
    {
     "data": {
      "text/plain": [
       "((4000, 784), (4000, 1), (1000, 784), (1000, 1))"
      ]
     },
     "execution_count": 7,
     "metadata": {},
     "output_type": "execute_result"
    }
   ],
   "source": [
    "# Uso values para mandar todo a arrays de numpy\n",
    "X = df_train[df_train.columns[1:]].values\n",
    "y = df_train[\"label\"].values.reshape(-1, 1)\n",
    "X_test = df_test[df_test.columns[1:]].values\n",
    "y_test = df_test[\"label\"].values.reshape(-1, 1)\n",
    "X.shape, y.shape, X_test.shape, y_test.shape"
   ]
  },
  {
   "cell_type": "markdown",
   "metadata": {},
   "source": [
    "#### Pasamos los datos del set a un formato cómodo para trabajar. Chequeamos su forma."
   ]
  },
  {
   "cell_type": "markdown",
   "metadata": {},
   "source": [
    "## Validación cruzada"
   ]
  },
  {
   "cell_type": "markdown",
   "metadata": {},
   "source": [
    "Implementamos una función para obtener las diferentes particiones consideradas para la validación cruzada. Arbitrariamente decidimos hacer validación cruzada de 5 folds. La cantidad de folds ideal es calculada en la notebook \"K Fold\"."
   ]
  },
  {
   "cell_type": "code",
   "execution_count": 8,
   "metadata": {},
   "outputs": [],
   "source": [
    "def get_KFold_sets(x,y,K=5):\n",
    "    X_trains = []\n",
    "    Y_trains = []\n",
    "    X_vals = []\n",
    "    Y_vals = []\n",
    "    bucket_size = len(x)//K\n",
    "    for i in range(K):\n",
    "        low = bucket_size*i\n",
    "        high = bucket_size * (i+1)\n",
    "        X_vals.append(x[low :high])\n",
    "        Y_vals.append(y[low :high])\n",
    "        X_train,Y_train = x[:low], y[:low]\n",
    "        X_train = np.concatenate((X_train,x[high:]),axis=0)\n",
    "        Y_train = np.concatenate((Y_train,y[high:]),axis=0)\n",
    "        X_trains.append(X_train)\n",
    "        Y_trains.append(Y_train)\n",
    "    return X_trains,Y_trains,X_vals,Y_vals"
   ]
  },
  {
   "cell_type": "code",
   "execution_count": 9,
   "metadata": {},
   "outputs": [],
   "source": [
    "X_trains, Y_trains, X_vals, Y_vals = get_KFold_sets(X,y)"
   ]
  },
  {
   "cell_type": "markdown",
   "metadata": {},
   "source": [
    "## Métricas"
   ]
  },
  {
   "cell_type": "markdown",
   "metadata": {},
   "source": [
    "#### Buscamos cuales son los parametros \"ideales\" para nuestros clasificadores. Notemos que si bien el accuracy(exactitud) es un buen indicador de la calidad de nuestros parametros elegidos, también existen otras métricas que sirven para evaluarlo.\n",
    "\n",
    "#### Dentro de estas otras métricas tenemos: \n",
    "    Tiempo de ejecución\n",
    "    Exactitud\n",
    "    Curvas de precisión/recall\n",
    "    F1-Score\n",
    "    Kappa de Cohen\n",
    "   "
   ]
  },
  {
   "cell_type": "markdown",
   "metadata": {},
   "source": [
    "#### Decidimos darle mayor importancia al accuracy de los clasificadores, y en caso de obtener varios clasificadores con accuracy similar quedarnos con aquel que tenga un f1-score conveniente. Tomamos los f1-score de las 10 clases de los 5 clasificadores de mayor accuracy. Nos quedamos con aquel clasificador cuyo minimo f1-score de clase es el mayor entre todos los minimos."
   ]
  },
  {
   "cell_type": "markdown",
   "metadata": {},
   "source": [
    "## Búsqueda de k ideal de KNN"
   ]
  },
  {
   "cell_type": "markdown",
   "metadata": {},
   "source": [
    "#### Buscamos dentro del intervalo [1,101] con saltos de a 2, para darnos una idea de donde pueden ubicarse los k de mejor accuracy. Ademas, aprovecharemos a medir el tiempo de ejecucion para un experimento futuro."
   ]
  },
  {
   "cell_type": "code",
   "execution_count": 17,
   "metadata": {},
   "outputs": [
    {
     "name": "stderr",
     "output_type": "stream",
     "text": [
      "100%|██████████| 51/51 [05:51<00:00,  6.90s/it]\n"
     ]
    }
   ],
   "source": [
    "accsk1_a_101 = []\n",
    "knntimes = []\n",
    "from tqdm import tqdm\n",
    "for k in tqdm(range(1,102,2)):\n",
    "    acc = 0\n",
    "    for i in range(len(X_trains)): \n",
    "        clf = metnum.KNNClassifier(k)\n",
    "        start = time.process_time()\n",
    "        clf.fit(X_trains[i],Y_trains[i])\n",
    "        y_pred = clf.predict(X_vals[i])\n",
    "        end = time.process_time()\n",
    "        acc += sk.metrics.accuracy_score(Y_vals[i], y_pred)\n",
    "        knntimes.append(end - start)\n",
    "    acc = acc/len(X_trains)\n",
    "    accsk1_a_101.append((acc,k))\n",
    "knntime = np.mean(knntimes)"
   ]
  },
  {
   "cell_type": "code",
   "execution_count": 18,
   "metadata": {},
   "outputs": [
    {
     "data": {
      "image/png": "[encoded data removed]",
      "text/plain": [
       "<Figure size 691.2x518.4 with 1 Axes>"
      ]
     },
     "metadata": {
      "needs_background": "light"
     },
     "output_type": "display_data"
    }
   ],
   "source": [
    "acc_grafico, k_grafico = zip(*accsk1_a_101)\n",
    "plt.figure(figsize = (6.4 * 1.5, 4.8 * 1.5))\n",
    "plt.title(\"Accuracy en función de cantidad de vecinos \\n Intervalo [1,101]\")\n",
    "plt.xlabel(\"Cantidad k de vecinos\")\n",
    "plt.ylabel(\"Accuracy\")\n",
    "plt.plot(k_grafico,acc_grafico)\n",
    "plt.savefig('./graficosSinPeso/accsk1_a_101.png')\n"
   ]
  },
  {
   "cell_type": "markdown",
   "metadata": {},
   "source": [
    "#### Observamos que las k que resultan en un mejor accuracy están en los números mas bajos. Buscamos dentro del intervalo [1,15] con saltos de a 1 para identificar cuales son los k que resultan en una mejor accuracy."
   ]
  },
  {
   "cell_type": "code",
   "execution_count": 19,
   "metadata": {},
   "outputs": [
    {
     "name": "stderr",
     "output_type": "stream",
     "text": [
      "100%|██████████| 15/15 [01:43<00:00,  6.92s/it]\n"
     ]
    }
   ],
   "source": [
    "accsk1_a_15 = []\n",
    "\n",
    "for k in tqdm(range(1,16,1)):\n",
    "    acc = 0\n",
    "    for i in range(len(X_trains)):\n",
    "        clf = metnum.KNNClassifier(k)\n",
    "        clf.fit(X_trains[i],Y_trains[i])\n",
    "        y_pred = clf.predict(X_vals[i])\n",
    "        acc += sk.metrics.accuracy_score(Y_vals[i], y_pred)\n",
    "    acc = acc/len(X_trains)\n",
    "    accsk1_a_15.append((acc,k))"
   ]
  },
  {
   "cell_type": "code",
   "execution_count": 20,
   "metadata": {},
   "outputs": [
    {
     "data": {
      "image/png": "[encoded data removed]",
      "text/plain": [
       "<Figure size 691.2x518.4 with 1 Axes>"
      ]
     },
     "metadata": {
      "needs_background": "light"
     },
     "output_type": "display_data"
    }
   ],
   "source": [
    "\n",
    "acc_grafico, k_grafico = zip(*accsk1_a_15)\n",
    "plt.figure(figsize = (6.4 * 1.5, 4.8 * 1.5))\n",
    "plt.title(\"Accuracy en función de cantidad de vecinos.\\n Intervalo [1,15]\")\n",
    "plt.xlabel(\"Cantidad k de vecinos\")\n",
    "plt.ylabel(\"Accuracy\")\n",
    "plt.plot(k_grafico,acc_grafico)\n",
    "plt.savefig('./graficosSinPeso/accsk1_a_15.png')"
   ]
  },
  {
   "cell_type": "code",
   "execution_count": 21,
   "metadata": {},
   "outputs": [
    {
     "name": "stdout",
     "output_type": "stream",
     "text": [
      "[(0.925, 3), (0.9244999999999999, 5), (0.9235, 1), (0.9195, 4), (0.9182499999999999, 6)]\n"
     ]
    }
   ],
   "source": [
    "accsk1_a_15.sort(reverse = True)\n",
    "mejores5k = accsk1_a_15\n",
    "mejores5k = mejores5k[:5]\n",
    "print(mejores5k)"
   ]
  },
  {
   "cell_type": "markdown",
   "metadata": {},
   "source": [
    "#### Obtenemos los 5 mejores k en accuracy. Observamos que todos tienen una accuracy mayor a 0.961 y menor a 0.964. Como estas accuracys son muy similares decidimos quedarnos con la que tenga un f1-score conveniente."
   ]
  },
  {
   "cell_type": "code",
   "execution_count": 22,
   "metadata": {},
   "outputs": [
    {
     "name": "stdout",
     "output_type": "stream",
     "text": [
      "[(0.8834355828220859, 3), (0.8819875776397514, 5), (0.880503144654088, 6), (0.8765432098765432, 4), (0.84472049689441, 1)]\n",
      "[5, 5, 5, 5, 5]\n",
      "Nuestra k ideal de vecinos es  3\n"
     ]
    }
   ],
   "source": [
    "minimosf1 = []\n",
    "digitosConPeoresF1 = []\n",
    "for tupla in mejores5k:\n",
    "    clf = metnum.KNNClassifier(tupla[1])\n",
    "    clf.fit(X, y)\n",
    "    y_pred = clf.predict(X_test)\n",
    "    f1_scorePorClase = sk.metrics.f1_score(y_test,y_pred, average = None)\n",
    "    digitosConPeoresF1.append(np.where(f1_scorePorClase == np.amin(f1_scorePorClase))[0][0])\n",
    "    minimosf1.append((np.amin(f1_scorePorClase),(tupla[1])))\n",
    "    \n",
    "\n",
    "minimosf1.sort(reverse = True)\n",
    "print(minimosf1)\n",
    "print(digitosConPeoresF1)\n",
    "print(\"Nuestra k ideal de vecinos es \", minimosf1[0][1])"
   ]
  },
  {
   "cell_type": "code",
   "execution_count": 23,
   "metadata": {},
   "outputs": [
    {
     "name": "stdout",
     "output_type": "stream",
     "text": [
      "0.8834355828220859\n"
     ]
    }
   ],
   "source": [
    "print(np.amin(minimosf1[0][0]))"
   ]
  },
  {
   "cell_type": "markdown",
   "metadata": {},
   "source": [
    "#### Observamos que la k de mayor accuracy coincide con la k cuyo minimo f1 score es el conveniente. Luego, nuestro k ideal es 3."
   ]
  },
  {
   "cell_type": "markdown",
   "metadata": {},
   "source": [
    "## Estimacion de alpha componentes ideal."
   ]
  },
  {
   "cell_type": "markdown",
   "metadata": {},
   "source": [
    "#### Partimos de nuestra k ideal knn para buscar el alpha ideal asociado. Luego buscamos en un rango acotado de k's y alpha's si es que existe una mejor combinación de parámetros.\n",
    "#### Como hipotetizamos que a mayor alpha, mejor sera el accuracy, nos interesa comparar el desempenio de cada alpha con su tiempo de ejecucion."
   ]
  },
  {
   "cell_type": "code",
   "execution_count": 10,
   "metadata": {},
   "outputs": [
    {
     "name": "stderr",
     "output_type": "stream",
     "text": [
      "100%|██████████| 11/11 [08:01<00:00, 43.81s/it]\n"
     ]
    }
   ],
   "source": [
    "k = 3 ### \"K ideal obtenida en KNN\"\n",
    "accsalpha1_a_101 = []\n",
    "timesalpha1_a_101 = []\n",
    "\n",
    "\n",
    "for alpha in tqdm(range(1,102,10)):\n",
    "    acc = 0\n",
    "    this_time = 0\n",
    "    for i in range(len(X_trains)):\n",
    "        pca = metnum.PCA(alpha)\n",
    "        clf = metnum.KNNClassifier(k)\n",
    "        pca.fit(X_trains[i]) \n",
    "        start = time.process_time()\n",
    "        X_train_transformada = pca.transform(X_trains[i])\n",
    "        X_val_transformada = pca.transform(X_vals[i])\n",
    "        clf.fit(X_train_transformada,Y_trains[i])\n",
    "        y_pred = clf.predict(X_val_transformada)\n",
    "        end = time.process_time()\n",
    "        acc += sk.metrics.accuracy_score(Y_vals[i], y_pred)\n",
    "        this_time += (end - start)\n",
    "    acc = acc/len(X_trains)\n",
    "    this_time = this_time/len(X_trains)\n",
    "    accsalpha1_a_101.append((acc,alpha))\n",
    "    timesalpha1_a_101.append((this_time,alpha))\n"
   ]
  },
  {
   "cell_type": "code",
   "execution_count": 11,
   "metadata": {},
   "outputs": [
    {
     "data": {
      "image/png": "[encoded data removed]",
      "text/plain": [
       "<Figure size 691.2x518.4 with 1 Axes>"
      ]
     },
     "metadata": {
      "needs_background": "light"
     },
     "output_type": "display_data"
    }
   ],
   "source": [
    "acc_grafico, alpha_grafico = zip(*accsalpha1_a_101)\n",
    "plt.figure(figsize = (6.4 * 1.5, 4.8 * 1.5))\n",
    "plt.title(\"Accuracy en función de cantidad de componente principales.\\n Intervalo [1,101]\")\n",
    "plt.xlabel(\"Cantidad alpha de componentes\")\n",
    "plt.ylabel(\"Accuracy\")\n",
    "plt.plot(alpha_grafico,acc_grafico)\n",
    "plt.savefig('./graficosSinPeso/accsalpha1_a_101.png')"
   ]
  },
  {
   "cell_type": "markdown",
   "metadata": {},
   "source": [
    "### Observamos un \"codito\". Si bien se aprecia que a mayor cantidad de alpha componentes se obtiene una mayor accuracy, podemos identificar que este crecimiento en accuracy se vuelve paulatino pasado los 20 componentes."
   ]
  },
  {
   "cell_type": "code",
   "execution_count": 28,
   "metadata": {},
   "outputs": [
    {
     "data": {
      "image/png": "[encoded data removed]",
      "text/plain": [
       "<Figure size 691.2x518.4 with 1 Axes>"
      ]
     },
     "metadata": {
      "needs_background": "light"
     },
     "output_type": "display_data"
    }
   ],
   "source": [
    "time_grafico, alpha_grafico = zip(*timesalpha1_a_101)\n",
    "knntime_grafico = [knntime] * len(alpha_grafico)\n",
    "plt.figure(figsize = (6.4 * 1.5, 4.8 * 1.5))\n",
    "plt.title(\"Tiempo de ejecución en función de cantidad de componente principales.\\n Intervalo [1,101]\")\n",
    "plt.xlabel(\"Cantidad alpha de componentes\")\n",
    "plt.ylabel(\"Tiempo de ejecución\")\n",
    "plt.plot(alpha_grafico,time_grafico)\n",
    "#plt.plot(alpha_grafico,knntime_grafico)\n",
    "plt.savefig('./graficosSinPeso/timesalpha1_a_101.png')"
   ]
  },
  {
   "cell_type": "markdown",
   "metadata": {},
   "source": [
    "### Como vemos crece de forma lineal. Ademas, para alphas grandes el tiempo comienza a ser prolongado. Buscaremos entonces el punto en el que la accuracy comienze a aplanarse, para no extendernos por demas en el tiempo."
   ]
  },
  {
   "cell_type": "code",
   "execution_count": 30,
   "metadata": {},
   "outputs": [
    {
     "name": "stderr",
     "output_type": "stream",
     "text": [
      "100%|██████████| 9/9 [03:12<00:00, 21.35s/it]\n"
     ]
    }
   ],
   "source": [
    "k = 3 \n",
    "accsalpha10_a_50 = []\n",
    "for alpha in tqdm(range(10,51,5)):\n",
    "    acc = 0\n",
    "    for i in range(len(X_trains)):\n",
    "        pca = metnum.PCA(alpha)\n",
    "        clf = metnum.KNNClassifier(k)\n",
    "        pca.fit(X_trains[i])\n",
    "        X_train_transformada = pca.transform(X_trains[i])\n",
    "        X_val_transformada = pca.transform(X_vals[i])\n",
    "        clf.fit(X_train_transformada,Y_trains[i])\n",
    "        y_pred = clf.predict(X_val_transformada)\n",
    "        acc += sk.metrics.accuracy_score(Y_vals[i], y_pred)\n",
    "    acc = acc/len(X_trains)\n",
    "    accsalpha10_a_50.append((acc,alpha))"
   ]
  },
  {
   "cell_type": "code",
   "execution_count": 23,
   "metadata": {},
   "outputs": [
    {
     "data": {
      "image/png": "[encoded data removed]",
      "text/plain": [
       "<Figure size 691.2x518.4 with 1 Axes>"
      ]
     },
     "metadata": {
      "needs_background": "light"
     },
     "output_type": "display_data"
    }
   ],
   "source": [
    "acc_grafico, alpha_grafico = zip(*accsalpha10_a_50)\n",
    "plt.figure(figsize = (6.4 * 1.5, 4.8 * 1.5))\n",
    "plt.title(\"Accuracy en función de cantidad de componente principales.\\n Intervalo [1,50]\")\n",
    "plt.xlabel(\"Cantidad alpha de componentes\")\n",
    "plt.ylabel(\"Accuracy\")\n",
    "plt.plot(alpha_grafico,acc_grafico)\n",
    "plt.savefig('./graficosSinPeso/accsalpha10_a_50.png')"
   ]
  },
  {
   "cell_type": "markdown",
   "metadata": {},
   "source": [
    "### Se ve a simple vista que para los valores 25-30 de alpha el valor de la accuracy comienza a detener su crecimiento. Utilizaremos entonces ese entorno."
   ]
  },
  {
   "cell_type": "markdown",
   "metadata": {},
   "source": [
    "## Busqueda del par k vecinos, alpha componentes ideal. "
   ]
  },
  {
   "cell_type": "markdown",
   "metadata": {},
   "source": [
    "### Utilizaremos el k y alpha que estimamos anteriormente para intentar encontrar el par que mejor se desempenie. Asumimos que al fijar un parametro, el valor que obtenemos al maximizar la accuracy por sobre el otro no se aleja demasiado del ideal. Entonces, esperamos que este mejor par se encuentre en un intervalo cercano de de los valores ideales \"fijos\". Para encontrarlo, calculamos el accuracy para k en el intervalo [1,15] y alpha en el intervalo [25,35], es decir, en intervalos centrados en los valores ideales que encontramos anteriormente."
   ]
  },
  {
   "cell_type": "code",
   "execution_count": 32,
   "metadata": {},
   "outputs": [
    {
     "name": "stderr",
     "output_type": "stream",
     "text": [
      "  0%|          | 0/15 [00:52<?, ?it/s]\n"
     ]
    },
    {
     "ename": "KeyboardInterrupt",
     "evalue": "",
     "output_type": "error",
     "traceback": [
      "\u001b[0;31m---------------------------------------------------------------------------\u001b[0m",
      "\u001b[0;31mKeyboardInterrupt\u001b[0m                         Traceback (most recent call last)",
      "\u001b[0;32m<ipython-input-32-fd0898559258>\u001b[0m in \u001b[0;36m<module>\u001b[0;34m\u001b[0m\n\u001b[1;32m      7\u001b[0m         \u001b[0;32mfor\u001b[0m \u001b[0mi\u001b[0m \u001b[0;32min\u001b[0m \u001b[0mrange\u001b[0m\u001b[0;34m(\u001b[0m\u001b[0mlen\u001b[0m\u001b[0;34m(\u001b[0m\u001b[0mX_trains\u001b[0m\u001b[0;34m)\u001b[0m\u001b[0;34m)\u001b[0m\u001b[0;34m:\u001b[0m\u001b[0;34m\u001b[0m\u001b[0;34m\u001b[0m\u001b[0m\n\u001b[1;32m      8\u001b[0m             \u001b[0mpca\u001b[0m \u001b[0;34m=\u001b[0m \u001b[0mmetnum\u001b[0m\u001b[0;34m.\u001b[0m\u001b[0mPCA\u001b[0m\u001b[0;34m(\u001b[0m\u001b[0malpha\u001b[0m\u001b[0;34m)\u001b[0m\u001b[0;34m\u001b[0m\u001b[0;34m\u001b[0m\u001b[0m\n\u001b[0;32m----> 9\u001b[0;31m             \u001b[0mpca\u001b[0m\u001b[0;34m.\u001b[0m\u001b[0mfit\u001b[0m\u001b[0;34m(\u001b[0m\u001b[0mX_trains\u001b[0m\u001b[0;34m[\u001b[0m\u001b[0mi\u001b[0m\u001b[0;34m]\u001b[0m\u001b[0;34m)\u001b[0m\u001b[0;34m\u001b[0m\u001b[0;34m\u001b[0m\u001b[0m\n\u001b[0m\u001b[1;32m     10\u001b[0m             \u001b[0mX_trains_transformadas\u001b[0m\u001b[0;34m.\u001b[0m\u001b[0mappend\u001b[0m\u001b[0;34m(\u001b[0m\u001b[0mpca\u001b[0m\u001b[0;34m.\u001b[0m\u001b[0mtransform\u001b[0m\u001b[0;34m(\u001b[0m\u001b[0mX_trains\u001b[0m\u001b[0;34m[\u001b[0m\u001b[0mi\u001b[0m\u001b[0;34m]\u001b[0m\u001b[0;34m)\u001b[0m\u001b[0;34m)\u001b[0m\u001b[0;34m\u001b[0m\u001b[0;34m\u001b[0m\u001b[0m\n\u001b[1;32m     11\u001b[0m             \u001b[0mX_vals_transformadas\u001b[0m\u001b[0;34m.\u001b[0m\u001b[0mappend\u001b[0m\u001b[0;34m(\u001b[0m\u001b[0mpca\u001b[0m\u001b[0;34m.\u001b[0m\u001b[0mtransform\u001b[0m\u001b[0;34m(\u001b[0m\u001b[0mX_vals\u001b[0m\u001b[0;34m[\u001b[0m\u001b[0mi\u001b[0m\u001b[0;34m]\u001b[0m\u001b[0;34m)\u001b[0m\u001b[0;34m)\u001b[0m\u001b[0;34m\u001b[0m\u001b[0;34m\u001b[0m\u001b[0m\n",
      "\u001b[0;31mKeyboardInterrupt\u001b[0m: "
     ]
    }
   ],
   "source": [
    "accspar = []\n",
    "for k in tqdm(range(1,16,1)):\n",
    "    for alpha in range(25,36):\n",
    "        acc = 0\n",
    "        for i in range(len(X_trains)):\n",
    "            pca = metnum.PCA(alpha)\n",
    "            pca.fit(X_trains[i])\n",
    "            X_train_transformada = pca.transform(X_trains[i])\n",
    "            X_val_transformada = pca.append(pca.transform(X_vals[i]))\n",
    "            clf = metnum.KNNClassifier(k)\n",
    "            clf.fit(X_train_transformada,Y_trains[i])\n",
    "            y_pred = clf.predict(X_val_transformada)\n",
    "            acc += sk.metrics.accuracy_score(Y_vals[i], y_pred)\n",
    "        acc = acc/len(X_trains)\n",
    "        accspar.append((acc,k,alpha)) "
   ]
  },
  {
   "cell_type": "code",
   "execution_count": null,
   "metadata": {},
   "outputs": [],
   "source": [
    "accspar.sort(reverse = True)\n",
    "mejores5pares = accspar\n",
    "mejores5pares = mejores5pares[:5]\n",
    "print(mejores5pares)"
   ]
  },
  {
   "cell_type": "markdown",
   "metadata": {},
   "source": [
    "#### Observamos que nuestro par elegido es el que tiene mejor accuracy en su entorno. Nuevamente, tomamos los mejores 5 y nos quedamos con el que tenga f1 score conveniente."
   ]
  },
  {
   "cell_type": "code",
   "execution_count": null,
   "metadata": {},
   "outputs": [],
   "source": [
    "minimosf1 = []\n",
    "digitosConPeoresF1 = []\n",
    "for tupla in mejores5pares:\n",
    "    clf = metnum.KNNClassifier(tupla[1])\n",
    "    clf.fit(X, y)\n",
    "    y_pred = clf.predict(X_test)\n",
    "    f1_scorePorClase = sk.metrics.f1_score(y_test,y_pred, average = None)\n",
    "    digitosConPeoresF1.append(np.where(f1_scorePorClase == np.amin(f1_scorePorClase))[0][0])\n",
    "    minimosf1.append((np.amin(f1_scorePorClase),(tupla[1],tupla[2])))\n",
    "    \n",
    "minimosf1.sort(reverse = True)\n",
    "print(minimosf1)\n",
    "print(digitosConPeoresF1)\n",
    "print(\"Nuestra par ideal es \", (minimosf1[0][1]))"
   ]
  }
 ],
 "metadata": {
  "kernelspec": {
   "display_name": "Python 3",
   "language": "python",
   "name": "python3"
  },
  "language_info": {
   "codemirror_mode": {
    "name": "ipython",
    "version": 3
   },
   "file_extension": ".py",
   "mimetype": "text/x-python",
   "name": "python",
   "nbconvert_exporter": "python",
   "pygments_lexer": "ipython3",
   "version": "3.6.9"
  }
 },
 "nbformat": 4,
 "nbformat_minor": 4
}

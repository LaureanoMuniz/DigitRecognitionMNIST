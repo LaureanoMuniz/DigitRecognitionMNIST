{
 "cells": [
  {
   "cell_type": "markdown",
   "metadata": {},
   "source": [
    "# Búsqueda de parametros ideales para KNN y KNN+PCA.\n",
    "\n",
    "#### En este notebook buscamos cual es la cantidad k de vecinos ideal para el algoritmo de KNN. Luego buscamos cual es el par ideal de k vecinos y alpha componentes principales para el algoritmo de KNN+PCA."
   ]
  },
  {
   "cell_type": "markdown",
   "metadata": {},
   "source": [
    "## Compilando el módulo desde C++\n",
    "\n",
    "#### Compilamos el modulo desde C++. En CMakeList.txt está seteado que se corra con OpenMP para paralelizar operaciones"
   ]
  },
  {
   "cell_type": "code",
   "execution_count": 76,
   "metadata": {},
   "outputs": [
    {
     "name": "stdout",
     "output_type": "stream",
     "text": [
      "mkdir: no se puede crear el directorio «build»: El archivo ya existe\n",
      "-- The C compiler identification is GNU 9.3.0\n",
      "-- The CXX compiler identification is GNU 9.3.0\n",
      "-- Check for working C compiler: /usr/bin/cc\n",
      "-- Check for working C compiler: /usr/bin/cc -- works\n",
      "-- Detecting C compiler ABI info\n",
      "-- Detecting C compiler ABI info - done\n",
      "-- Detecting C compile features\n",
      "-- Detecting C compile features - done\n",
      "-- Check for working CXX compiler: /usr/bin/c++\n",
      "-- Check for working CXX compiler: /usr/bin/c++ -- works\n",
      "-- Detecting CXX compiler ABI info\n",
      "-- Detecting CXX compiler ABI info - done\n",
      "-- Detecting CXX compile features\n",
      "-- Detecting CXX compile features - done\n",
      "Release mode\n",
      "-- Found OpenMP_C: -fopenmp (found version \"4.5\") \n",
      "-- Found OpenMP_CXX: -fopenmp (found version \"4.5\") \n",
      "-- Found OpenMP: TRUE (found version \"4.5\")  \n",
      "-- Found libomp without any special flags\n",
      "-- pybind11 v2.6.3 dev1\n",
      "-- Found PythonInterp: /home/laureano/Documentos/met2021/grupal/metnum-1c2021-tp2/tp2/bin/python (found version \"3.8.5\") \n",
      "-- Found PythonLibs: /usr/lib/x86_64-linux-gnu/libpython3.8.so\n",
      "-- Performing Test HAS_FLTO\n",
      "-- Performing Test HAS_FLTO - Success\n",
      "CMAKE_INSTALL_PREFIX=/home/laureano/Documentos/met2021/grupal/metnum-1c2021-tp2\n",
      "-- Configuring done\n",
      "-- Generating done\n",
      "-- Build files have been written to: /home/laureano/Documentos/met2021/grupal/metnum-1c2021-tp2/build\n",
      "\u001b[35m\u001b[1mScanning dependencies of target tp2\u001b[0m\n",
      "[ 10%] \u001b[32mBuilding CXX object CMakeFiles/tp2.dir/src/main.cpp.o\u001b[0m\n",
      "[ 20%] \u001b[32mBuilding CXX object CMakeFiles/tp2.dir/src/knn.cpp.o\u001b[0m\n",
      "\u001b[01m\u001b[K/home/laureano/Documentos/met2021/grupal/metnum-1c2021-tp2/src/knn.cpp:\u001b[m\u001b[K In function ‘\u001b[01m\u001b[K_ZN13KNNClassifier7predictEN5Eigen6MatrixIdLin1ELin1ELi1ELin1ELin1EEE._omp_fn.0\u001b[m\u001b[K’:\n",
      "\u001b[01m\u001b[K/home/laureano/Documentos/met2021/grupal/metnum-1c2021-tp2/src/knn.cpp:59:16:\u001b[m\u001b[K \u001b[01;35m\u001b[Kwarning: \u001b[m\u001b[K‘\u001b[01m\u001b[Kmode\u001b[m\u001b[K’ may be used uninitialized in this function [\u001b[01;35m\u001b[K-Wmaybe-uninitialized\u001b[m\u001b[K]\n",
      "   59 |         ret[k] = mode;\n",
      "\u001b[01m\u001b[K/home/laureano/Documentos/met2021/grupal/metnum-1c2021-tp2/src/knn.cpp:52:13:\u001b[m\u001b[K \u001b[01;36m\u001b[Knote: \u001b[m\u001b[K‘\u001b[01m\u001b[Kmode\u001b[m\u001b[K’ was declared here\n",
      "   52 |         int \u001b[01;36m\u001b[Kmode\u001b[m\u001b[K;\n",
      "      |             \u001b[01;36m\u001b[K^~~~\u001b[m\u001b[K\n",
      "[ 30%] \u001b[32mBuilding CXX object CMakeFiles/tp2.dir/src/pca.cpp.o\u001b[0m\n",
      "[ 40%] \u001b[32mBuilding CXX object CMakeFiles/tp2.dir/src/eigen.cpp.o\u001b[0m\n",
      "[ 50%] \u001b[32m\u001b[1mLinking CXX executable tp2\u001b[0m\n",
      "[ 50%] Built target tp2\n",
      "\u001b[35m\u001b[1mScanning dependencies of target metnum\u001b[0m\n",
      "[ 60%] \u001b[32mBuilding CXX object CMakeFiles/metnum.dir/src/metnum.cpp.o\u001b[0m\n",
      "[ 70%] \u001b[32mBuilding CXX object CMakeFiles/metnum.dir/src/knn.cpp.o\u001b[0m\n",
      "[ 80%] \u001b[32mBuilding CXX object CMakeFiles/metnum.dir/src/pca.cpp.o\u001b[0m\n",
      "[ 90%] \u001b[32mBuilding CXX object CMakeFiles/metnum.dir/src/eigen.cpp.o\u001b[0m\n",
      "[100%] \u001b[32m\u001b[1mLinking CXX shared module metnum.cpython-38-x86_64-linux-gnu.so\u001b[0m\n",
      "[100%] Built target metnum\n",
      "\u001b[36mInstall the project...\u001b[0m\n",
      "-- Install configuration: \"Release\"\n",
      "-- Installing: /home/laureano/Documentos/met2021/grupal/metnum-1c2021-tp2/notebooks/metnum.cpython-38-x86_64-linux-gnu.so\n"
     ]
    }
   ],
   "source": [
    "!cd .. && mkdir build\n",
    "!cd ../build/ && rm -rf *\n",
    "!cd ../build && cmake \\\n",
    "  -DPYTHON_EXECUTABLE=\"$(which python)\" \\\n",
    "  -DCMAKE_BUILD_TYPE=Release ..\n",
    "!cd ../build && make install"
   ]
  },
  {
   "cell_type": "code",
   "execution_count": 77,
   "metadata": {},
   "outputs": [
    {
     "name": "stdout",
     "output_type": "stream",
     "text": [
      "/home/laureano/Documentos/met2021/grupal/metnum-1c2021-tp2/notebooks\n",
      "Python 3.8.5\n"
     ]
    }
   ],
   "source": [
    "# Verifico la correcta instalación. Si no falla el import está OK\n",
    "!pwd\n",
    "!python --version\n",
    "import metnum"
   ]
  },
  {
   "cell_type": "markdown",
   "metadata": {},
   "source": [
    "## Explorando los datos"
   ]
  },
  {
   "cell_type": "code",
   "execution_count": 78,
   "metadata": {},
   "outputs": [
    {
     "name": "stdout",
     "output_type": "stream",
     "text": [
      "The autoreload extension is already loaded. To reload it, use:\n",
      "  %reload_ext autoreload\n"
     ]
    }
   ],
   "source": [
    "%load_ext autoreload\n",
    "%autoreload 2\n",
    "\n",
    "import pandas as pd\n",
    "from tqdm import tqdm\n",
    "import matplotlib.pyplot as plt\n",
    "import numpy as np\n",
    "import sklearn as sk\n"
   ]
  },
  {
   "cell_type": "code",
   "execution_count": 79,
   "metadata": {},
   "outputs": [],
   "source": [
    "df_train = pd.read_csv(\"../data/train.csv\")"
   ]
  },
  {
   "cell_type": "markdown",
   "metadata": {},
   "source": [
    "#### Leemos el csv que tiene en cada fila una imagen de un digito y su etiqueta asociada."
   ]
  },
  {
   "cell_type": "code",
   "execution_count": 80,
   "metadata": {},
   "outputs": [],
   "source": [
    "df_train = sk.utils.shuffle(df_train, random_state = 42)\n",
    "df_train = df_train[:5000]"
   ]
  },
  {
   "cell_type": "code",
   "execution_count": 81,
   "metadata": {},
   "outputs": [],
   "source": [
    "cutting_point = len(df_train) - (len(df_train)//5)\n",
    "df_test = df_train[cutting_point:]\n",
    "df_train = df_train[:cutting_point]\n"
   ]
  },
  {
   "cell_type": "markdown",
   "metadata": {},
   "source": [
    "#### Dividimos el set de datos en dos partes. Una parte para entrenar con cross validation y una parte para validar nuestro clasificador. Entrenamos con el 80% de los datos y validamos con el 20% restante. Si se quiere entrenar con el 100% de los datos comentar este bloque. Esto ultimo serviría para testear con kaggle."
   ]
  },
  {
   "cell_type": "code",
   "execution_count": 82,
   "metadata": {},
   "outputs": [
    {
     "data": {
      "text/plain": [
       "((4000, 784), (4000, 1), (1000, 784), (1000, 1))"
      ]
     },
     "execution_count": 82,
     "metadata": {},
     "output_type": "execute_result"
    }
   ],
   "source": [
    "# Uso values para mandar todo a arrays de numpy\n",
    "X = df_train[df_train.columns[1:]].values\n",
    "y = df_train[\"label\"].values.reshape(-1, 1)\n",
    "X_test = df_test[df_test.columns[1:]].values\n",
    "y_test = df_test[\"label\"].values.reshape(-1, 1)\n",
    "X.shape, y.shape, X_test.shape, y_test.shape"
   ]
  },
  {
   "cell_type": "code",
   "execution_count": 83,
   "metadata": {},
   "outputs": [],
   "source": [
    "#### Pasamos los datos del set a un formato cómodo para trabajar. Chequeamos su forma."
   ]
  },
  {
   "cell_type": "markdown",
   "metadata": {},
   "source": [
    "## Validación cruzada"
   ]
  },
  {
   "cell_type": "markdown",
   "metadata": {},
   "source": [
    "Implementamos una función para obtener las diferentes particiones consideradas para la validación cruzada. Arbitrariamente decidimos hacer validación cruzada de 5 folds. La cantidad de folds ideal es calculada en la notebook \"K Fold\"."
   ]
  },
  {
   "cell_type": "code",
   "execution_count": 84,
   "metadata": {},
   "outputs": [],
   "source": [
    "\n",
    "def get_KFold_sets(x,y,K=5):\n",
    "    X_trains = []\n",
    "    Y_trains = []\n",
    "    X_vals = []\n",
    "    Y_vals = []\n",
    "    bucket_size = len(x)//K\n",
    "    for i in range(K):\n",
    "        low = bucket_size*i\n",
    "        high = bucket_size * (i+1)\n",
    "        X_vals.append(x[low :high])\n",
    "        Y_vals.append(y[low :high])\n",
    "        X_train,Y_train = x[:low], y[:low]\n",
    "        X_train = np.concatenate((X_train,x[high:]),axis=0)\n",
    "        Y_train = np.concatenate((Y_train,y[high:]),axis=0)\n",
    "        X_trains.append(X_train)\n",
    "        Y_trains.append(Y_train)\n",
    "    return X_trains,Y_trains,X_vals,Y_vals"
   ]
  },
  {
   "cell_type": "code",
   "execution_count": 85,
   "metadata": {},
   "outputs": [],
   "source": [
    "X_trains, Y_trains, X_vals, Y_vals = get_KFold_sets(X,y)"
   ]
  },
  {
   "cell_type": "markdown",
   "metadata": {},
   "source": [
    "## Métricas"
   ]
  },
  {
   "cell_type": "markdown",
   "metadata": {},
   "source": [
    "#### Buscamos cuales son los parametros \"ideales\" para nuestros clasificadores. Notemos que si bien el accuracy(exactitud) es un buen indicador de la calidad de nuestros parametros elegidos, también existen otras métricas que sirven para evaluarlo.\n",
    "\n",
    "#### Dentro de estas otras métricas tenemos: \n",
    "    Tiempo de ejecución\n",
    "    Exactitud\n",
    "    Curvas de precisión/recall\n",
    "    F1-Score\n",
    "    Kappa de Cohen\n",
    "   "
   ]
  },
  {
   "cell_type": "markdown",
   "metadata": {},
   "source": [
    "#TODO: Poner un lindo formato"
   ]
  },
  {
   "cell_type": "markdown",
   "metadata": {},
   "source": [
    "#### Decidimos darle mucho imporancia al accuracy de los clasificadores, y en caso de obtener varios clasificadores con accuracy similar quedarnos con aquel que tenga un f1-score conveniente. Tomamos los f1-score de las 10 clases de los 5 clasificadores de mayor accuracy. Nos quedamos con aquel clasificador cuyo minimo f1-score de clase es el mayor entre todos los minimos."
   ]
  },
  {
   "cell_type": "markdown",
   "metadata": {},
   "source": [
    "## Busqueda de k ideal de KNN"
   ]
  },
  {
   "cell_type": "markdown",
   "metadata": {},
   "source": [
    "#### Buscamos dentro del intervalo [1,101] con saltos de a 2, para darnos una idea de donde pueden ubicarse los k de mejor accuracy."
   ]
  },
  {
   "cell_type": "code",
   "execution_count": 116,
   "metadata": {},
   "outputs": [
    {
     "name": "stderr",
     "output_type": "stream",
     "text": [
      "100%|██████████| 51/51 [00:28<00:00,  1.78it/s]\n"
     ]
    }
   ],
   "source": [
    "accsk1_a_101 = []\n",
    "\n",
    "from tqdm import tqdm\n",
    "for k in tqdm(range(1,102,2)):\n",
    "    acc = 0\n",
    "    for i in range(len(X_trains)): \n",
    "        clf = metnum.KNNClassifier(k)\n",
    "        clf.fit(X_trains[i],Y_trains[i])\n",
    "        y_pred = clf.predict(X_vals[i])\n",
    "        acc += sk.metrics.accuracy_score(Y_vals[i], y_pred)\n",
    "    acc = acc/len(X_trains)\n",
    "    accsk1_a_101.append((acc,k))"
   ]
  },
  {
   "cell_type": "code",
   "execution_count": 117,
   "metadata": {},
   "outputs": [
    {
     "name": "stdout",
     "output_type": "stream",
     "text": [
      "[(0.9235, 1), (0.9285, 3), (0.9257500000000001, 5), (0.9209999999999999, 7), (0.917, 9), (0.91625, 11), (0.91175, 13), (0.9102499999999999, 15), (0.90625, 17), (0.90425, 19), (0.9012500000000001, 21), (0.9005000000000001, 23), (0.8985000000000001, 25), (0.898, 27), (0.8942500000000001, 29), (0.8920000000000001, 31), (0.88825, 33), (0.8872500000000001, 35), (0.8869999999999999, 37), (0.88275, 39), (0.8815, 41), (0.8805, 43), (0.8775000000000001, 45), (0.8752500000000001, 47), (0.8734999999999999, 49), (0.8734999999999999, 51), (0.8705, 53), (0.8710000000000001, 55), (0.8692500000000001, 57), (0.8695, 59), (0.8684999999999998, 61), (0.8657499999999999, 63), (0.8634999999999999, 65), (0.8622500000000001, 67), (0.8605, 69), (0.8584999999999999, 71), (0.857, 73), (0.8557500000000001, 75), (0.85375, 77), (0.85075, 79), (0.84925, 81), (0.84825, 83), (0.8462500000000001, 85), (0.8452500000000001, 87), (0.8442500000000001, 89), (0.84275, 91), (0.8390000000000001, 93), (0.83825, 95), (0.8342500000000002, 97), (0.8337499999999999, 99), (0.8317499999999999, 101)]\n"
     ]
    }
   ],
   "source": [
    "print((accsk1_a_100))"
   ]
  },
  {
   "cell_type": "code",
   "execution_count": 97,
   "metadata": {},
   "outputs": [
    {
     "data": {
      "text/plain": [
       "[<matplotlib.lines.Line2D at 0x7fef4efb94f0>]"
      ]
     },
     "execution_count": 97,
     "metadata": {},
     "output_type": "execute_result"
    },
    {
     "data": {
      "image/png": "[encoded data removed]",
      "text/plain": [
       "<Figure size 691.2x518.4 with 1 Axes>"
      ]
     },
     "metadata": {
      "needs_background": "light"
     },
     "output_type": "display_data"
    }
   ],
   "source": [
    "acc_grafico, k_grafico = zip(*accsk1_a_101)\n",
    "plt.figure(figsize = (6.4 * 1.5, 4.8 *1.5))\n",
    "plt.title(\"Accuracy en función de cantidad de vecinos.\\n Intervalo [1,101]\")\n",
    "plt.xlabel(\"Cantidad k de vecinos\")\n",
    "plt.ylabel(\"Accuracy\")\n",
    "plt.plot(k_grafico,acc_grafico)\n"
   ]
  },
  {
   "cell_type": "markdown",
   "metadata": {},
   "source": [
    "#### Observamos que las k que resultan en un mejor accuracy están en los números mas bajos. Buscamos dentro del intervalo [1,15] con saltos de a 1 para identificar cuales son los k que resultan en una mejor accuracy."
   ]
  },
  {
   "cell_type": "code",
   "execution_count": 106,
   "metadata": {},
   "outputs": [
    {
     "name": "stderr",
     "output_type": "stream",
     "text": [
      "100%|██████████| 15/15 [00:08<00:00,  1.75it/s]\n"
     ]
    }
   ],
   "source": [
    "accsk1_a_15 = []\n",
    "\n",
    "for k in tqdm(range(1,16,1)):\n",
    "    acc = 0\n",
    "    for i in range(len(X_trains)):\n",
    "        clf = metnum.KNNClassifier(k)\n",
    "        clf.fit(X_trains[i],Y_trains[i])\n",
    "        y_pred = clf.predict(X_vals[i])\n",
    "        acc += sk.metrics.accuracy_score(Y_vals[i], y_pred)\n",
    "    acc = acc/len(X_trains)\n",
    "    accsk1_a_15.append((acc,k))"
   ]
  },
  {
   "cell_type": "code",
   "execution_count": 107,
   "metadata": {},
   "outputs": [
    {
     "data": {
      "text/plain": [
       "[<matplotlib.lines.Line2D at 0x7fef4eb76040>]"
      ]
     },
     "execution_count": 107,
     "metadata": {},
     "output_type": "execute_result"
    },
    {
     "data": {
      "image/png": "[encoded data removed]",
      "text/plain": [
       "<Figure size 691.2x518.4 with 1 Axes>"
      ]
     },
     "metadata": {
      "needs_background": "light"
     },
     "output_type": "display_data"
    }
   ],
   "source": [
    "\n",
    "acc_grafico, k_grafico = zip(*accsk1_a_15)\n",
    "plt.figure(figsize = (6.4 * 1.5, 4.8 *1.5))\n",
    "plt.title(\"Accuracy en función de cantidad de vecinos.\\n Intervalo [1,15]\")\n",
    "plt.xlabel(\"Cantidad k de vecinos\")\n",
    "plt.ylabel(\"Accuracy\")\n",
    "plt.plot(k_grafico,acc_grafico)"
   ]
  },
  {
   "cell_type": "code",
   "execution_count": 111,
   "metadata": {},
   "outputs": [
    {
     "name": "stdout",
     "output_type": "stream",
     "text": [
      "[(0.925, 3), (0.9244999999999999, 5), (0.9235, 1), (0.9195, 4), (0.9182499999999999, 6)]\n"
     ]
    }
   ],
   "source": [
    "accsk1_a_15.sort(reverse = True)\n",
    "mejores5k = accsk1_a_15\n",
    "mejores5k = mejores5k[:5]\n",
    "print(mejores5k)"
   ]
  },
  {
   "cell_type": "markdown",
   "metadata": {},
   "source": [
    "#### Obtenemos los 5 mejores k en accuracy. Observamos que todos tienen una accuracy mayor a 0.961 y menor a 0.964. Como estas accuracys son muy similares decidimos quedarnos con la que tenga un f1-score conveniente."
   ]
  },
  {
   "cell_type": "code",
   "execution_count": 118,
   "metadata": {},
   "outputs": [
    {
     "name": "stdout",
     "output_type": "stream",
     "text": [
      "[(0.8834355828220859, 3), (0.8819875776397514, 5), (0.880503144654088, 6), (0.8765432098765432, 4), (0.84472049689441, 1)]\n",
      "Nuestra k ideal de vecinos es  3\n"
     ]
    }
   ],
   "source": [
    "minimosf1 = []\n",
    "for tupla in mejores5k:\n",
    "    clf = metnum.KNNClassifier(tupla[1])\n",
    "    clf.fit(X, y) # o sea estamos entrenando con todo el conjunto entero despues de haber validado\n",
    "    #calculamos las metricas con conjuntos de test nuevos que nunca tocamos hasta ahora\n",
    "   \n",
    "    y_pred = clf.predict(X_test)\n",
    "    minimosf1.append((np.amin(sk.metrics.f1_score(y_test,y_pred, average = None)),tupla[1]))\n",
    "    \n",
    "\n",
    "minimosf1.sort( reverse = True)\n",
    "print(minimosf1)\n",
    "\n",
    "print(\"Nuestra k ideal de vecinos es \", minimosf1[0][1])"
   ]
  },
  {
   "cell_type": "code",
   "execution_count": 119,
   "metadata": {},
   "outputs": [
    {
     "name": "stdout",
     "output_type": "stream",
     "text": [
      "0.8834355828220859\n"
     ]
    }
   ],
   "source": [
    "print(np.amin(minimosf1[0][0]))"
   ]
  },
  {
   "cell_type": "markdown",
   "metadata": {},
   "source": [
    "#### Observamos que la k de mayor accuracy coincide con la k cuyo minimo f1 score es el conveniente. Luego, nuestro k ideal es 3."
   ]
  },
  {
   "cell_type": "markdown",
   "metadata": {},
   "source": [
    "## Búsqueda del par de k vecinos y alpha componentes ideal."
   ]
  },
  {
   "cell_type": "markdown",
   "metadata": {},
   "source": [
    "#### Partimos de nuestra k ideal knn para buscar el alpha ideal asociado. Luego buscamos en un rango acotado de k's y alpha's si es que existe una mejor combinación de parámetros."
   ]
  },
  {
   "cell_type": "code",
   "execution_count": 120,
   "metadata": {},
   "outputs": [
    {
     "name": "stderr",
     "output_type": "stream",
     "text": [
      "  0%|          | 0/11 [00:00<?, ?it/s]"
     ]
    },
    {
     "name": "stdout",
     "output_type": "stream",
     "text": [
      "CPU times: user 1.18 s, sys: 3.94 ms, total: 1.18 s\n",
      "Wall time: 120 ms\n",
      "CPU times: user 779 ms, sys: 77 µs, total: 779 ms\n",
      "Wall time: 68.1 ms\n",
      "CPU times: user 882 ms, sys: 101 µs, total: 882 ms\n",
      "Wall time: 80.5 ms\n"
     ]
    },
    {
     "name": "stderr",
     "output_type": "stream",
     "text": [
      "  9%|▉         | 1/11 [00:00<00:04,  2.07it/s]"
     ]
    },
    {
     "name": "stdout",
     "output_type": "stream",
     "text": [
      "CPU times: user 801 ms, sys: 68 µs, total: 801 ms\n",
      "Wall time: 69.8 ms\n",
      "CPU times: user 780 ms, sys: 105 µs, total: 780 ms\n",
      "Wall time: 71.5 ms\n",
      "CPU times: user 1.14 s, sys: 3.97 ms, total: 1.14 s\n",
      "Wall time: 217 ms\n",
      "CPU times: user 932 ms, sys: 59 µs, total: 932 ms\n",
      "Wall time: 212 ms\n",
      "CPU times: user 859 ms, sys: 96 µs, total: 859 ms\n",
      "Wall time: 199 ms\n",
      "CPU times: user 895 ms, sys: 71 µs, total: 895 ms\n",
      "Wall time: 205 ms\n"
     ]
    },
    {
     "name": "stderr",
     "output_type": "stream",
     "text": [
      " 18%|█▊        | 2/11 [00:01<00:08,  1.12it/s]"
     ]
    },
    {
     "name": "stdout",
     "output_type": "stream",
     "text": [
      "CPU times: user 880 ms, sys: 4.02 ms, total: 884 ms\n",
      "Wall time: 196 ms\n",
      "CPU times: user 1.23 s, sys: 31.8 ms, total: 1.26 s\n",
      "Wall time: 429 ms\n",
      "CPU times: user 1.13 s, sys: 128 µs, total: 1.13 s\n",
      "Wall time: 419 ms\n",
      "CPU times: user 1.11 s, sys: 3.86 ms, total: 1.11 s\n",
      "Wall time: 424 ms\n",
      "CPU times: user 1.22 s, sys: 3.92 ms, total: 1.23 s\n",
      "Wall time: 526 ms\n"
     ]
    },
    {
     "name": "stderr",
     "output_type": "stream",
     "text": [
      " 27%|██▋       | 3/11 [00:04<00:12,  1.57s/it]"
     ]
    },
    {
     "name": "stdout",
     "output_type": "stream",
     "text": [
      "CPU times: user 1.17 s, sys: 12 µs, total: 1.17 s\n",
      "Wall time: 436 ms\n",
      "CPU times: user 1.47 s, sys: 78 µs, total: 1.47 s\n",
      "Wall time: 743 ms\n",
      "CPU times: user 1.65 s, sys: 3.91 ms, total: 1.65 s\n",
      "Wall time: 919 ms\n",
      "CPU times: user 1.58 s, sys: 142 µs, total: 1.58 s\n",
      "Wall time: 867 ms\n",
      "CPU times: user 2.09 s, sys: 4.06 ms, total: 2.1 s\n",
      "Wall time: 1.07 s\n"
     ]
    },
    {
     "name": "stderr",
     "output_type": "stream",
     "text": [
      " 36%|███▋      | 4/11 [00:08<00:19,  2.77s/it]"
     ]
    },
    {
     "name": "stdout",
     "output_type": "stream",
     "text": [
      "CPU times: user 1.52 s, sys: 0 ns, total: 1.52 s\n",
      "Wall time: 845 ms\n",
      "CPU times: user 2 s, sys: 0 ns, total: 2 s\n",
      "Wall time: 1.2 s\n",
      "CPU times: user 2.07 s, sys: 116 µs, total: 2.07 s\n",
      "Wall time: 1.38 s\n",
      "CPU times: user 2.26 s, sys: 11.9 ms, total: 2.27 s\n",
      "Wall time: 1.24 s\n",
      "CPU times: user 2.08 s, sys: 15.9 ms, total: 2.09 s\n",
      "Wall time: 1.44 s\n"
     ]
    },
    {
     "name": "stderr",
     "output_type": "stream",
     "text": [
      " 45%|████▌     | 5/11 [00:15<00:24,  4.17s/it]"
     ]
    },
    {
     "name": "stdout",
     "output_type": "stream",
     "text": [
      "CPU times: user 1.94 s, sys: 19 µs, total: 1.94 s\n",
      "Wall time: 1.23 s\n",
      "CPU times: user 2.58 s, sys: 108 µs, total: 2.58 s\n",
      "Wall time: 1.74 s\n",
      "CPU times: user 2.86 s, sys: 15.7 ms, total: 2.87 s\n",
      "Wall time: 1.76 s\n",
      "CPU times: user 2.31 s, sys: 125 µs, total: 2.31 s\n",
      "Wall time: 1.65 s\n",
      "CPU times: user 2.45 s, sys: 0 ns, total: 2.45 s\n",
      "Wall time: 1.78 s\n"
     ]
    },
    {
     "name": "stderr",
     "output_type": "stream",
     "text": [
      " 55%|█████▍    | 6/11 [00:24<00:29,  5.90s/it]"
     ]
    },
    {
     "name": "stdout",
     "output_type": "stream",
     "text": [
      "CPU times: user 3.85 s, sys: 3.63 ms, total: 3.86 s\n",
      "Wall time: 2 s\n",
      "CPU times: user 3.25 s, sys: 0 ns, total: 3.25 s\n",
      "Wall time: 2.25 s\n",
      "CPU times: user 2.84 s, sys: 7.8 ms, total: 2.85 s\n",
      "Wall time: 2.12 s\n",
      "CPU times: user 2.63 s, sys: 3.89 ms, total: 2.63 s\n",
      "Wall time: 1.95 s\n",
      "CPU times: user 3.12 s, sys: 0 ns, total: 3.12 s\n",
      "Wall time: 2.44 s\n"
     ]
    },
    {
     "name": "stderr",
     "output_type": "stream",
     "text": [
      " 64%|██████▎   | 7/11 [00:35<00:30,  7.64s/it]"
     ]
    },
    {
     "name": "stdout",
     "output_type": "stream",
     "text": [
      "CPU times: user 2.92 s, sys: 0 ns, total: 2.92 s\n",
      "Wall time: 2.23 s\n",
      "CPU times: user 3.77 s, sys: 126 µs, total: 3.77 s\n",
      "Wall time: 2.89 s\n",
      "CPU times: user 3.5 s, sys: 161 µs, total: 3.5 s\n",
      "Wall time: 2.79 s\n",
      "CPU times: user 3.31 s, sys: 35 µs, total: 3.31 s\n",
      "Wall time: 2.63 s\n",
      "CPU times: user 3.78 s, sys: 128 µs, total: 3.78 s\n",
      "Wall time: 3.08 s\n"
     ]
    },
    {
     "name": "stderr",
     "output_type": "stream",
     "text": [
      " 73%|███████▎  | 8/11 [00:50<00:29,  9.88s/it]"
     ]
    },
    {
     "name": "stdout",
     "output_type": "stream",
     "text": [
      "CPU times: user 3.66 s, sys: 4.09 ms, total: 3.67 s\n",
      "Wall time: 2.99 s\n",
      "CPU times: user 4.65 s, sys: 20 ms, total: 4.67 s\n",
      "Wall time: 3.74 s\n",
      "CPU times: user 4.1 s, sys: 7.92 ms, total: 4.1 s\n",
      "Wall time: 3.37 s\n",
      "CPU times: user 4.18 s, sys: 11.9 ms, total: 4.19 s\n",
      "Wall time: 3.45 s\n",
      "CPU times: user 4.78 s, sys: 8.1 ms, total: 4.79 s\n",
      "Wall time: 4.07 s\n"
     ]
    },
    {
     "name": "stderr",
     "output_type": "stream",
     "text": [
      " 82%|████████▏ | 9/11 [01:08<00:25, 12.58s/it]"
     ]
    },
    {
     "name": "stdout",
     "output_type": "stream",
     "text": [
      "CPU times: user 4.28 s, sys: 8.09 ms, total: 4.28 s\n",
      "Wall time: 3.6 s\n",
      "CPU times: user 5.14 s, sys: 4.02 ms, total: 5.14 s\n",
      "Wall time: 4.24 s\n",
      "CPU times: user 4.94 s, sys: 8.04 ms, total: 4.95 s\n",
      "Wall time: 4.24 s\n",
      "CPU times: user 5.09 s, sys: 11.9 ms, total: 5.1 s\n",
      "Wall time: 4.21 s\n",
      "CPU times: user 5.13 s, sys: 12.1 ms, total: 5.14 s\n",
      "Wall time: 4.44 s\n"
     ]
    },
    {
     "name": "stderr",
     "output_type": "stream",
     "text": [
      " 91%|█████████ | 10/11 [01:30<00:15, 15.39s/it]"
     ]
    },
    {
     "name": "stdout",
     "output_type": "stream",
     "text": [
      "CPU times: user 4.93 s, sys: 4.09 ms, total: 4.93 s\n",
      "Wall time: 4.14 s\n",
      "CPU times: user 5.79 s, sys: 12 ms, total: 5.8 s\n",
      "Wall time: 4.86 s\n",
      "CPU times: user 6.18 s, sys: 8.16 ms, total: 6.19 s\n",
      "Wall time: 4.99 s\n",
      "CPU times: user 5.65 s, sys: 138 µs, total: 5.65 s\n",
      "Wall time: 4.95 s\n",
      "CPU times: user 5.99 s, sys: 4.05 ms, total: 5.99 s\n",
      "Wall time: 5.27 s\n"
     ]
    },
    {
     "name": "stderr",
     "output_type": "stream",
     "text": [
      "100%|██████████| 11/11 [01:55<00:00, 10.54s/it]"
     ]
    },
    {
     "name": "stdout",
     "output_type": "stream",
     "text": [
      "CPU times: user 5.66 s, sys: 4.06 ms, total: 5.67 s\n",
      "Wall time: 4.96 s\n"
     ]
    },
    {
     "name": "stderr",
     "output_type": "stream",
     "text": [
      "\n"
     ]
    }
   ],
   "source": [
    "\n",
    "k = 3 ### \"K ideal obtenida en KNN\"\n",
    "accsalpha1_a_101 = []\n",
    "\n",
    "for alpha in tqdm(range(1,102,10)):\n",
    "    acc = 0\n",
    "    X_trains_transformadas = []\n",
    "    X_vals_transformadas = []\n",
    "    for i in range(len(X_trains)):\n",
    "        pca = metnum.PCA(alpha)\n",
    "        %time pca.fit(X_trains[i])\n",
    "        X_trains_transformadas.append(pca.transform(X_trains[i]))\n",
    "        X_vals_transformadas.append(pca.transform(X_vals[i]))\n",
    "        clf = metnum.KNNClassifier(k)\n",
    "        clf.fit(X_trains_transformadas[i],Y_trains[i])\n",
    "        y_pred = clf.predict(X_vals_transformadas[i])\n",
    "        acc += sk.metrics.accuracy_score(Y_vals[i], y_pred)\n",
    "    acc = acc/len(X_trains)\n",
    "    accsalpha1_a_101.append((acc,alpha))\n"
   ]
  },
  {
   "cell_type": "code",
   "execution_count": null,
   "metadata": {},
   "outputs": [],
   "source": [
    "acc_grafico, k_grafico = zip(*accsalpha1_a_101)\n",
    "plt.figure(figsize = (6.4 * 1.5, 4.8 *1.5))\n",
    "plt.title(\"Accuracy en función de cantidad de componente principales.\\n Intervalo [1,101]\")\n",
    "plt.xlabel(\"Cantidad alpha de componentes\")\n",
    "plt.ylabel(\"Accuracy\")\n",
    "acc_grafico, a_grafico = zip(*accs)\n",
    "plt.plot(a_grafico,acc_grafico)\n"
   ]
  },
  {
   "cell_type": "markdown",
   "metadata": {},
   "source": [
    "### Observamos un \"codito\". Si bien se aprecia que a mayor cantidad de alpha componentes se obtiene una mayor accuracy, podemos identificar que este crecimiento en accuracy se vuelve paulatino pasado los 20 componentes."
   ]
  },
  {
   "cell_type": "code",
   "execution_count": null,
   "metadata": {},
   "outputs": [],
   "source": [
    "k = 3 \n",
    "accsalpha10_a_40 = []\n",
    "\n",
    "for alpha in tqdm(range(10,41,5)):\n",
    "    acc = 0\n",
    "    X_trains_transformadas = []\n",
    "    X_vals_transformadas = []\n",
    "    for i in range(len(X_trains)):\n",
    "        pca = metnum.PCA(alpha)\n",
    "        pca.fit(X_trains[i])\n",
    "        X_trains_transformadas.append(pca.transform(X_trains[i]))\n",
    "        X_vals_transformadas.append(pca.transform(X_vals[i]))\n",
    "        clf = metnum.KNNClassifier(k)\n",
    "        clf.fit(X_trains_transformadas[i],Y_trains[i])\n",
    "        y_pred = clf.predict(X_vals_transformadas[i])\n",
    "        acc += sk.accuracy_score(Y_vals[i], y_pred)\n",
    "    acc = acc/len(X_trains)\n",
    "    accsalpha10_a_40.append((acc,alpha))"
   ]
  },
  {
   "cell_type": "code",
   "execution_count": null,
   "metadata": {},
   "outputs": [],
   "source": [
    "acc_grafico, k_grafico = zip(*accsalpha10_a_40)\n",
    "plt.figure(figsize = (6.4 * 1.5, 4.8 *1.5))\n",
    "plt.title(\"Accuracy en función de cantidad de componente principales.\\n Intervalo [1,40]\")\n",
    "plt.xlabel(\"Cantidad alpha de componentes\")\n",
    "plt.ylabel(\"Accuracy\")\n",
    "acc_grafico, a_grafico = zip(*accsalpha10_a_40)\n",
    "plt.plot(a_grafico,acc_grafico)"
   ]
  },
  {
   "cell_type": "code",
   "execution_count": null,
   "metadata": {},
   "outputs": [],
   "source": [
    "#CRITERIO DE TIEMPO DE EJECUCION"
   ]
  },
  {
   "cell_type": "markdown",
   "metadata": {},
   "source": [
    "### ¿Buscamos los mejores alphas en el intervalo (25,35)?"
   ]
  },
  {
   "cell_type": "code",
   "execution_count": null,
   "metadata": {},
   "outputs": [],
   "source": [
    "k = 3 \n",
    "accs = []\n",
    "\n",
    "for alpha in tqdm(range(25,50,5)):\n",
    "    acc = 0\n",
    "    X_trains_transformadas = []\n",
    "    X_vals_transformadas = []\n",
    "    for i in range(len(X_trains)):\n",
    "        pca = metnum.PCA(alpha)\n",
    "        pca.fit(X_trains[i])\n",
    "        X_trains_transformadas.append(pca.transform(X_trains[i]))\n",
    "        X_vals_transformadas.append(pca.transform(X_vals[i]))\n",
    "        clf = metnum.KNNClassifier(k)\n",
    "        clf.fit(X_trains_transformadas[i],Y_trains[i])\n",
    "        y_pred = clf.predict(X_vals_transformadas[i])\n",
    "        acc += sk.accuracy_score(Y_vals[i], y_pred)\n",
    "    acc = acc/len(X_trains)\n",
    "    accs.append((acc,alpha))"
   ]
  },
  {
   "cell_type": "code",
   "execution_count": null,
   "metadata": {},
   "outputs": [],
   "source": [
    "acc_grafico, k_grafico = zip(*accsalpha1_a_101)\n",
    "plt.figure(figsize = (6.4 * 1.5, 4.8 *1.5))\n",
    "plt.title(\"Accuracy en función de cantidad de componente principales.\\n Intervalo [1,40]\")\n",
    "plt.xlabel(\"Cantidad alpha de componentes\")\n",
    "plt.ylabel(\"Accuracy\")\n",
    "acc_grafico, a_grafico = zip(*accs)\n",
    "plt.plot(a_grafico,acc_grafico)"
   ]
  },
  {
   "cell_type": "markdown",
   "metadata": {},
   "source": []
  },
  {
   "cell_type": "markdown",
   "metadata": {},
   "source": [
    "#### Queremos verificar que nuestro par de k y alpha es el ideal. Para eso calculamos el accuracy para k en el intervalo [1,30] y alpha en el intervalo [15,45]"
   ]
  },
  {
   "cell_type": "code",
   "execution_count": 122,
   "metadata": {},
   "outputs": [
    {
     "name": "stderr",
     "output_type": "stream",
     "text": [
      " 14%|█▍        | 2/14 [01:35<09:31, 47.62s/it]\n"
     ]
    },
    {
     "ename": "KeyboardInterrupt",
     "evalue": "",
     "output_type": "error",
     "traceback": [
      "\u001b[0;31m---------------------------------------------------------------------------\u001b[0m",
      "\u001b[0;31mKeyboardInterrupt\u001b[0m                         Traceback (most recent call last)",
      "\u001b[0;32m<ipython-input-122-f27f4a9af765>\u001b[0m in \u001b[0;36m<module>\u001b[0;34m\u001b[0m\n\u001b[1;32m      7\u001b[0m         \u001b[0;32mfor\u001b[0m \u001b[0mi\u001b[0m \u001b[0;32min\u001b[0m \u001b[0mrange\u001b[0m\u001b[0;34m(\u001b[0m\u001b[0mlen\u001b[0m\u001b[0;34m(\u001b[0m\u001b[0mX_trains\u001b[0m\u001b[0;34m)\u001b[0m\u001b[0;34m)\u001b[0m\u001b[0;34m:\u001b[0m\u001b[0;34m\u001b[0m\u001b[0;34m\u001b[0m\u001b[0m\n\u001b[1;32m      8\u001b[0m             \u001b[0mpca\u001b[0m \u001b[0;34m=\u001b[0m \u001b[0mmetnum\u001b[0m\u001b[0;34m.\u001b[0m\u001b[0mPCA\u001b[0m\u001b[0;34m(\u001b[0m\u001b[0malpha\u001b[0m\u001b[0;34m)\u001b[0m\u001b[0;34m\u001b[0m\u001b[0;34m\u001b[0m\u001b[0m\n\u001b[0;32m----> 9\u001b[0;31m             \u001b[0mpca\u001b[0m\u001b[0;34m.\u001b[0m\u001b[0mfit\u001b[0m\u001b[0;34m(\u001b[0m\u001b[0mX_trains\u001b[0m\u001b[0;34m[\u001b[0m\u001b[0mi\u001b[0m\u001b[0;34m]\u001b[0m\u001b[0;34m)\u001b[0m\u001b[0;34m\u001b[0m\u001b[0;34m\u001b[0m\u001b[0m\n\u001b[0m\u001b[1;32m     10\u001b[0m             \u001b[0mX_trains_transformadas\u001b[0m\u001b[0;34m.\u001b[0m\u001b[0mappend\u001b[0m\u001b[0;34m(\u001b[0m\u001b[0mpca\u001b[0m\u001b[0;34m.\u001b[0m\u001b[0mtransform\u001b[0m\u001b[0;34m(\u001b[0m\u001b[0mX_trains\u001b[0m\u001b[0;34m[\u001b[0m\u001b[0mi\u001b[0m\u001b[0;34m]\u001b[0m\u001b[0;34m)\u001b[0m\u001b[0;34m)\u001b[0m\u001b[0;34m\u001b[0m\u001b[0;34m\u001b[0m\u001b[0m\n\u001b[1;32m     11\u001b[0m             \u001b[0mX_vals_transformadas\u001b[0m\u001b[0;34m.\u001b[0m\u001b[0mappend\u001b[0m\u001b[0;34m(\u001b[0m\u001b[0mpca\u001b[0m\u001b[0;34m.\u001b[0m\u001b[0mtransform\u001b[0m\u001b[0;34m(\u001b[0m\u001b[0mX_vals\u001b[0m\u001b[0;34m[\u001b[0m\u001b[0mi\u001b[0m\u001b[0;34m]\u001b[0m\u001b[0;34m)\u001b[0m\u001b[0;34m)\u001b[0m\u001b[0;34m\u001b[0m\u001b[0;34m\u001b[0m\u001b[0m\n",
      "\u001b[0;31mKeyboardInterrupt\u001b[0m: "
     ]
    }
   ],
   "source": [
    "accspar = []\n",
    "for k in tqdm(range(1,15,1)):\n",
    "    for alpha in range(25,35):\n",
    "        acc = 0\n",
    "        X_trains_transformadas = []\n",
    "        X_vals_transformadas = []\n",
    "        for i in range(len(X_trains)):\n",
    "            pca = metnum.PCA(alpha)\n",
    "            pca.fit(X_trains[i])\n",
    "            X_trains_transformadas.append(pca.transform(X_trains[i]))\n",
    "            X_vals_transformadas.append(pca.transform(X_vals[i]))\n",
    "            clf = metnum.KNNClassifier(k)\n",
    "            clf.fit(X_trains_transformadas[i],Y_trains[i])\n",
    "            y_pred = clf.predict(X_vals_transformadas[i])\n",
    "            acc += sk.metrics.accuracy_score(Y_vals[i], y_pred)\n",
    "        acc = acc/len(X_trains)\n",
    "        accspar.append((acc,k,alpha)) "
   ]
  },
  {
   "cell_type": "code",
   "execution_count": null,
   "metadata": {},
   "outputs": [],
   "source": [
    "accspar.sort(reverse = True)\n",
    "mejores5pares = accspares\n",
    "mejores5pares = mejores5pares[:5]\n",
    "print(mejores5pares)"
   ]
  },
  {
   "cell_type": "code",
   "execution_count": null,
   "metadata": {},
   "outputs": [],
   "source": [
    "print(accs)"
   ]
  }
 ],
 "metadata": {
  "kernelspec": {
   "display_name": "Python 3",
   "language": "python",
   "name": "python3"
  },
  "language_info": {
   "codemirror_mode": {
    "name": "ipython",
    "version": 3
   },
   "file_extension": ".py",
   "mimetype": "text/x-python",
   "name": "python",
   "nbconvert_exporter": "python",
   "pygments_lexer": "ipython3",
   "version": "3.8.5"
  }
 },
 "nbformat": 4,
 "nbformat_minor": 4
}

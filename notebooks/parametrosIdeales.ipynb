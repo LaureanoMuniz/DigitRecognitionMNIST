{
 "cells": [
  {
   "cell_type": "markdown",
   "metadata": {},
   "source": [
    "# Búsqueda de parametros ideales para KNN y KNN+PCA.\n",
    "\n",
    "#### En este notebook buscamos cual es la cantidad k de vecinos ideal para el algoritmo de KNN. Luego buscamos cual es el par ideal de k vecinos y alpha componentes principales para el algoritmo de KNN+PCA."
   ]
  },
  {
   "cell_type": "markdown",
   "metadata": {},
   "source": [
    "## Compilando el módulo desde C++\n",
    "\n",
    "#### Compilamos el modulo desde C++. En CMakeList.txt está seteado que se corra con OpenMP para paralelizar operaciones"
   ]
  },
  {
   "cell_type": "code",
   "execution_count": 1,
   "metadata": {},
   "outputs": [
    {
     "name": "stdout",
     "output_type": "stream",
     "text": [
      "mkdir: no se puede crear el directorio «build»: El archivo ya existe\n",
      "-- The C compiler identification is GNU 9.3.0\n",
      "-- The CXX compiler identification is GNU 9.3.0\n",
      "-- Check for working C compiler: /usr/bin/cc\n",
      "-- Check for working C compiler: /usr/bin/cc -- works\n",
      "-- Detecting C compiler ABI info\n",
      "-- Detecting C compiler ABI info - done\n",
      "-- Detecting C compile features\n",
      "-- Detecting C compile features - done\n",
      "-- Check for working CXX compiler: /usr/bin/c++\n",
      "-- Check for working CXX compiler: /usr/bin/c++ -- works\n",
      "-- Detecting CXX compiler ABI info\n",
      "-- Detecting CXX compiler ABI info - done\n",
      "-- Detecting CXX compile features\n",
      "-- Detecting CXX compile features - done\n",
      "Release mode\n",
      "-- Found OpenMP_C: -fopenmp (found version \"4.5\") \n",
      "-- Found OpenMP_CXX: -fopenmp (found version \"4.5\") \n",
      "-- Found OpenMP: TRUE (found version \"4.5\")  \n",
      "-- Found libomp without any special flags\n",
      "-- pybind11 v2.6.3 dev1\n",
      "-- Found PythonInterp: /home/laureano/Documentos/met2021/grupal/metnum-1c2021-tp2/tp2/bin/python (found version \"3.8.5\") \n",
      "-- Found PythonLibs: /usr/lib/x86_64-linux-gnu/libpython3.8.so\n",
      "-- Performing Test HAS_FLTO\n",
      "-- Performing Test HAS_FLTO - Success\n",
      "CMAKE_INSTALL_PREFIX=/home/laureano/Documentos/met2021/grupal/metnum-1c2021-tp2\n",
      "-- Configuring done\n",
      "-- Generating done\n",
      "-- Build files have been written to: /home/laureano/Documentos/met2021/grupal/metnum-1c2021-tp2/build\n",
      "\u001b[35m\u001b[1mScanning dependencies of target tp2\u001b[0m\n",
      "[ 10%] \u001b[32mBuilding CXX object CMakeFiles/tp2.dir/src/main.cpp.o\u001b[0m\n",
      "[ 20%] \u001b[32mBuilding CXX object CMakeFiles/tp2.dir/src/knn.cpp.o\u001b[0m\n",
      "\u001b[01m\u001b[K/home/laureano/Documentos/met2021/grupal/metnum-1c2021-tp2/src/knn.cpp:\u001b[m\u001b[K In function ‘\u001b[01m\u001b[K_ZN13KNNClassifier7predictEN5Eigen6MatrixIdLin1ELin1ELi1ELin1ELin1EEE._omp_fn.0\u001b[m\u001b[K’:\n",
      "\u001b[01m\u001b[K/home/laureano/Documentos/met2021/grupal/metnum-1c2021-tp2/src/knn.cpp:59:16:\u001b[m\u001b[K \u001b[01;35m\u001b[Kwarning: \u001b[m\u001b[K‘\u001b[01m\u001b[Kmode\u001b[m\u001b[K’ may be used uninitialized in this function [\u001b[01;35m\u001b[K-Wmaybe-uninitialized\u001b[m\u001b[K]\n",
      "   59 |         ret[k] = mode;\n",
      "\u001b[01m\u001b[K/home/laureano/Documentos/met2021/grupal/metnum-1c2021-tp2/src/knn.cpp:52:13:\u001b[m\u001b[K \u001b[01;36m\u001b[Knote: \u001b[m\u001b[K‘\u001b[01m\u001b[Kmode\u001b[m\u001b[K’ was declared here\n",
      "   52 |         int \u001b[01;36m\u001b[Kmode\u001b[m\u001b[K;\n",
      "      |             \u001b[01;36m\u001b[K^~~~\u001b[m\u001b[K\n",
      "[ 30%] \u001b[32mBuilding CXX object CMakeFiles/tp2.dir/src/pca.cpp.o\u001b[0m\n",
      "[ 40%] \u001b[32mBuilding CXX object CMakeFiles/tp2.dir/src/eigen.cpp.o\u001b[0m\n",
      "[ 50%] \u001b[32m\u001b[1mLinking CXX executable tp2\u001b[0m\n",
      "[ 50%] Built target tp2\n",
      "\u001b[35m\u001b[1mScanning dependencies of target metnum\u001b[0m\n",
      "[ 60%] \u001b[32mBuilding CXX object CMakeFiles/metnum.dir/src/metnum.cpp.o\u001b[0m\n",
      "[ 70%] \u001b[32mBuilding CXX object CMakeFiles/metnum.dir/src/knn.cpp.o\u001b[0m\n",
      "[ 80%] \u001b[32mBuilding CXX object CMakeFiles/metnum.dir/src/pca.cpp.o\u001b[0m\n",
      "[ 90%] \u001b[32mBuilding CXX object CMakeFiles/metnum.dir/src/eigen.cpp.o\u001b[0m\n",
      "[100%] \u001b[32m\u001b[1mLinking CXX shared module metnum.cpython-38-x86_64-linux-gnu.so\u001b[0m\n",
      "[100%] Built target metnum\n",
      "\u001b[36mInstall the project...\u001b[0m\n",
      "-- Install configuration: \"Release\"\n",
      "-- Installing: /home/laureano/Documentos/met2021/grupal/metnum-1c2021-tp2/notebooks/metnum.cpython-38-x86_64-linux-gnu.so\n"
     ]
    }
   ],
   "source": [
    "!cd .. && mkdir build\n",
    "!cd ../build/ && rm -rf *\n",
    "!cd ../build && cmake \\\n",
    "  -DPYTHON_EXECUTABLE=\"$(which python)\" \\\n",
    "  -DCMAKE_BUILD_TYPE=Release ..\n",
    "!cd ../build && make install"
   ]
  },
  {
   "cell_type": "code",
   "execution_count": 2,
   "metadata": {},
   "outputs": [
    {
     "name": "stdout",
     "output_type": "stream",
     "text": [
      "/home/laureano/Documentos/met2021/grupal/metnum-1c2021-tp2/notebooks\n",
      "Python 3.8.5\n"
     ]
    }
   ],
   "source": [
    "# Verifico la correcta instalación. Si no falla el import está OK\n",
    "!pwd\n",
    "!python --version\n",
    "import metnum"
   ]
  },
  {
   "cell_type": "markdown",
   "metadata": {},
   "source": [
    "## Explorando los datos"
   ]
  },
  {
   "cell_type": "code",
   "execution_count": 3,
   "metadata": {},
   "outputs": [],
   "source": [
    "%load_ext autoreload\n",
    "%autoreload 2\n",
    "\n",
    "import pandas as pd\n",
    "from tqdm import tqdm\n",
    "import matplotlib.pyplot as plt\n",
    "import numpy as np\n",
    "import sklearn as sk\n",
    "from sklearn import metrics\n"
   ]
  },
  {
   "cell_type": "code",
   "execution_count": 4,
   "metadata": {},
   "outputs": [],
   "source": [
    "df_train = pd.read_csv(\"../data/train.csv\")"
   ]
  },
  {
   "cell_type": "markdown",
   "metadata": {},
   "source": [
    "#### Leemos el csv que tiene en cada fila una imagen de un digito y su etiqueta asociada."
   ]
  },
  {
   "cell_type": "code",
   "execution_count": 5,
   "metadata": {},
   "outputs": [],
   "source": [
    "df_train = sk.utils.shuffle(df_train, random_state = 42)\n",
    "#df_train = df_train[:5000]"
   ]
  },
  {
   "cell_type": "code",
   "execution_count": 6,
   "metadata": {},
   "outputs": [],
   "source": [
    "cutting_point = len(df_train) - (len(df_train)//5)\n",
    "df_test = df_train[cutting_point:]\n",
    "df_train = df_train[:cutting_point]\n"
   ]
  },
  {
   "cell_type": "markdown",
   "metadata": {},
   "source": [
    "#### Dividimos el set de datos en dos partes. Una parte para entrenar con cross validation y una parte para validar nuestro clasificador. Entrenamos con el 80% de los datos y validamos con el 20% restante. Si se quiere entrenar con el 100% de los datos comentar este bloque. Esto ultimo serviría para testear con kaggle."
   ]
  },
  {
   "cell_type": "code",
   "execution_count": 7,
   "metadata": {},
   "outputs": [
    {
     "data": {
      "text/plain": [
       "((33600, 784), (33600, 1), (8400, 784), (8400, 1))"
      ]
     },
     "execution_count": 7,
     "metadata": {},
     "output_type": "execute_result"
    }
   ],
   "source": [
    "# Uso values para mandar todo a arrays de numpy\n",
    "X = df_train[df_train.columns[1:]].values\n",
    "y = df_train[\"label\"].values.reshape(-1, 1)\n",
    "X_test = df_test[df_test.columns[1:]].values\n",
    "y_test = df_test[\"label\"].values.reshape(-1, 1)\n",
    "X.shape, y.shape, X_test.shape, y_test.shape"
   ]
  },
  {
   "cell_type": "code",
   "execution_count": 8,
   "metadata": {},
   "outputs": [],
   "source": [
    "#### Pasamos los datos del set a un formato cómodo para trabajar. Chequeamos su forma."
   ]
  },
  {
   "cell_type": "markdown",
   "metadata": {},
   "source": [
    "## Validación cruzada"
   ]
  },
  {
   "cell_type": "markdown",
   "metadata": {},
   "source": [
    "Implementamos una función para obtener las diferentes particiones consideradas para la validación cruzada. Arbitrariamente decidimos hacer validación cruzada de 5 folds. La cantidad de folds ideal es calculada en la notebook \"K Fold\"."
   ]
  },
  {
   "cell_type": "code",
   "execution_count": 9,
   "metadata": {},
   "outputs": [],
   "source": [
    "def get_KFold_sets(x,y,K=5):\n",
    "    X_trains = []\n",
    "    Y_trains = []\n",
    "    X_vals = []\n",
    "    Y_vals = []\n",
    "    bucket_size = len(x)//K\n",
    "    for i in range(K):\n",
    "        low = bucket_size*i\n",
    "        high = bucket_size * (i+1)\n",
    "        X_vals.append(x[low :high])\n",
    "        Y_vals.append(y[low :high])\n",
    "        X_train,Y_train = x[:low], y[:low]\n",
    "        X_train = np.concatenate((X_train,x[high:]),axis=0)\n",
    "        Y_train = np.concatenate((Y_train,y[high:]),axis=0)\n",
    "        X_trains.append(X_train)\n",
    "        Y_trains.append(Y_train)\n",
    "    return X_trains,Y_trains,X_vals,Y_vals"
   ]
  },
  {
   "cell_type": "code",
   "execution_count": 10,
   "metadata": {},
   "outputs": [],
   "source": [
    "X_trains, Y_trains, X_vals, Y_vals = get_KFold_sets(X,y)"
   ]
  },
  {
   "cell_type": "markdown",
   "metadata": {},
   "source": [
    "## Métricas"
   ]
  },
  {
   "cell_type": "markdown",
   "metadata": {},
   "source": [
    "#### Buscamos cuales son los parametros \"ideales\" para nuestros clasificadores. Notemos que si bien el accuracy(exactitud) es un buen indicador de la calidad de nuestros parametros elegidos, también existen otras métricas que sirven para evaluarlo.\n",
    "\n",
    "#### Dentro de estas otras métricas tenemos: \n",
    "    Tiempo de ejecución\n",
    "    Exactitud\n",
    "    Curvas de precisión/recall\n",
    "    F1-Score\n",
    "    Kappa de Cohen\n",
    "   "
   ]
  },
  {
   "cell_type": "markdown",
   "metadata": {},
   "source": [
    "#### Decidimos darle mayor importancia al accuracy de los clasificadores, y en caso de obtener varios clasificadores con accuracy similar quedarnos con aquel que tenga un f1-score conveniente. Tomamos los f1-score de las 10 clases de los 5 clasificadores de mayor accuracy. Nos quedamos con aquel clasificador cuyo minimo f1-score de clase es el mayor entre todos los minimos."
   ]
  },
  {
   "cell_type": "markdown",
   "metadata": {},
   "source": [
    "## Búsqueda de k ideal de KNN"
   ]
  },
  {
   "cell_type": "markdown",
   "metadata": {},
   "source": [
    "#### Buscamos dentro del intervalo [1,101] con saltos de a 2, para darnos una idea de donde pueden ubicarse los k de mejor accuracy."
   ]
  },
  {
   "cell_type": "code",
   "execution_count": 11,
   "metadata": {},
   "outputs": [
    {
     "name": "stderr",
     "output_type": "stream",
     "text": [
      "100%|██████████| 51/51 [47:40<00:00, 56.09s/it]\n"
     ]
    }
   ],
   "source": [
    "accsk1_a_101 = []\n",
    "\n",
    "from tqdm import tqdm\n",
    "for k in tqdm(range(1,102,2)):\n",
    "    acc = 0\n",
    "    for i in range(len(X_trains)): \n",
    "        clf = metnum.KNNClassifier(k)\n",
    "        clf.fit(X_trains[i],Y_trains[i])\n",
    "        y_pred = clf.predict(X_vals[i])\n",
    "        acc += sk.metrics.accuracy_score(Y_vals[i], y_pred)\n",
    "    acc = acc/len(X_trains)\n",
    "    accsk1_a_101.append((acc,k))"
   ]
  },
  {
   "cell_type": "code",
   "execution_count": 13,
   "metadata": {},
   "outputs": [
    {
     "data": {
      "image/png": "[encoded data removed]",
      "text/plain": [
       "<Figure size 691.2x518.4 with 1 Axes>"
      ]
     },
     "metadata": {
      "needs_background": "light"
     },
     "output_type": "display_data"
    }
   ],
   "source": [
    "acc_grafico, k_grafico = zip(*accsk1_a_101)\n",
    "plt.figure(figsize = (6.4 * 1.5, 4.8 * 1.5))\n",
    "plt.title(\"Accuracy en función de cantidad de vecinos \\n Intervalo [1,101]\")\n",
    "plt.xlabel(\"Cantidad k de vecinos\")\n",
    "plt.ylabel(\"Accuracy\")\n",
    "plt.plot(k_grafico,acc_grafico)\n",
    "plt.savefig('./graficosSinPeso/accsk1_a_101.png')\n"
   ]
  },
  {
   "cell_type": "markdown",
   "metadata": {},
   "source": [
    "#### Observamos que las k que resultan en un mejor accuracy están en los números mas bajos. Buscamos dentro del intervalo [1,15] con saltos de a 1 para identificar cuales son los k que resultan en una mejor accuracy."
   ]
  },
  {
   "cell_type": "code",
   "execution_count": 14,
   "metadata": {},
   "outputs": [
    {
     "name": "stderr",
     "output_type": "stream",
     "text": [
      "100%|██████████| 15/15 [17:45<00:00, 71.01s/it]\n"
     ]
    }
   ],
   "source": [
    "accsk1_a_15 = []\n",
    "\n",
    "for k in tqdm(range(1,16,1)):\n",
    "    acc = 0\n",
    "    for i in range(len(X_trains)):\n",
    "        clf = metnum.KNNClassifier(k)\n",
    "        clf.fit(X_trains[i],Y_trains[i])\n",
    "        y_pred = clf.predict(X_vals[i])\n",
    "        acc += sk.metrics.accuracy_score(Y_vals[i], y_pred)\n",
    "    acc = acc/len(X_trains)\n",
    "    accsk1_a_15.append((acc,k))"
   ]
  },
  {
   "cell_type": "code",
   "execution_count": 16,
   "metadata": {},
   "outputs": [
    {
     "data": {
      "image/png": "[encoded data removed]",
      "text/plain": [
       "<Figure size 691.2x518.4 with 1 Axes>"
      ]
     },
     "metadata": {
      "needs_background": "light"
     },
     "output_type": "display_data"
    }
   ],
   "source": [
    "\n",
    "acc_grafico, k_grafico = zip(*accsk1_a_15)\n",
    "plt.figure(figsize = (6.4 * 1.5, 4.8 * 1.5))\n",
    "plt.title(\"Accuracy en función de cantidad de vecinos.\\n Intervalo [1,15]\")\n",
    "plt.xlabel(\"Cantidad k de vecinos\")\n",
    "plt.ylabel(\"Accuracy\")\n",
    "plt.plot(k_grafico,acc_grafico)\n",
    "plt.savefig('./graficosSinPeso/accsk1_a_15.png')"
   ]
  },
  {
   "cell_type": "code",
   "execution_count": 17,
   "metadata": {},
   "outputs": [
    {
     "name": "stdout",
     "output_type": "stream",
     "text": [
      "[(0.9647321428571429, 3), (0.9644940476190478, 1), (0.9638392857142856, 5), (0.9633333333333333, 4), (0.9629464285714286, 6)]\n"
     ]
    }
   ],
   "source": [
    "accsk1_a_15.sort(reverse = True)\n",
    "mejores5k = accsk1_a_15\n",
    "mejores5k = mejores5k[:5]\n",
    "print(mejores5k)"
   ]
  },
  {
   "cell_type": "markdown",
   "metadata": {},
   "source": [
    "#### Obtenemos los 5 mejores k en accuracy. Observamos que todos tienen una accuracy mayor a 0.961 y menor a 0.964. Como estas accuracys son muy similares decidimos quedarnos con la que tenga un f1-score conveniente."
   ]
  },
  {
   "cell_type": "code",
   "execution_count": 18,
   "metadata": {},
   "outputs": [
    {
     "name": "stdout",
     "output_type": "stream",
     "text": [
      "[(0.9531751122514432, 3), (0.9525032092426188, 6), (0.9525032092426188, 5), (0.9521028037383177, 1), (0.9510939510939511, 4)]\n",
      "[8, 9, 8, 8, 8]\n",
      "Nuestra k ideal de vecinos es  3\n"
     ]
    }
   ],
   "source": [
    "minimosf1 = []\n",
    "digitosConPeoresF1 = []\n",
    "for tupla in mejores5k:\n",
    "    clf = metnum.KNNClassifier(tupla[1])\n",
    "    clf.fit(X, y)\n",
    "    y_pred = clf.predict(X_test)\n",
    "    f1_scorePorClase = sk.metrics.f1_score(y_test,y_pred, average = None)\n",
    "    digitosConPeoresF1.append(np.where(f1_scorePorClase == np.amin(f1_scorePorClase))[0][0])\n",
    "    minimosf1.append((np.amin(f1_scorePorClase),(tupla[1])))\n",
    "    \n",
    "\n",
    "minimosf1.sort(reverse = True)\n",
    "print(minimosf1)\n",
    "print(digitosConPeoresF1)\n",
    "print(\"Nuestra k ideal de vecinos es \", minimosf1[0][1])"
   ]
  },
  {
   "cell_type": "code",
   "execution_count": 19,
   "metadata": {},
   "outputs": [
    {
     "name": "stdout",
     "output_type": "stream",
     "text": [
      "0.9531751122514432\n"
     ]
    }
   ],
   "source": [
    "print(np.amin(minimosf1[0][0]))"
   ]
  },
  {
   "cell_type": "markdown",
   "metadata": {},
   "source": [
    "#### Observamos que la k de mayor accuracy coincide con la k cuyo minimo f1 score es el conveniente. Luego, nuestro k ideal es 3."
   ]
  },
  {
   "cell_type": "markdown",
   "metadata": {},
   "source": [
    "## Búsqueda del par de k vecinos y alpha componentes ideal."
   ]
  },
  {
   "cell_type": "markdown",
   "metadata": {},
   "source": [
    "#### Partimos de nuestra k ideal knn para buscar el alpha ideal asociado. Luego buscamos en un rango acotado de k's y alpha's si es que existe una mejor combinación de parámetros."
   ]
  },
  {
   "cell_type": "code",
   "execution_count": 20,
   "metadata": {},
   "outputs": [
    {
     "name": "stderr",
     "output_type": "stream",
     "text": [
      "100%|██████████| 11/11 [03:08<00:00, 17.13s/it]\n"
     ]
    }
   ],
   "source": [
    "\n",
    "k = 3 ### \"K ideal obtenida en KNN\"\n",
    "accsalpha1_a_101 = []\n",
    "\n",
    "for alpha in tqdm(range(1,102,10)):\n",
    "    acc = 0\n",
    "    X_trains_transformadas = []\n",
    "    X_vals_transformadas = []\n",
    "    for i in range(len(X_trains)):\n",
    "        pca = metnum.PCA(alpha)\n",
    "        pca.fit(X_trains[i]) #%time \n",
    "        X_trains_transformadas.append(pca.transform(X_trains[i]))\n",
    "        X_vals_transformadas.append(pca.transform(X_vals[i]))\n",
    "        clf = metnum.KNNClassifier(k)\n",
    "        clf.fit(X_trains_transformadas[i],Y_trains[i])\n",
    "        y_pred = clf.predict(X_vals_transformadas[i])\n",
    "        acc += sk.metrics.accuracy_score(Y_vals[i], y_pred)\n",
    "    acc = acc/len(X_trains)\n",
    "    accsalpha1_a_101.append((acc,alpha))\n"
   ]
  },
  {
   "cell_type": "code",
   "execution_count": 21,
   "metadata": {},
   "outputs": [
    {
     "data": {
      "image/png": "[encoded data removed]",
      "text/plain": [
       "<Figure size 691.2x518.4 with 1 Axes>"
      ]
     },
     "metadata": {
      "needs_background": "light"
     },
     "output_type": "display_data"
    }
   ],
   "source": [
    "acc_grafico, alpha_grafico = zip(*accsalpha1_a_101)\n",
    "plt.figure(figsize = (6.4 * 1.5, 4.8 * 1.5))\n",
    "plt.title(\"Accuracy en función de cantidad de componente principales.\\n Intervalo [1,101]\")\n",
    "plt.xlabel(\"Cantidad alpha de componentes\")\n",
    "plt.ylabel(\"Accuracy\")\n",
    "plt.plot(alpha_grafico,acc_grafico)\n",
    "plt.savefig('./graficosSinPeso/accsalpha1_a_101.png')\n"
   ]
  },
  {
   "cell_type": "markdown",
   "metadata": {},
   "source": [
    "### Observamos un \"codito\". Si bien se aprecia que a mayor cantidad de alpha componentes se obtiene una mayor accuracy, podemos identificar que este crecimiento en accuracy se vuelve paulatino pasado los 20 componentes."
   ]
  },
  {
   "cell_type": "code",
   "execution_count": 22,
   "metadata": {},
   "outputs": [
    {
     "name": "stderr",
     "output_type": "stream",
     "text": [
      "100%|██████████| 9/9 [01:29<00:00,  9.92s/it]\n"
     ]
    }
   ],
   "source": [
    "k = 3 \n",
    "accsalpha10_a_50 = []\n",
    "\n",
    "for alpha in tqdm(range(10,51,5)):\n",
    "    acc = 0\n",
    "    X_trains_transformadas = []\n",
    "    X_vals_transformadas = []\n",
    "    for i in range(len(X_trains)):\n",
    "        pca = metnum.PCA(alpha)\n",
    "        pca.fit(X_trains[i])\n",
    "        X_trains_transformadas.append(pca.transform(X_trains[i]))\n",
    "        X_vals_transformadas.append(pca.transform(X_vals[i]))\n",
    "        clf = metnum.KNNClassifier(k)\n",
    "        clf.fit(X_trains_transformadas[i],Y_trains[i])\n",
    "        y_pred = clf.predict(X_vals_transformadas[i])\n",
    "        acc += sk.metrics.accuracy_score(Y_vals[i], y_pred)\n",
    "    acc = acc/len(X_trains)\n",
    "    accsalpha10_a_50.append((acc,alpha))"
   ]
  },
  {
   "cell_type": "code",
   "execution_count": 23,
   "metadata": {},
   "outputs": [
    {
     "data": {
      "image/png": "[encoded data removed]",
      "text/plain": [
       "<Figure size 691.2x518.4 with 1 Axes>"
      ]
     },
     "metadata": {
      "needs_background": "light"
     },
     "output_type": "display_data"
    }
   ],
   "source": [
    "acc_grafico, alpha_grafico = zip(*accsalpha10_a_50)\n",
    "plt.figure(figsize = (6.4 * 1.5, 4.8 * 1.5))\n",
    "plt.title(\"Accuracy en función de cantidad de componente principales.\\n Intervalo [1,50]\")\n",
    "plt.xlabel(\"Cantidad alpha de componentes\")\n",
    "plt.ylabel(\"Accuracy\")\n",
    "plt.plot(alpha_grafico,acc_grafico)\n",
    "plt.savefig('./graficosSinPeso/accsalpha10_a_50.png')"
   ]
  },
  {
   "cell_type": "code",
   "execution_count": 24,
   "metadata": {},
   "outputs": [],
   "source": [
    "#CRITERIO DE TIEMPO DE EJECUCION. Lau: Tengo que discutirlo con Dani."
   ]
  },
  {
   "cell_type": "markdown",
   "metadata": {},
   "source": [
    "#### No queda claro a simple vista cual es el alpha que deberiamos tomar. Sabemos que el tiempo de ejecución aumenta en función de la cantidad de componentes principales. Decidimos calcular cual es la accuracy que nos da el mejor alpha y quedarnos con el primer alpha que tenga un accuracy que diste como maximo un 5% de la mejor."
   ]
  },
  {
   "cell_type": "code",
   "execution_count": 25,
   "metadata": {},
   "outputs": [
    {
     "name": "stderr",
     "output_type": "stream",
     "text": [
      " 67%|██████▋   | 8/12 [27:10<13:35, 203.85s/it]\n"
     ]
    },
    {
     "ename": "KeyboardInterrupt",
     "evalue": "",
     "output_type": "error",
     "traceback": [
      "\u001b[0;31m---------------------------------------------------------------------------\u001b[0m",
      "\u001b[0;31mKeyboardInterrupt\u001b[0m                         Traceback (most recent call last)",
      "\u001b[0;32m<ipython-input-25-21603cff5693>\u001b[0m in \u001b[0;36m<module>\u001b[0;34m\u001b[0m\n\u001b[1;32m      8\u001b[0m     \u001b[0;32mfor\u001b[0m \u001b[0mi\u001b[0m \u001b[0;32min\u001b[0m \u001b[0mrange\u001b[0m\u001b[0;34m(\u001b[0m\u001b[0mlen\u001b[0m\u001b[0;34m(\u001b[0m\u001b[0mX_trains\u001b[0m\u001b[0;34m)\u001b[0m\u001b[0;34m)\u001b[0m\u001b[0;34m:\u001b[0m\u001b[0;34m\u001b[0m\u001b[0;34m\u001b[0m\u001b[0m\n\u001b[1;32m      9\u001b[0m         \u001b[0mpca\u001b[0m \u001b[0;34m=\u001b[0m \u001b[0mmetnum\u001b[0m\u001b[0;34m.\u001b[0m\u001b[0mPCA\u001b[0m\u001b[0;34m(\u001b[0m\u001b[0malpha\u001b[0m\u001b[0;34m)\u001b[0m\u001b[0;34m\u001b[0m\u001b[0;34m\u001b[0m\u001b[0m\n\u001b[0;32m---> 10\u001b[0;31m         \u001b[0mpca\u001b[0m\u001b[0;34m.\u001b[0m\u001b[0mfit\u001b[0m\u001b[0;34m(\u001b[0m\u001b[0mX_trains\u001b[0m\u001b[0;34m[\u001b[0m\u001b[0mi\u001b[0m\u001b[0;34m]\u001b[0m\u001b[0;34m)\u001b[0m\u001b[0;34m\u001b[0m\u001b[0;34m\u001b[0m\u001b[0m\n\u001b[0m\u001b[1;32m     11\u001b[0m         \u001b[0mX_trains_transformadas\u001b[0m\u001b[0;34m.\u001b[0m\u001b[0mappend\u001b[0m\u001b[0;34m(\u001b[0m\u001b[0mpca\u001b[0m\u001b[0;34m.\u001b[0m\u001b[0mtransform\u001b[0m\u001b[0;34m(\u001b[0m\u001b[0mX_trains\u001b[0m\u001b[0;34m[\u001b[0m\u001b[0mi\u001b[0m\u001b[0;34m]\u001b[0m\u001b[0;34m)\u001b[0m\u001b[0;34m)\u001b[0m\u001b[0;34m\u001b[0m\u001b[0;34m\u001b[0m\u001b[0m\n\u001b[1;32m     12\u001b[0m         \u001b[0mX_vals_transformadas\u001b[0m\u001b[0;34m.\u001b[0m\u001b[0mappend\u001b[0m\u001b[0;34m(\u001b[0m\u001b[0mpca\u001b[0m\u001b[0;34m.\u001b[0m\u001b[0mtransform\u001b[0m\u001b[0;34m(\u001b[0m\u001b[0mX_vals\u001b[0m\u001b[0;34m[\u001b[0m\u001b[0mi\u001b[0m\u001b[0;34m]\u001b[0m\u001b[0;34m)\u001b[0m\u001b[0;34m)\u001b[0m\u001b[0;34m\u001b[0m\u001b[0;34m\u001b[0m\u001b[0m\n",
      "\u001b[0;31mKeyboardInterrupt\u001b[0m: "
     ]
    }
   ],
   "source": [
    "k = 3 \n",
    "accsalphasgrandes = []\n",
    "\n",
    "for alpha in tqdm([100,200,300,400,500,600,700,750]):\n",
    "    acc = 0\n",
    "    X_trains_transformadas = []\n",
    "    X_vals_transformadas = []\n",
    "    for i in range(len(X_trains)):\n",
    "        pca = metnum.PCA(alpha)\n",
    "        pca.fit(X_trains[i])\n",
    "        X_trains_transformadas.append(pca.transform(X_trains[i]))\n",
    "        X_vals_transformadas.append(pca.transform(X_vals[i]))\n",
    "        clf = metnum.KNNClassifier(k)\n",
    "        clf.fit(X_trains_transformadas[i],Y_trains[i])\n",
    "        y_pred = clf.predict(X_vals_transformadas[i])\n",
    "        acc += sk.metrics.accuracy_score(Y_vals[i], y_pred)\n",
    "    acc = acc/len(X_trains)\n",
    "    accsalphasgrandes.append((acc,alpha))"
   ]
  },
  {
   "cell_type": "code",
   "execution_count": null,
   "metadata": {},
   "outputs": [],
   "source": [
    "accsalphasgrandes.sort(reverse = True)\n",
    "print(accsalphasgrandes)"
   ]
  },
  {
   "cell_type": "markdown",
   "metadata": {},
   "source": [
    "#### Queremos investigar en un entorno cerca de nuestro par de k y alpha ideal. Para eso calculamos el accuracy para k en el intervalo [1,15] y alpha en el intervalo [25,35]"
   ]
  },
  {
   "cell_type": "code",
   "execution_count": null,
   "metadata": {},
   "outputs": [],
   "source": [
    "accspar = []\n",
    "for k in tqdm(range(1,16,1)):\n",
    "    for alpha in range(25,36):\n",
    "        acc = 0\n",
    "        X_trains_transformadas = []\n",
    "        X_vals_transformadas = []\n",
    "        for i in range(len(X_trains)):\n",
    "            pca = metnum.PCA(alpha)\n",
    "            pca.fit(X_trains[i])\n",
    "            X_trains_transformadas.append(pca.transform(X_trains[i]))\n",
    "            X_vals_transformadas.append(pca.transform(X_vals[i]))\n",
    "            clf = metnum.KNNClassifier(k)\n",
    "            clf.fit(X_trains_transformadas[i],Y_trains[i])\n",
    "            y_pred = clf.predict(X_vals_transformadas[i])\n",
    "            acc += sk.metrics.accuracy_score(Y_vals[i], y_pred)\n",
    "        acc = acc/len(X_trains)\n",
    "        accspar.append((acc,k,alpha)) "
   ]
  },
  {
   "cell_type": "code",
   "execution_count": null,
   "metadata": {},
   "outputs": [],
   "source": [
    "accspar.sort(reverse = True)\n",
    "mejores5pares = accspar\n",
    "mejores5pares = mejores5pares[:5]\n",
    "print(mejores5pares)"
   ]
  },
  {
   "cell_type": "markdown",
   "metadata": {},
   "source": [
    "#### Observamos que nuestro par elegido es el que tiene mejor accuracy en su entorno. Nuevamente, tomamos los mejores 5 y nos quedamos con el que tenga f1 score conveniente."
   ]
  },
  {
   "cell_type": "code",
   "execution_count": null,
   "metadata": {},
   "outputs": [],
   "source": [
    "minimosf1 = []\n",
    "digitosConPeoresF1 = []\n",
    "for tupla in mejores5pares:\n",
    "    clf = metnum.KNNClassifier(tupla[1])\n",
    "    clf.fit(X, y)\n",
    "    y_pred = clf.predict(X_test)\n",
    "    f1_scorePorClase = sk.metrics.f1_score(y_test,y_pred, average = None)\n",
    "    digitosConPeoresF1.append(np.where(f1_scorePorClase == np.amin(f1_scorePorClase))[0][0])\n",
    "    minimosf1.append((np.amin(f1_scorePorClase),(tupla[1],tupla[2])))\n",
    "    \n",
    "minimosf1.sort(reverse = True)\n",
    "print(minimosf1)\n",
    "print(digitosConPeoresF1)\n",
    "print(\"Nuestra par ideal es \", (minimosf1[0][1]))"
   ]
  },
  {
   "cell_type": "code",
   "execution_count": null,
   "metadata": {},
   "outputs": [],
   "source": []
  }
 ],
 "metadata": {
  "kernelspec": {
   "display_name": "Python 3",
   "language": "python",
   "name": "python3"
  },
  "language_info": {
   "codemirror_mode": {
    "name": "ipython",
    "version": 3
   },
   "file_extension": ".py",
   "mimetype": "text/x-python",
   "name": "python",
   "nbconvert_exporter": "python",
   "pygments_lexer": "ipython3",
   "version": "3.8.5"
  }
 },
 "nbformat": 4,
 "nbformat_minor": 4
}

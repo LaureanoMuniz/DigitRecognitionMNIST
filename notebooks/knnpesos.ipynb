{
 "cells": [
  {
   "cell_type": "markdown",
   "metadata": {},
   "source": [
    "# Búsqueda de parametros ideales para KNN y KNN+PCA.\n",
    "\n",
    "#### En este notebook buscamos cual es la cantidad k de vecinos ideal para el algoritmo de KNN. Luego buscamos cual es el par ideal de k vecinos y alpha componentes principales para el algoritmo de KNN+PCA."
   ]
  },
  {
   "cell_type": "markdown",
   "metadata": {},
   "source": [
    "## Compilando el módulo desde C++\n",
    "\n",
    "#### Compilamos el modulo desde C++. En CMakeList.txt está seteado que se corra con OpenMP para paralelizar operaciones"
   ]
  },
  {
   "cell_type": "code",
   "execution_count": 1,
   "metadata": {},
   "outputs": [
    {
     "name": "stdout",
     "output_type": "stream",
     "text": [
      "mkdir: cannot create directory ‘build’: File exists\n",
      "-- The C compiler identification is GNU 7.5.0\n",
      "-- The CXX compiler identification is GNU 7.5.0\n",
      "-- Check for working C compiler: /usr/bin/cc\n",
      "-- Check for working C compiler: /usr/bin/cc -- works\n",
      "-- Detecting C compiler ABI info\n",
      "-- Detecting C compiler ABI info - done\n",
      "-- Detecting C compile features\n",
      "-- Detecting C compile features - done\n",
      "-- Check for working CXX compiler: /usr/bin/c++\n",
      "-- Check for working CXX compiler: /usr/bin/c++ -- works\n",
      "-- Detecting CXX compiler ABI info\n",
      "-- Detecting CXX compiler ABI info - done\n",
      "-- Detecting CXX compile features\n",
      "-- Detecting CXX compile features - done\n",
      "Release mode\n",
      "-- Found OpenMP_C: -fopenmp (found version \"4.5\") \n",
      "-- Found OpenMP_CXX: -fopenmp (found version \"4.5\") \n",
      "-- Found OpenMP: TRUE (found version \"4.5\")  \n",
      "-- Found libomp without any special flags\n",
      "-- pybind11 v2.6.3 dev1\n",
      "-- Found PythonInterp: /home/orga2/tp2/bin/python (found version \"3.6.9\") \n",
      "-- Found PythonLibs: /usr/lib/x86_64-linux-gnu/libpython3.6m.so\n",
      "-- Performing Test HAS_FLTO\n",
      "-- Performing Test HAS_FLTO - Success\n",
      "CMAKE_INSTALL_PREFIX=/home/orga2/Metodos/metnum-1c2021-tp2\n",
      "-- Configuring done\n",
      "-- Generating done\n",
      "-- Build files have been written to: /home/orga2/Metodos/metnum-1c2021-tp2/build\n",
      "\u001b[35m\u001b[1mScanning dependencies of target tp2\u001b[0m\n",
      "[ 10%] \u001b[32mBuilding CXX object CMakeFiles/tp2.dir/src/main.cpp.o\u001b[0m\n",
      "[ 20%] \u001b[32mBuilding CXX object CMakeFiles/tp2.dir/src/knn.cpp.o\u001b[0m\n",
      "\u001b[01m\u001b[K/home/orga2/Metodos/metnum-1c2021-tp2/src/knn.cpp:\u001b[m\u001b[K In function ‘\u001b[01m\u001b[K_ZN13KNNClassifier7predictEN5Eigen6MatrixIdLin1ELin1ELi1ELin1ELin1EEE._omp_fn.0\u001b[m\u001b[K’:\n",
      "\u001b[01m\u001b[K/home/orga2/Metodos/metnum-1c2021-tp2/src/knn.cpp:59:16:\u001b[m\u001b[K \u001b[01;35m\u001b[Kwarning: \u001b[m\u001b[K‘\u001b[01m\u001b[Kmode\u001b[m\u001b[K’ may be used uninitialized in this function [\u001b[01;35m\u001b[K-Wmaybe-uninitialized\u001b[m\u001b[K]\n",
      "         ret[k] = mode;\n",
      "\u001b[01m\u001b[K/home/orga2/Metodos/metnum-1c2021-tp2/src/knn.cpp:52:13:\u001b[m\u001b[K \u001b[01;36m\u001b[Knote: \u001b[m\u001b[K‘\u001b[01m\u001b[Kmode\u001b[m\u001b[K’ was declared here\n",
      "         int \u001b[01;36m\u001b[Kmode\u001b[m\u001b[K;\n",
      "             \u001b[01;36m\u001b[K^~~~\u001b[m\u001b[K\n",
      "[ 30%] \u001b[32mBuilding CXX object CMakeFiles/tp2.dir/src/pca.cpp.o\u001b[0m\n",
      "[ 40%] \u001b[32mBuilding CXX object CMakeFiles/tp2.dir/src/eigen.cpp.o\u001b[0m\n",
      "[ 50%] \u001b[32m\u001b[1mLinking CXX executable tp2\u001b[0m\n",
      "[ 50%] Built target tp2\n",
      "\u001b[35m\u001b[1mScanning dependencies of target metnum\u001b[0m\n",
      "[ 60%] \u001b[32mBuilding CXX object CMakeFiles/metnum.dir/src/metnum.cpp.o\u001b[0m\n",
      "[ 70%] \u001b[32mBuilding CXX object CMakeFiles/metnum.dir/src/knn.cpp.o\u001b[0m\n",
      "[ 80%] \u001b[32mBuilding CXX object CMakeFiles/metnum.dir/src/pca.cpp.o\u001b[0m\n",
      "[ 90%] \u001b[32mBuilding CXX object CMakeFiles/metnum.dir/src/eigen.cpp.o\u001b[0m\n",
      "[100%] \u001b[32m\u001b[1mLinking CXX shared module metnum.cpython-36m-x86_64-linux-gnu.so\u001b[0m\n",
      "[100%] Built target metnum\n",
      "\u001b[36mInstall the project...\u001b[0m\n",
      "-- Install configuration: \"Release\"\n",
      "-- Installing: /home/orga2/Metodos/metnum-1c2021-tp2/notebooks/metnum.cpython-36m-x86_64-linux-gnu.so\n"
     ]
    }
   ],
   "source": [
    "!cd .. && mkdir build\n",
    "!cd ../build/ && rm -rf *\n",
    "!cd ../build && cmake \\\n",
    "  -DPYTHON_EXECUTABLE=\"$(which python)\" \\\n",
    "  -DCMAKE_BUILD_TYPE=Release ..\n",
    "!cd ../build && make install"
   ]
  },
  {
   "cell_type": "code",
   "execution_count": 2,
   "metadata": {},
   "outputs": [
    {
     "name": "stdout",
     "output_type": "stream",
     "text": [
      "/home/orga2/Metodos/metnum-1c2021-tp2/notebooks\n",
      "Python 3.6.9\n"
     ]
    }
   ],
   "source": [
    "# Importamos el tp. Importamos funciones.\n",
    "import metnum\n",
    "import funciones\n",
    "#Armamos el dataset\n",
    "X,Y,X_test,Y_test = funciones.construir_dataset()\n",
    "X_trains,Y_trains,X_vals,Y_vals = funciones.get_KFold_sets(X,Y)"
   ]
  },
  {
   "cell_type": "markdown",
   "metadata": {},
   "source": [
    "## Buscamos obtener el par k, aplha que maximice la performance de este clasificador. Luego, con los parametros obtenidos, lo compararemos con el clasificador sin pesos."
   ]
  },
  {
   "cell_type": "markdown",
   "metadata": {},
   "source": [
    "### Comenzamos calculando el accuracy para los intervalos [1,15] de k y [20,35] de alpha. Esperamos quelos parametros ideales de este clasificador sean cercanos a los del knn clasico."
   ]
  },
  {
   "cell_type": "code",
   "execution_count": 11,
   "metadata": {},
   "outputs": [
    {
     "name": "stderr",
     "output_type": "stream",
     "text": [
      "100%|██████████| 15/15 [1:16:27<00:00, 305.83s/it]\n"
     ]
    }
   ],
   "source": [
    "tupla, tiempo = funciones.encontrarParOptimo(X_trains,Y_trains,X_vals,Y_vals,conPeso=True,heatMap=True)\n",
    "paramPesos = (tupla[0],tupla[1])\n",
    "paramKNN = (8,35) #le tire lo que me acuerdo pero aca va el valor calculado en parametrosIdeales"
   ]
  },
  {
   "cell_type": "markdown",
   "metadata": {},
   "source": [
    "### Ahora compararemos su desempeño y calcularemos la kappa de cohen"
   ]
  },
  {
   "cell_type": "code",
   "execution_count": null,
   "metadata": {},
   "outputs": [],
   "source": [
    "pcaPesos = metnum.PCA(paramPesos[1])\n",
    "pcaKNN = metnum.PCA(paramKNN[1])\n",
    "clfPesos = metnum.KNNClassifier(paramPesos[0],conPeso = True)\n",
    "clfKNN = metnum.KNNClassifier(paramKNN[0],conPeso = False)\n",
    "\n",
    "pcaPesos.fit(X)\n",
    "pcaKNN.fit(X)\n",
    "XPesos = pcaPesos.transform(X)\n",
    "XKNN = pcaKNN.transform(X)\n",
    "X_testPesos = pcaPesos.transform(X_test)\n",
    "X_testKNN = pcaKNN.transform(X_test)\n",
    "\n",
    "clfPesos.fit(Xpesos)\n",
    "clfKNN.fit(XKNN)\n",
    "y_predPesos = clfPesos.predict(X_testPesos)\n",
    "y_predKNN = clfKNN.predict(X_testKNN)\n",
    "\n",
    "accPesos = sk.metrics.accuracy_score(y_predPesos, Y_test)\n",
    "accKNN = sk.metrics.accuracy_score(y_predKNN, Y_test)\n",
    "cohen = sk.metrics.cohen_kappa_score(y_predPesos,y_predKNN)"
   ]
  }
 ],
 "metadata": {
  "kernelspec": {
   "display_name": "Python 3",
   "language": "python",
   "name": "python3"
  },
  "language_info": {
   "codemirror_mode": {
    "name": "ipython",
    "version": 3
   },
   "file_extension": ".py",
   "mimetype": "text/x-python",
   "name": "python",
   "nbconvert_exporter": "python",
   "pygments_lexer": "ipython3",
   "version": "3.8.5"
  }
 },
 "nbformat": 4,
 "nbformat_minor": 4
}

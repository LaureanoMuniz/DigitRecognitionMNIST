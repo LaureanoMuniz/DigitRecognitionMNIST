{
 "cells": [
  {
   "cell_type": "markdown",
   "metadata": {},
   "source": [
    "# Cantidad de datos utilizados en el entrenamiento y cantidad K de folds.\n",
    "\n",
    "#### En este notebook analizamos cuál es la cantidad de datos necesarios para entrenar nuestros clasificadores y qué sucede cuando variamos el K de K-fold. Tomamos nuestros parámetros ideales obtenidos anteriormente para el algoritmo de KNN y KNN+PCA, y analizamos su performance en términos de accuracy y tiempo de ejecución."
   ]
  },
  {
   "cell_type": "markdown",
   "metadata": {},
   "source": [
    "## Compilando el módulo desde C++\n",
    "\n",
    "#### Compilamos el modulo desde C++. En CMakeList.txt está seteado que se corra con OpenMP para paralelizar operaciones."
   ]
  },
  {
   "cell_type": "code",
   "execution_count": 6,
   "metadata": {},
   "outputs": [
    {
     "name": "stdout",
     "output_type": "stream",
     "text": [
      "mkdir: no se puede crear el directorio «build»: El archivo ya existe\n",
      "-- The C compiler identification is GNU 9.3.0\n",
      "-- The CXX compiler identification is GNU 9.3.0\n",
      "-- Check for working C compiler: /usr/bin/cc\n",
      "-- Check for working C compiler: /usr/bin/cc -- works\n",
      "-- Detecting C compiler ABI info\n",
      "-- Detecting C compiler ABI info - done\n",
      "-- Detecting C compile features\n",
      "-- Detecting C compile features - done\n",
      "-- Check for working CXX compiler: /usr/bin/c++\n",
      "-- Check for working CXX compiler: /usr/bin/c++ -- works\n",
      "-- Detecting CXX compiler ABI info\n",
      "-- Detecting CXX compiler ABI info - done\n",
      "-- Detecting CXX compile features\n",
      "-- Detecting CXX compile features - done\n",
      "Release mode\n",
      "-- Found OpenMP_C: -fopenmp (found version \"4.5\") \n",
      "-- Found OpenMP_CXX: -fopenmp (found version \"4.5\") \n",
      "-- Found OpenMP: TRUE (found version \"4.5\")  \n",
      "-- Found libomp without any special flags\n",
      "-- pybind11 v2.6.3 dev1\n",
      "-- Found PythonInterp: /home/laureano/Documentos/met2021/grupal/metnum-1c2021-tp2/tp2/bin/python (found version \"3.8.5\") \n",
      "-- Found PythonLibs: /usr/lib/x86_64-linux-gnu/libpython3.8.so\n",
      "-- Performing Test HAS_FLTO\n",
      "-- Performing Test HAS_FLTO - Success\n",
      "CMAKE_INSTALL_PREFIX=/home/laureano/Documentos/met2021/grupal/metnum-1c2021-tp2\n",
      "-- Configuring done\n",
      "-- Generating done\n",
      "-- Build files have been written to: /home/laureano/Documentos/met2021/grupal/metnum-1c2021-tp2/build\n",
      "\u001b[35m\u001b[1mScanning dependencies of target tp2\u001b[0m\n",
      "[ 10%] \u001b[32mBuilding CXX object CMakeFiles/tp2.dir/src/main.cpp.o\u001b[0m\n",
      "[ 20%] \u001b[32mBuilding CXX object CMakeFiles/tp2.dir/src/knn.cpp.o\u001b[0m\n",
      "\u001b[01m\u001b[K/home/laureano/Documentos/met2021/grupal/metnum-1c2021-tp2/src/knn.cpp:\u001b[m\u001b[K In function ‘\u001b[01m\u001b[K_ZN13KNNClassifier7predictEN5Eigen6MatrixIdLin1ELin1ELi1ELin1ELin1EEE._omp_fn.0\u001b[m\u001b[K’:\n",
      "\u001b[01m\u001b[K/home/laureano/Documentos/met2021/grupal/metnum-1c2021-tp2/src/knn.cpp:59:16:\u001b[m\u001b[K \u001b[01;35m\u001b[Kwarning: \u001b[m\u001b[K‘\u001b[01m\u001b[Kmode\u001b[m\u001b[K’ may be used uninitialized in this function [\u001b[01;35m\u001b[K-Wmaybe-uninitialized\u001b[m\u001b[K]\n",
      "   59 |         ret[k] = mode;\n",
      "\u001b[01m\u001b[K/home/laureano/Documentos/met2021/grupal/metnum-1c2021-tp2/src/knn.cpp:52:13:\u001b[m\u001b[K \u001b[01;36m\u001b[Knote: \u001b[m\u001b[K‘\u001b[01m\u001b[Kmode\u001b[m\u001b[K’ was declared here\n",
      "   52 |         int \u001b[01;36m\u001b[Kmode\u001b[m\u001b[K;\n",
      "      |             \u001b[01;36m\u001b[K^~~~\u001b[m\u001b[K\n",
      "[ 30%] \u001b[32mBuilding CXX object CMakeFiles/tp2.dir/src/pca.cpp.o\u001b[0m\n",
      "[ 40%] \u001b[32mBuilding CXX object CMakeFiles/tp2.dir/src/eigen.cpp.o\u001b[0m\n",
      "[ 50%] \u001b[32m\u001b[1mLinking CXX executable tp2\u001b[0m\n",
      "[ 50%] Built target tp2\n",
      "\u001b[35m\u001b[1mScanning dependencies of target metnum\u001b[0m\n",
      "[ 60%] \u001b[32mBuilding CXX object CMakeFiles/metnum.dir/src/metnum.cpp.o\u001b[0m\n",
      "[ 70%] \u001b[32mBuilding CXX object CMakeFiles/metnum.dir/src/knn.cpp.o\u001b[0m\n",
      "[ 80%] \u001b[32mBuilding CXX object CMakeFiles/metnum.dir/src/pca.cpp.o\u001b[0m\n",
      "[ 90%] \u001b[32mBuilding CXX object CMakeFiles/metnum.dir/src/eigen.cpp.o\u001b[0m\n",
      "[100%] \u001b[32m\u001b[1mLinking CXX shared module metnum.cpython-38-x86_64-linux-gnu.so\u001b[0m\n",
      "[100%] Built target metnum\n",
      "\u001b[36mInstall the project...\u001b[0m\n",
      "-- Install configuration: \"Release\"\n",
      "-- Installing: /home/laureano/Documentos/met2021/grupal/metnum-1c2021-tp2/notebooks/metnum.cpython-38-x86_64-linux-gnu.so\n"
     ]
    }
   ],
   "source": [
    "!cd .. && mkdir build\n",
    "!cd ../build/ && rm -rf *\n",
    "!cd ../build && cmake \\\n",
    "  -DPYTHON_EXECUTABLE=\"$(which python)\" \\\n",
    "  -DCMAKE_BUILD_TYPE=Release ..\n",
    "!cd ../build && make install"
   ]
  },
  {
   "cell_type": "code",
   "execution_count": 7,
   "metadata": {},
   "outputs": [
    {
     "name": "stdout",
     "output_type": "stream",
     "text": [
      "/home/laureano/Documentos/met2021/grupal/metnum-1c2021-tp2/notebooks\n",
      "Python 3.8.5\n"
     ]
    }
   ],
   "source": [
    "# Verifico la correcta instalación. Si no falla el import está OK\n",
    "!pwd\n",
    "!python --version\n"
   ]
  },
  {
   "cell_type": "code",
   "execution_count": 8,
   "metadata": {},
   "outputs": [],
   "source": [
    "%reload_ext autoreload\n",
    "%autoreload 2\n",
    "\n",
    "import matplotlib.pyplot as plt\n",
    "import numpy as np\n",
    "from numpy import linalg\n",
    "import pandas as pd\n",
    "import time\n",
    "import metnum\n",
    "import funciones\n",
    "import sklearn as sk\n",
    "from tqdm import tqdm\n",
    "from sklearn import metrics\n",
    "\n"
   ]
  },
  {
   "cell_type": "code",
   "execution_count": 9,
   "metadata": {},
   "outputs": [],
   "source": [
    "setsDeDatos = []\n",
    "cantidadDeDatosDeLosSets = []\n",
    "cantidadDeDatos = 42000\n",
    "for i in range(1,7):\n",
    "    setsDeDatos.append(funciones.construir_dataset(numeroElementos = cantidadDeDatos // 2**i))\n",
    "    cantidadDeDatosDeLosSets.append(cantidadDeDatos // 2**i)"
   ]
  },
  {
   "cell_type": "markdown",
   "metadata": {},
   "source": [
    "#### Desordenamos los datos del set y creamos 6 sets de datos más chicos siguiendo una progresión geométrica. Utilizamos la funcion construir_dataset para darle formato correcto y separar los datos correctamente. Ahora, setsDeDatos contiene 6 tuplas de formato (X, y, X_test, y_test). Decidimos que X_test e y_test no varíen pese al número de elementos, sino que se testee siempre el clasificador contra un 20% de 42000."
   ]
  },
  {
   "cell_type": "markdown",
   "metadata": {},
   "source": [
    "## Búsqueda del par ideal de k vecinos y alpha componentes para KNN+PCA para diferentes tamaños del set."
   ]
  },
  {
   "cell_type": "code",
   "execution_count": 5,
   "metadata": {},
   "outputs": [
    {
     "name": "stderr",
     "output_type": "stream",
     "text": [
      "  0%|          | 0/15 [00:45<?, ?it/s]\n"
     ]
    },
    {
     "ename": "KeyboardInterrupt",
     "evalue": "",
     "output_type": "error",
     "traceback": [
      "\u001b[0;31m---------------------------------------------------------------------------\u001b[0m",
      "\u001b[0;31mKeyboardInterrupt\u001b[0m                         Traceback (most recent call last)",
      "\u001b[0;32m<ipython-input-5-e61cc5ae6e8b>\u001b[0m in \u001b[0;36m<module>\u001b[0;34m\u001b[0m\n\u001b[1;32m      4\u001b[0m     \u001b[0;32mfor\u001b[0m \u001b[0msetDeDatos\u001b[0m \u001b[0;32min\u001b[0m \u001b[0msetsDeDatos\u001b[0m\u001b[0;34m:\u001b[0m\u001b[0;34m\u001b[0m\u001b[0;34m\u001b[0m\u001b[0m\n\u001b[1;32m      5\u001b[0m         \u001b[0mX_trains\u001b[0m\u001b[0;34m,\u001b[0m\u001b[0mY_trains\u001b[0m\u001b[0;34m,\u001b[0m\u001b[0mX_vals\u001b[0m\u001b[0;34m,\u001b[0m\u001b[0mY_vals\u001b[0m \u001b[0;34m=\u001b[0m \u001b[0mfunciones\u001b[0m\u001b[0;34m.\u001b[0m\u001b[0mget_KFold_sets\u001b[0m\u001b[0;34m(\u001b[0m\u001b[0msetDeDatos\u001b[0m\u001b[0;34m[\u001b[0m\u001b[0;36m0\u001b[0m\u001b[0;34m]\u001b[0m\u001b[0;34m,\u001b[0m\u001b[0msetDeDatos\u001b[0m\u001b[0;34m[\u001b[0m\u001b[0;36m1\u001b[0m\u001b[0;34m]\u001b[0m\u001b[0;34m)\u001b[0m\u001b[0;34m\u001b[0m\u001b[0;34m\u001b[0m\u001b[0m\n\u001b[0;32m----> 6\u001b[0;31m         \u001b[0mtupla\u001b[0m\u001b[0;34m,\u001b[0m \u001b[0mtiempo\u001b[0m \u001b[0;34m=\u001b[0m \u001b[0mfunciones\u001b[0m\u001b[0;34m.\u001b[0m\u001b[0mencontrarParOptimo\u001b[0m\u001b[0;34m(\u001b[0m\u001b[0mX_trains\u001b[0m\u001b[0;34m,\u001b[0m\u001b[0mY_trains\u001b[0m\u001b[0;34m,\u001b[0m\u001b[0mX_vals\u001b[0m\u001b[0;34m,\u001b[0m\u001b[0mY_vals\u001b[0m\u001b[0;34m)\u001b[0m\u001b[0;34m\u001b[0m\u001b[0;34m\u001b[0m\u001b[0m\n\u001b[0m\u001b[1;32m      7\u001b[0m         \u001b[0mparIdeal\u001b[0m\u001b[0;34m.\u001b[0m\u001b[0mappend\u001b[0m\u001b[0;34m(\u001b[0m\u001b[0;34m(\u001b[0m\u001b[0mtupla\u001b[0m\u001b[0;34m[\u001b[0m\u001b[0;36m0\u001b[0m\u001b[0;34m]\u001b[0m\u001b[0;34m,\u001b[0m\u001b[0mtupla\u001b[0m\u001b[0;34m[\u001b[0m\u001b[0;36m1\u001b[0m\u001b[0;34m]\u001b[0m\u001b[0;34m)\u001b[0m\u001b[0;34m)\u001b[0m\u001b[0;34m\u001b[0m\u001b[0;34m\u001b[0m\u001b[0m\n\u001b[1;32m      8\u001b[0m         \u001b[0mtiemposDeEjecucion\u001b[0m\u001b[0;34m[\u001b[0m\u001b[0mi\u001b[0m\u001b[0;34m]\u001b[0m\u001b[0;34m.\u001b[0m\u001b[0mappend\u001b[0m\u001b[0;34m(\u001b[0m\u001b[0mtiempo\u001b[0m\u001b[0;34m)\u001b[0m\u001b[0;34m\u001b[0m\u001b[0;34m\u001b[0m\u001b[0m\n",
      "\u001b[0;32m~/Documentos/met2021/grupal/metnum-1c2021-tp2/notebooks/funciones.py\u001b[0m in \u001b[0;36mencontrarParOptimo\u001b[0;34m(X_trains, Y_trains, X_vals, Y_vals, conPeso, heatmap)\u001b[0m\n\u001b[1;32m     49\u001b[0m                 \u001b[0;32mfor\u001b[0m \u001b[0mi\u001b[0m \u001b[0;32min\u001b[0m \u001b[0mrange\u001b[0m\u001b[0;34m(\u001b[0m\u001b[0mlen\u001b[0m\u001b[0;34m(\u001b[0m\u001b[0mX_trains\u001b[0m\u001b[0;34m)\u001b[0m\u001b[0;34m)\u001b[0m\u001b[0;34m:\u001b[0m\u001b[0;34m\u001b[0m\u001b[0;34m\u001b[0m\u001b[0m\n\u001b[1;32m     50\u001b[0m                     \u001b[0mpca\u001b[0m \u001b[0;34m=\u001b[0m \u001b[0mmetnum\u001b[0m\u001b[0;34m.\u001b[0m\u001b[0mPCA\u001b[0m\u001b[0;34m(\u001b[0m\u001b[0malpha\u001b[0m\u001b[0;34m)\u001b[0m\u001b[0;34m\u001b[0m\u001b[0;34m\u001b[0m\u001b[0m\n\u001b[0;32m---> 51\u001b[0;31m                     \u001b[0mpca\u001b[0m\u001b[0;34m.\u001b[0m\u001b[0mfit\u001b[0m\u001b[0;34m(\u001b[0m\u001b[0mX_trains\u001b[0m\u001b[0;34m[\u001b[0m\u001b[0mi\u001b[0m\u001b[0;34m]\u001b[0m\u001b[0;34m)\u001b[0m\u001b[0;34m\u001b[0m\u001b[0;34m\u001b[0m\u001b[0m\n\u001b[0m\u001b[1;32m     52\u001b[0m                     \u001b[0mstart\u001b[0m \u001b[0;34m=\u001b[0m \u001b[0mtime\u001b[0m\u001b[0;34m.\u001b[0m\u001b[0mprocess_time\u001b[0m\u001b[0;34m(\u001b[0m\u001b[0;34m)\u001b[0m\u001b[0;34m\u001b[0m\u001b[0;34m\u001b[0m\u001b[0m\n\u001b[1;32m     53\u001b[0m                     \u001b[0mX_train_transformada\u001b[0m \u001b[0;34m=\u001b[0m \u001b[0mpca\u001b[0m\u001b[0;34m.\u001b[0m\u001b[0mtransform\u001b[0m\u001b[0;34m(\u001b[0m\u001b[0mX_trains\u001b[0m\u001b[0;34m[\u001b[0m\u001b[0mi\u001b[0m\u001b[0;34m]\u001b[0m\u001b[0;34m)\u001b[0m\u001b[0;34m\u001b[0m\u001b[0;34m\u001b[0m\u001b[0m\n",
      "\u001b[0;31mKeyboardInterrupt\u001b[0m: "
     ]
    }
   ],
   "source": [
    "for i in range(0,5):\n",
    "    parIdeal = []\n",
    "    tiemposDeEjecucion = [[] for i in range(6)]\n",
    "    for setDeDatos in setsDeDatos:\n",
    "        X_trains,Y_trains,X_vals,Y_vals = funciones.get_KFold_sets(setDeDatos[0],setDeDatos[1])\n",
    "        tupla, tiempo = funciones.encontrarParOptimo(X_trains,Y_trains,X_vals,Y_vals)\n",
    "        parIdeal.append((tupla[0],tupla[1]))\n",
    "        tiemposDeEjecucion[i].append(tiempo)"
   ]
  },
  {
   "cell_type": "code",
   "execution_count": 73,
   "metadata": {},
   "outputs": [],
   "source": [
    "tiemposDeEjecucion = [[1620.3209363490007, 517.9380939339926, 177.6935183219839, 89.05138266004178, 67.30538997799522,65.26426614898992], [1645.4255232589903, 521.5876698380043, 179.40793328798554,91.91850996098219,67.42663054798868,60.930074498992326], [1633.7907866350324,517.2767119390228,177.42631799903393,92.38252230397484,64.10420476996296,61.08341693202965],[1637.3618278339382,517.8258732898976,180.15826841188027,91.3361352909269,61.513064184029645,59.374192010160186],[1637.6247921559043,517.3657459989263,179.60324345999106,92.11012257916445,66.1535997420433,62.19547860386956],[1630.6813027420721,521.036983095968,179.4455943120047,95.63549344400963,67.14909283201996,59.16061952809105]]\n",
    "parIdeal = [(5, 35),(3, 31),(5, 29),(5, 29),(4, 26),(1, 26)]"
   ]
  },
  {
   "cell_type": "code",
   "execution_count": 74,
   "metadata": {},
   "outputs": [
    {
     "name": "stdout",
     "output_type": "stream",
     "text": [
      "[1634.2008614958231, 518.8385130159686, 178.95581263214657, 92.07236103984997, 65.6086636756733, 61.33467462035545]\n"
     ]
    }
   ],
   "source": [
    "TiemposDeEjecucionPorSet = []\n",
    "\n",
    "for k in range(0,6):\n",
    "    suma = 0\n",
    "    for i in range(0, len(tiemposDeEjecucion)):\n",
    "        suma+= tiemposDeEjecucion[i][k]\n",
    "    promedio = suma / 6\n",
    "    TiemposDeEjecucionPorSet.append(promedio)\n",
    "        \n",
    "print(TiemposDeEjecucionPorSet)\n",
    "    "
   ]
  },
  {
   "cell_type": "code",
   "execution_count": 75,
   "metadata": {},
   "outputs": [],
   "source": [
    "#### Corrimos 5 veces el experimento para obtener un valor de tiempo mas representativo."
   ]
  },
  {
   "cell_type": "code",
   "execution_count": 76,
   "metadata": {},
   "outputs": [],
   "source": [
    "accuracys = []\n",
    "for i in range(len(setsDeDatos)):\n",
    "    y_pred = funciones.Test(parIdeal[i], setsDeDatos[i][0], setsDeDatos[i][1], setsDeDatos[i][2])\n",
    "    acc = sk.metrics.accuracy_score(setsDeDatos[i][3], y_pred)\n",
    "    accuracys.append(acc)\n",
    "    \n",
    "    "
   ]
  },
  {
   "cell_type": "code",
   "execution_count": 77,
   "metadata": {},
   "outputs": [
    {
     "data": {
      "image/png": "[encoded data removed]",
      "text/plain": [
       "<Figure size 691.2x518.4 with 1 Axes>"
      ]
     },
     "metadata": {
      "needs_background": "light"
     },
     "output_type": "display_data"
    }
   ],
   "source": [
    "#Tiempo en funcion de tamaño\n",
    "plt.figure(figsize = (6.4 * 1.5, 4.8 * 1.5))\n",
    "plt.title(\"Tiempo de ejecución del cálculo de los parametros óptimos en función del tamaño del set.\")\n",
    "plt.xlabel(\"Tamaño del entrenamiento\")\n",
    "plt.ylabel(\"Tiempo de Ejecución(s)\")\n",
    "plt.plot(cantidadDeDatosDeLosSets,TiemposDeEjecucionPorSet)\n",
    "plt.savefig('./graficosTamanoSet/tiempovstamanio.png')"
   ]
  },
  {
   "cell_type": "code",
   "execution_count": 79,
   "metadata": {},
   "outputs": [
    {
     "data": {
      "image/png": "[encoded data removed]",
      "text/plain": [
       "<Figure size 691.2x518.4 with 1 Axes>"
      ]
     },
     "metadata": {
      "needs_background": "light"
     },
     "output_type": "display_data"
    }
   ],
   "source": [
    "#Grafico de accu en funcion de tiempo.\n",
    "plt.figure(figsize = (6.4 * 1.5, 4.8 * 1.5))\n",
    "plt.title(\"Accuracy en función del tamaño de la muestra.\")\n",
    "plt.xlabel(\"Tamaño del entrenamiento\")\n",
    "plt.ylabel(\"Accuracy\")\n",
    "plt.scatter(cantidadDeDatosDeLosSets,accuracys)\n",
    "plt.savefig('./graficosTamanoSet/accuvstamanio.png')\n"
   ]
  },
  {
   "cell_type": "code",
   "execution_count": 15,
   "metadata": {},
   "outputs": [
    {
     "name": "stdout",
     "output_type": "stream",
     "text": [
      "[21000, 10500, 5250, 2625, 1312, 656]\n"
     ]
    }
   ],
   "source": [
    "print(cantidadDeDatosDeLosSets)"
   ]
  },
  {
   "cell_type": "markdown",
   "metadata": {},
   "source": [
    "## Variamos K de K-Fold."
   ]
  },
  {
   "cell_type": "markdown",
   "metadata": {},
   "source": [
    "#### Para cada K entrenamos 15 veces, shuffleando distinto la base de datos. Como la base de datos en si es la misma, deberia dar igual siempre. La idea es que para k chiquito, como no valida tantas veces, es propenso a errores y entonces es más inestable. Le medimos la varianza a los parametros mismos para intentar detectar esto. "
   ]
  },
  {
   "cell_type": "code",
   "execution_count": 66,
   "metadata": {},
   "outputs": [
    {
     "name": "stderr",
     "output_type": "stream",
     "text": [
      "100%|██████████| 15/15 [04:25<00:00, 17.69s/it]\n",
      "100%|██████████| 15/15 [04:31<00:00, 18.13s/it]\n",
      "100%|██████████| 15/15 [04:14<00:00, 16.97s/it]\n",
      "100%|██████████| 15/15 [04:34<00:00, 18.30s/it]\n",
      "100%|██████████| 15/15 [05:47<00:00, 23.18s/it]\n",
      "100%|██████████| 15/15 [07:34<00:00, 30.28s/it]\n",
      "100%|██████████| 15/15 [06:51<00:00, 27.47s/it]\n",
      "100%|██████████| 15/15 [06:46<00:00, 27.13s/it]\n",
      "100%|██████████| 15/15 [07:19<00:00, 29.28s/it]\n",
      "100%|██████████| 15/15 [07:29<00:00, 29.99s/it]\n",
      "100%|██████████| 15/15 [06:55<00:00, 27.69s/it]\n",
      "100%|██████████| 15/15 [04:41<00:00, 18.75s/it]\n",
      "100%|██████████| 15/15 [05:07<00:00, 20.48s/it]\n",
      "100%|██████████| 15/15 [05:01<00:00, 20.08s/it]\n",
      "100%|██████████| 15/15 [04:24<00:00, 17.62s/it]\n",
      "100%|██████████| 15/15 [11:40<00:00, 46.67s/it]\n",
      "100%|██████████| 15/15 [11:07<00:00, 44.51s/it]\n",
      "100%|██████████| 15/15 [11:16<00:00, 45.09s/it]\n",
      "100%|██████████| 15/15 [11:15<00:00, 45.03s/it]\n",
      "100%|██████████| 15/15 [11:54<00:00, 47.61s/it]\n",
      "100%|██████████| 15/15 [12:06<00:00, 48.41s/it]\n",
      "100%|██████████| 15/15 [13:21<00:00, 53.46s/it]\n",
      "100%|██████████| 15/15 [11:38<00:00, 46.59s/it]\n",
      "100%|██████████| 15/15 [12:16<00:00, 49.07s/it]\n",
      "100%|██████████| 15/15 [11:29<00:00, 45.97s/it]\n",
      "100%|██████████| 15/15 [11:14<00:00, 44.95s/it]\n",
      "100%|██████████| 15/15 [11:59<00:00, 47.94s/it]\n",
      "100%|██████████| 15/15 [11:45<00:00, 47.04s/it]\n",
      "100%|██████████| 15/15 [12:09<00:00, 48.66s/it]\n",
      "100%|██████████| 15/15 [13:18<00:00, 53.22s/it]\n"
     ]
    }
   ],
   "source": [
    "\n",
    "paresVars = []\n",
    "tamanoIdeal = 5250\n",
    "seeds = [1823,1273,98123,1273,12,7632,8763,65798,40738,213,1,2,3,4,5]\n",
    "paresIdealesPorK = []\n",
    "    \n",
    "for K in [2,5]:\n",
    "    paresIdeales = np.zeros((2,15))\n",
    "    for i in range(15):\n",
    "        X,Y,X_test,Y_test = funciones.construir_dataset(tamanoIdeal, seeds[i])\n",
    "        X_trains,Y_trains,X_vals,Y_vals = funciones.get_KFold_sets(X,Y,K)\n",
    "        tupla, tiempo = funciones.encontrarParOptimo(X_trains,Y_trains,X_vals,Y_vals)\n",
    "        paresIdeales[0][i], paresIdeales[1][i] = tupla[0], tupla[1] \n",
    "        paresIdealesPorK.append(tupla)\n",
    "        y_pred = funciones.Test(tupla,X,Y,X_test)\n",
    "    \n",
    "    varMatrix = np.cov(paresIdeales)\n",
    "    paresVars.append(np.linalg.det(varMatrix))\n",
    "   \n",
    " \n",
    "\n",
    "\n",
    "#Shufflear varias veces. Medir la varianza de los parametros k y alpha. Medir la esperanza y la varianza del accuracy al testear.\n"
   ]
  },
  {
   "cell_type": "code",
   "execution_count": 68,
   "metadata": {},
   "outputs": [
    {
     "data": {
      "image/png": "[encoded data removed]",
      "text/plain": [
       "<Figure size 691.2x518.4 with 1 Axes>"
      ]
     },
     "metadata": {
      "needs_background": "light"
     },
     "output_type": "display_data"
    }
   ],
   "source": [
    "#grafico r2 de los parametros. (Y el numero de la varianza en las leyendas?)\n",
    "Ks,As = zip(*paresIdealesPorK)\n",
    "\n",
    "plt.figure(figsize = (6.4 * 1.5, 4.8 * 1.5))\n",
    "plt.title(\"Dispersión de los parámetros elegidos por cada K\")\n",
    "plt.xlabel(\"Parámetro k\")\n",
    "plt.ylabel(\"Parámetro Alpha\")\n",
    "plt.xlim([0, 10])\n",
    "plt.ylim([25, 40])\n",
    "plt.plot(Ks[0:15],As[0:15],'or', label='K=2')\n",
    "plt.plot(Ks[15:30],As[15:30],'ob', label='K=5')\n",
    "plt.legend()\n",
    "plt.savefig('./graficosTamanoSet/dispersionparams.png')"
   ]
  },
  {
   "cell_type": "code",
   "execution_count": 69,
   "metadata": {},
   "outputs": [
    {
     "name": "stdout",
     "output_type": "stream",
     "text": [
      "La varianza con K = 2 es  9.82619047619047\n",
      "La varianza con K = 5 es  8.648979591836735\n"
     ]
    }
   ],
   "source": [
    "print(\"La varianza con K = 2 es \",paresVars[0])\n",
    "print(\"La varianza con K = 5 es \",paresVars[1])"
   ]
  }
 ],
 "metadata": {
  "kernelspec": {
   "display_name": "Python 3",
   "language": "python",
   "name": "python3"
  },
  "language_info": {
   "codemirror_mode": {
    "name": "ipython",
    "version": 3
   },
   "file_extension": ".py",
   "mimetype": "text/x-python",
   "name": "python",
   "nbconvert_exporter": "python",
   "pygments_lexer": "ipython3",
   "version": "3.8.5"
  }
 },
 "nbformat": 4,
 "nbformat_minor": 4
}

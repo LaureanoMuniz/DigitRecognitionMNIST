{
 "cells": [
  {
   "cell_type": "markdown",
   "metadata": {},
   "source": [
    "# Reconocimiento de dígitos con KNN\n",
    "\n",
    "Veamos como interactuar con las clases implementadas en el módulo de C++ haciendo una experimentación muy simplificada, y a modo de ejemplo, del método KNN para reconocer digitos"
   ]
  },
  {
   "cell_type": "markdown",
   "metadata": {},
   "source": [
    "## Compilando el módulo desde C++\n",
    "\n",
    "Definir los path al ejecutable de python 3.6 y sus librerías,\n",
    "de acuerdo al virtual env que estén corriendo."
   ]
  },
  {
   "cell_type": "code",
   "execution_count": 64,
   "metadata": {},
   "outputs": [
    {
     "name": "stdout",
     "output_type": "stream",
     "text": [
      "mkdir: no se puede crear el directorio «build»: El archivo ya existe\n",
      "-- The C compiler identification is GNU 9.3.0\n",
      "-- The CXX compiler identification is GNU 9.3.0\n",
      "-- Check for working C compiler: /usr/bin/cc\n",
      "-- Check for working C compiler: /usr/bin/cc -- works\n",
      "-- Detecting C compiler ABI info\n",
      "-- Detecting C compiler ABI info - done\n",
      "-- Detecting C compile features\n",
      "-- Detecting C compile features - done\n",
      "-- Check for working CXX compiler: /usr/bin/c++\n",
      "-- Check for working CXX compiler: /usr/bin/c++ -- works\n",
      "-- Detecting CXX compiler ABI info\n",
      "-- Detecting CXX compiler ABI info - done\n",
      "-- Detecting CXX compile features\n",
      "-- Detecting CXX compile features - done\n",
      "Release mode\n",
      "-- Found PythonInterp: /home/laureano/Documentos/met2021/grupal/metnum-1c2021-tp2/tp2/bin/python (found version \"3.8.5\") \n",
      "-- Found PythonLibs: /usr/lib/x86_64-linux-gnu/libpython3.8.so\n",
      "-- pybind11 v2.2.4\n",
      "-- Performing Test HAS_FLTO\n",
      "-- Performing Test HAS_FLTO - Success\n",
      "-- LTO enabled\n",
      "CMAKE_INSTALL_PREFIX=/home/laureano/Documentos/met2021/grupal/metnum-1c2021-tp2\n",
      "-- Configuring done\n",
      "-- Generating done\n",
      "-- Build files have been written to: /home/laureano/Documentos/met2021/grupal/metnum-1c2021-tp2/build\n",
      "\u001b[35m\u001b[1mScanning dependencies of target tp2\u001b[0m\n",
      "[ 10%] \u001b[32mBuilding CXX object CMakeFiles/tp2.dir/src/main.cpp.o\u001b[0m\n",
      "[ 20%] \u001b[32mBuilding CXX object CMakeFiles/tp2.dir/src/knn.cpp.o\u001b[0m\n",
      "\u001b[01m\u001b[K/home/laureano/Documentos/met2021/grupal/metnum-1c2021-tp2/src/knn.cpp:\u001b[m\u001b[K In member function ‘\u001b[01m\u001b[KIVector KNNClassifier::predict(Matrix)\u001b[m\u001b[K’:\n",
      "\u001b[01m\u001b[K/home/laureano/Documentos/met2021/grupal/metnum-1c2021-tp2/src/knn.cpp:45:16:\u001b[m\u001b[K \u001b[01;35m\u001b[Kwarning: \u001b[m\u001b[K‘\u001b[01m\u001b[Kmode\u001b[m\u001b[K’ may be used uninitialized in this function [\u001b[01;35m\u001b[K-Wmaybe-uninitialized\u001b[m\u001b[K]\n",
      "   45 |         ret[k] = mode;\n",
      "[ 30%] \u001b[32mBuilding CXX object CMakeFiles/tp2.dir/src/pca.cpp.o\u001b[0m\n",
      "[ 40%] \u001b[32mBuilding CXX object CMakeFiles/tp2.dir/src/eigen.cpp.o\u001b[0m\n",
      "[ 50%] \u001b[32m\u001b[1mLinking CXX executable tp2\u001b[0m\n",
      "[ 50%] Built target tp2\n",
      "\u001b[35m\u001b[1mScanning dependencies of target metnum\u001b[0m\n",
      "[ 60%] \u001b[32mBuilding CXX object CMakeFiles/metnum.dir/src/metnum.cpp.o\u001b[0m\n",
      "[ 70%] \u001b[32mBuilding CXX object CMakeFiles/metnum.dir/src/knn.cpp.o\u001b[0m\n",
      "[ 80%] \u001b[32mBuilding CXX object CMakeFiles/metnum.dir/src/pca.cpp.o\u001b[0m\n",
      "[ 90%] \u001b[32mBuilding CXX object CMakeFiles/metnum.dir/src/eigen.cpp.o\u001b[0m\n",
      "[100%] \u001b[32m\u001b[1mLinking CXX shared module metnum.cpython-38-x86_64-linux-gnu.so\u001b[0m\n",
      "[100%] Built target metnum\n",
      "\u001b[36mInstall the project...\u001b[0m\n",
      "-- Install configuration: \"Release\"\n",
      "-- Installing: /home/laureano/Documentos/met2021/grupal/metnum-1c2021-tp2/notebooks/metnum.cpython-38-x86_64-linux-gnu.so\n"
     ]
    }
   ],
   "source": [
    "!cd .. && mkdir build\n",
    "!cd ../build/ && rm -rf *\n",
    "!cd ../build && cmake \\\n",
    "  -DPYTHON_EXECUTABLE=\"$(which python)\" \\\n",
    "  -DCMAKE_BUILD_TYPE=Release ..\n",
    "!cd ../build && make install"
   ]
  },
  {
   "cell_type": "code",
   "execution_count": 65,
   "metadata": {},
   "outputs": [
    {
     "name": "stdout",
     "output_type": "stream",
     "text": [
      "/home/laureano/Documentos/met2021/grupal/metnum-1c2021-tp2/notebooks\n",
      "Python 3.8.5\n"
     ]
    }
   ],
   "source": [
    "# Verifico la correcta instalación. Si no falla el import está OK\n",
    "!pwd\n",
    "!python --version\n",
    "import metnum"
   ]
  },
  {
   "cell_type": "markdown",
   "metadata": {},
   "source": [
    "## Explorando los datos"
   ]
  },
  {
   "cell_type": "code",
   "execution_count": 66,
   "metadata": {},
   "outputs": [
    {
     "name": "stdout",
     "output_type": "stream",
     "text": [
      "The autoreload extension is already loaded. To reload it, use:\n",
      "  %reload_ext autoreload\n"
     ]
    }
   ],
   "source": [
    "%load_ext autoreload\n",
    "%autoreload 2\n",
    "import pandas as pd\n",
    "\n",
    "df_whole = pd.read_csv(\"../data/train.csv\")"
   ]
  },
  {
   "cell_type": "markdown",
   "metadata": {},
   "source": [
    "Es un csv, con columnas por cada pixel"
   ]
  },
  {
   "cell_type": "code",
   "execution_count": 67,
   "metadata": {},
   "outputs": [
    {
     "data": {
      "text/html": [
       "<div>\n",
       "<style scoped>\n",
       "    .dataframe tbody tr th:only-of-type {\n",
       "        vertical-align: middle;\n",
       "    }\n",
       "\n",
       "    .dataframe tbody tr th {\n",
       "        vertical-align: top;\n",
       "    }\n",
       "\n",
       "    .dataframe thead th {\n",
       "        text-align: right;\n",
       "    }\n",
       "</style>\n",
       "<table border=\"1\" class=\"dataframe\">\n",
       "  <thead>\n",
       "    <tr style=\"text-align: right;\">\n",
       "      <th></th>\n",
       "      <th>label</th>\n",
       "      <th>pixel0</th>\n",
       "      <th>pixel1</th>\n",
       "      <th>pixel2</th>\n",
       "      <th>pixel3</th>\n",
       "      <th>pixel4</th>\n",
       "      <th>pixel5</th>\n",
       "      <th>pixel6</th>\n",
       "      <th>pixel7</th>\n",
       "      <th>pixel8</th>\n",
       "      <th>...</th>\n",
       "      <th>pixel774</th>\n",
       "      <th>pixel775</th>\n",
       "      <th>pixel776</th>\n",
       "      <th>pixel777</th>\n",
       "      <th>pixel778</th>\n",
       "      <th>pixel779</th>\n",
       "      <th>pixel780</th>\n",
       "      <th>pixel781</th>\n",
       "      <th>pixel782</th>\n",
       "      <th>pixel783</th>\n",
       "    </tr>\n",
       "  </thead>\n",
       "  <tbody>\n",
       "    <tr>\n",
       "      <th>0</th>\n",
       "      <td>1</td>\n",
       "      <td>0</td>\n",
       "      <td>0</td>\n",
       "      <td>0</td>\n",
       "      <td>0</td>\n",
       "      <td>0</td>\n",
       "      <td>0</td>\n",
       "      <td>0</td>\n",
       "      <td>0</td>\n",
       "      <td>0</td>\n",
       "      <td>...</td>\n",
       "      <td>0</td>\n",
       "      <td>0</td>\n",
       "      <td>0</td>\n",
       "      <td>0</td>\n",
       "      <td>0</td>\n",
       "      <td>0</td>\n",
       "      <td>0</td>\n",
       "      <td>0</td>\n",
       "      <td>0</td>\n",
       "      <td>0</td>\n",
       "    </tr>\n",
       "    <tr>\n",
       "      <th>1</th>\n",
       "      <td>0</td>\n",
       "      <td>0</td>\n",
       "      <td>0</td>\n",
       "      <td>0</td>\n",
       "      <td>0</td>\n",
       "      <td>0</td>\n",
       "      <td>0</td>\n",
       "      <td>0</td>\n",
       "      <td>0</td>\n",
       "      <td>0</td>\n",
       "      <td>...</td>\n",
       "      <td>0</td>\n",
       "      <td>0</td>\n",
       "      <td>0</td>\n",
       "      <td>0</td>\n",
       "      <td>0</td>\n",
       "      <td>0</td>\n",
       "      <td>0</td>\n",
       "      <td>0</td>\n",
       "      <td>0</td>\n",
       "      <td>0</td>\n",
       "    </tr>\n",
       "    <tr>\n",
       "      <th>2</th>\n",
       "      <td>1</td>\n",
       "      <td>0</td>\n",
       "      <td>0</td>\n",
       "      <td>0</td>\n",
       "      <td>0</td>\n",
       "      <td>0</td>\n",
       "      <td>0</td>\n",
       "      <td>0</td>\n",
       "      <td>0</td>\n",
       "      <td>0</td>\n",
       "      <td>...</td>\n",
       "      <td>0</td>\n",
       "      <td>0</td>\n",
       "      <td>0</td>\n",
       "      <td>0</td>\n",
       "      <td>0</td>\n",
       "      <td>0</td>\n",
       "      <td>0</td>\n",
       "      <td>0</td>\n",
       "      <td>0</td>\n",
       "      <td>0</td>\n",
       "    </tr>\n",
       "    <tr>\n",
       "      <th>3</th>\n",
       "      <td>4</td>\n",
       "      <td>0</td>\n",
       "      <td>0</td>\n",
       "      <td>0</td>\n",
       "      <td>0</td>\n",
       "      <td>0</td>\n",
       "      <td>0</td>\n",
       "      <td>0</td>\n",
       "      <td>0</td>\n",
       "      <td>0</td>\n",
       "      <td>...</td>\n",
       "      <td>0</td>\n",
       "      <td>0</td>\n",
       "      <td>0</td>\n",
       "      <td>0</td>\n",
       "      <td>0</td>\n",
       "      <td>0</td>\n",
       "      <td>0</td>\n",
       "      <td>0</td>\n",
       "      <td>0</td>\n",
       "      <td>0</td>\n",
       "    </tr>\n",
       "    <tr>\n",
       "      <th>4</th>\n",
       "      <td>0</td>\n",
       "      <td>0</td>\n",
       "      <td>0</td>\n",
       "      <td>0</td>\n",
       "      <td>0</td>\n",
       "      <td>0</td>\n",
       "      <td>0</td>\n",
       "      <td>0</td>\n",
       "      <td>0</td>\n",
       "      <td>0</td>\n",
       "      <td>...</td>\n",
       "      <td>0</td>\n",
       "      <td>0</td>\n",
       "      <td>0</td>\n",
       "      <td>0</td>\n",
       "      <td>0</td>\n",
       "      <td>0</td>\n",
       "      <td>0</td>\n",
       "      <td>0</td>\n",
       "      <td>0</td>\n",
       "      <td>0</td>\n",
       "    </tr>\n",
       "    <tr>\n",
       "      <th>5</th>\n",
       "      <td>0</td>\n",
       "      <td>0</td>\n",
       "      <td>0</td>\n",
       "      <td>0</td>\n",
       "      <td>0</td>\n",
       "      <td>0</td>\n",
       "      <td>0</td>\n",
       "      <td>0</td>\n",
       "      <td>0</td>\n",
       "      <td>0</td>\n",
       "      <td>...</td>\n",
       "      <td>0</td>\n",
       "      <td>0</td>\n",
       "      <td>0</td>\n",
       "      <td>0</td>\n",
       "      <td>0</td>\n",
       "      <td>0</td>\n",
       "      <td>0</td>\n",
       "      <td>0</td>\n",
       "      <td>0</td>\n",
       "      <td>0</td>\n",
       "    </tr>\n",
       "    <tr>\n",
       "      <th>6</th>\n",
       "      <td>7</td>\n",
       "      <td>0</td>\n",
       "      <td>0</td>\n",
       "      <td>0</td>\n",
       "      <td>0</td>\n",
       "      <td>0</td>\n",
       "      <td>0</td>\n",
       "      <td>0</td>\n",
       "      <td>0</td>\n",
       "      <td>0</td>\n",
       "      <td>...</td>\n",
       "      <td>0</td>\n",
       "      <td>0</td>\n",
       "      <td>0</td>\n",
       "      <td>0</td>\n",
       "      <td>0</td>\n",
       "      <td>0</td>\n",
       "      <td>0</td>\n",
       "      <td>0</td>\n",
       "      <td>0</td>\n",
       "      <td>0</td>\n",
       "    </tr>\n",
       "    <tr>\n",
       "      <th>7</th>\n",
       "      <td>3</td>\n",
       "      <td>0</td>\n",
       "      <td>0</td>\n",
       "      <td>0</td>\n",
       "      <td>0</td>\n",
       "      <td>0</td>\n",
       "      <td>0</td>\n",
       "      <td>0</td>\n",
       "      <td>0</td>\n",
       "      <td>0</td>\n",
       "      <td>...</td>\n",
       "      <td>0</td>\n",
       "      <td>0</td>\n",
       "      <td>0</td>\n",
       "      <td>0</td>\n",
       "      <td>0</td>\n",
       "      <td>0</td>\n",
       "      <td>0</td>\n",
       "      <td>0</td>\n",
       "      <td>0</td>\n",
       "      <td>0</td>\n",
       "    </tr>\n",
       "    <tr>\n",
       "      <th>8</th>\n",
       "      <td>5</td>\n",
       "      <td>0</td>\n",
       "      <td>0</td>\n",
       "      <td>0</td>\n",
       "      <td>0</td>\n",
       "      <td>0</td>\n",
       "      <td>0</td>\n",
       "      <td>0</td>\n",
       "      <td>0</td>\n",
       "      <td>0</td>\n",
       "      <td>...</td>\n",
       "      <td>0</td>\n",
       "      <td>0</td>\n",
       "      <td>0</td>\n",
       "      <td>0</td>\n",
       "      <td>0</td>\n",
       "      <td>0</td>\n",
       "      <td>0</td>\n",
       "      <td>0</td>\n",
       "      <td>0</td>\n",
       "      <td>0</td>\n",
       "    </tr>\n",
       "    <tr>\n",
       "      <th>9</th>\n",
       "      <td>3</td>\n",
       "      <td>0</td>\n",
       "      <td>0</td>\n",
       "      <td>0</td>\n",
       "      <td>0</td>\n",
       "      <td>0</td>\n",
       "      <td>0</td>\n",
       "      <td>0</td>\n",
       "      <td>0</td>\n",
       "      <td>0</td>\n",
       "      <td>...</td>\n",
       "      <td>0</td>\n",
       "      <td>0</td>\n",
       "      <td>0</td>\n",
       "      <td>0</td>\n",
       "      <td>0</td>\n",
       "      <td>0</td>\n",
       "      <td>0</td>\n",
       "      <td>0</td>\n",
       "      <td>0</td>\n",
       "      <td>0</td>\n",
       "    </tr>\n",
       "  </tbody>\n",
       "</table>\n",
       "<p>10 rows × 785 columns</p>\n",
       "</div>"
      ],
      "text/plain": [
       "   label  pixel0  pixel1  pixel2  pixel3  pixel4  pixel5  pixel6  pixel7  \\\n",
       "0      1       0       0       0       0       0       0       0       0   \n",
       "1      0       0       0       0       0       0       0       0       0   \n",
       "2      1       0       0       0       0       0       0       0       0   \n",
       "3      4       0       0       0       0       0       0       0       0   \n",
       "4      0       0       0       0       0       0       0       0       0   \n",
       "5      0       0       0       0       0       0       0       0       0   \n",
       "6      7       0       0       0       0       0       0       0       0   \n",
       "7      3       0       0       0       0       0       0       0       0   \n",
       "8      5       0       0       0       0       0       0       0       0   \n",
       "9      3       0       0       0       0       0       0       0       0   \n",
       "\n",
       "   pixel8  ...  pixel774  pixel775  pixel776  pixel777  pixel778  pixel779  \\\n",
       "0       0  ...         0         0         0         0         0         0   \n",
       "1       0  ...         0         0         0         0         0         0   \n",
       "2       0  ...         0         0         0         0         0         0   \n",
       "3       0  ...         0         0         0         0         0         0   \n",
       "4       0  ...         0         0         0         0         0         0   \n",
       "5       0  ...         0         0         0         0         0         0   \n",
       "6       0  ...         0         0         0         0         0         0   \n",
       "7       0  ...         0         0         0         0         0         0   \n",
       "8       0  ...         0         0         0         0         0         0   \n",
       "9       0  ...         0         0         0         0         0         0   \n",
       "\n",
       "   pixel780  pixel781  pixel782  pixel783  \n",
       "0         0         0         0         0  \n",
       "1         0         0         0         0  \n",
       "2         0         0         0         0  \n",
       "3         0         0         0         0  \n",
       "4         0         0         0         0  \n",
       "5         0         0         0         0  \n",
       "6         0         0         0         0  \n",
       "7         0         0         0         0  \n",
       "8         0         0         0         0  \n",
       "9         0         0         0         0  \n",
       "\n",
       "[10 rows x 785 columns]"
      ]
     },
     "execution_count": 67,
     "metadata": {},
     "output_type": "execute_result"
    }
   ],
   "source": [
    "df_whole[:10]"
   ]
  },
  {
   "cell_type": "markdown",
   "metadata": {},
   "source": [
    "### Reducir el dataset\n",
    "\n",
    "Ya que el dataset es grande, me quedo con una porción de éste\n",
    "\n",
    "**<font color=red>ESTO ES SOLO PARA HACER PRUEBAS. CUANDO REPORTEN LOS RESULTADOS, USAR DATASET COMPLETO</font>**"
   ]
  },
  {
   "cell_type": "code",
   "execution_count": 68,
   "metadata": {},
   "outputs": [],
   "source": [
    "df_whole = df_whole[:5000]\n",
    "cutting_point = len(df_whole) - (len(df_whole)//5)\n",
    "df_train = df_whole[:cutting_point]\n",
    "df_test = df_whole[cutting_point:]"
   ]
  },
  {
   "cell_type": "markdown",
   "metadata": {},
   "source": [
    "En el primer caracter está el dígito a reconocer. Llamamos a esto `y_train`"
   ]
  },
  {
   "cell_type": "code",
   "execution_count": 69,
   "metadata": {},
   "outputs": [
    {
     "data": {
      "text/plain": [
       "((4000, 784), (4000, 1))"
      ]
     },
     "execution_count": 69,
     "metadata": {},
     "output_type": "execute_result"
    }
   ],
   "source": [
    "# Uso values para mandar todo a arrays de numpy\n",
    "X = df_train[df_train.columns[1:]].values\n",
    "y = df_train[\"label\"].values.reshape(-1, 1)\n",
    "\n",
    "X.shape, y.shape"
   ]
  },
  {
   "cell_type": "markdown",
   "metadata": {},
   "source": [
    "Convierto el resto a matrices de 28 x 28"
   ]
  },
  {
   "cell_type": "markdown",
   "metadata": {},
   "source": [
    "A ver cómo se ven..."
   ]
  },
  {
   "cell_type": "code",
   "execution_count": 70,
   "metadata": {},
   "outputs": [
    {
     "name": "stdout",
     "output_type": "stream",
     "text": [
      "Supuestamente es un 7\n"
     ]
    },
    {
     "data": {
      "text/plain": [
       "<matplotlib.image.AxesImage at 0x7f36b0be24f0>"
      ]
     },
     "execution_count": 70,
     "metadata": {},
     "output_type": "execute_result"
    },
    {
     "data": {
      "image/png": "[encoded data removed]",
      "text/plain": [
       "<Figure size 432x288 with 1 Axes>"
      ]
     },
     "metadata": {
      "needs_background": "light"
     },
     "output_type": "display_data"
    }
   ],
   "source": [
    "import matplotlib.pyplot as plt\n",
    "\n",
    "num = 1917\n",
    "\n",
    "print(f\"Supuestamente es un {int(y[num])}\")\n",
    "\n",
    "img = X[num].reshape(28, 28)\n",
    "plt.imshow(img, cmap=\"Greys\")\n"
   ]
  },
  {
   "cell_type": "markdown",
   "metadata": {},
   "source": [
    "### Balance de clases\n",
    "\n",
    "¿Tenemos la misma cantidad de cada número?"
   ]
  },
  {
   "cell_type": "code",
   "execution_count": 71,
   "metadata": {},
   "outputs": [
    {
     "data": {
      "text/plain": [
       "1    0.11150\n",
       "2    0.10750\n",
       "6    0.10325\n",
       "7    0.10225\n",
       "0    0.10000\n",
       "4    0.09725\n",
       "8    0.09575\n",
       "9    0.09525\n",
       "5    0.09475\n",
       "3    0.09250\n",
       "Name: label, dtype: float64"
      ]
     },
     "execution_count": 71,
     "metadata": {},
     "output_type": "execute_result"
    }
   ],
   "source": [
    "df_train[\"label\"].value_counts(normalize=True)"
   ]
  },
  {
   "cell_type": "markdown",
   "metadata": {},
   "source": [
    "No: tenemos más 1 que 5, pero tampoco está tan desbalanceado"
   ]
  },
  {
   "cell_type": "markdown",
   "metadata": {},
   "source": [
    "### Conjunto de development"
   ]
  },
  {
   "cell_type": "code",
   "execution_count": 72,
   "metadata": {},
   "outputs": [
    {
     "name": "stdout",
     "output_type": "stream",
     "text": [
      "Ahora tengo 3200 instancias de entrenamiento y 800 de validación\n"
     ]
    }
   ],
   "source": [
    "limit = int(0.8 * X.shape[0]) \n",
    "\n",
    "X_train, y_train = X[:limit], y[:limit]\n",
    "X_val, y_val = X[limit:], y[limit:]\n",
    "\n",
    "assert len(X_train) == len(y_train)\n",
    "assert len(X_val) == len(y_val)\n",
    "\n",
    "print(f\"Ahora tengo {len(X_train)} instancias de entrenamiento y {len(X_val)} de validación\")\n"
   ]
  },
  {
   "cell_type": "code",
   "execution_count": 73,
   "metadata": {},
   "outputs": [],
   "source": [
    "from sklearn.neighbors import KNeighborsClassifier\n",
    "\n",
    "# Acá pueden cambiar el clasificador nuestro por el de sklearn!\n",
    "\n",
    "clf = metnum.KNNClassifier(100)\n",
    "#clf = KNeighborsClassifier(100)\n",
    "\n",
    "clf.fit(X_train, y_train)\n"
   ]
  },
  {
   "cell_type": "code",
   "execution_count": 74,
   "metadata": {},
   "outputs": [
    {
     "name": "stdout",
     "output_type": "stream",
     "text": [
      "Accuracy: 0.7875\n",
      "CPU times: user 938 ms, sys: 4 ms, total: 942 ms\n",
      "Wall time: 939 ms\n"
     ]
    }
   ],
   "source": [
    "%%time\n",
    "from sklearn.metrics import accuracy_score\n",
    "y_pred = clf.predict(X_val)\n",
    "\n",
    "acc = accuracy_score(y_val, y_pred)\n",
    "print(\"Accuracy: {}\".format(acc))\n"
   ]
  },
  {
   "cell_type": "code",
   "execution_count": 75,
   "metadata": {},
   "outputs": [],
   "source": [
    "import numpy as np\n",
    "\n",
    "def get_KFold_sets(x,y,K=5):\n",
    "    X_trains = []\n",
    "    Y_trains = []\n",
    "    X_vals = []\n",
    "    Y_vals = []\n",
    "    bucket_size = len(x)//K\n",
    "    for i in range(K):\n",
    "        low = bucket_size*i\n",
    "        high = bucket_size * (i+1)\n",
    "        X_vals.append(x[low :high])\n",
    "        Y_vals.append(y[low :high])\n",
    "        X_train,Y_train = x[:low], y[:low]\n",
    "        X_train = np.concatenate((X_train,x[high:]),axis=0)\n",
    "        Y_train = np.concatenate((Y_train,y[high:]),axis=0)\n",
    "        X_trains.append(X_train)\n",
    "        Y_trains.append(Y_train)\n",
    "    return X_trains,Y_trains,X_vals,Y_vals"
   ]
  },
  {
   "cell_type": "markdown",
   "metadata": {},
   "source": [
    "### Búsqueda de k vecinos ideal"
   ]
  },
  {
   "cell_type": "markdown",
   "metadata": {},
   "source": [
    "Buscamos cual es el número de k vecinos que parece ser el ideal. Notemos que la calidad del número elegido no sólo depende de la exactitud(accuracy) obtenido al predecir sino de diferentes métricas."
   ]
  },
  {
   "cell_type": "markdown",
   "metadata": {},
   "source": [
    "Dentro de estas métricas tenemos: \n",
    "    Exactitud\n",
    "    Tiempo de ejecución\n",
    "    Curvas de precisión\n",
    "    Kappa de Cohen\n",
    "    F1-Score"
   ]
  },
  {
   "cell_type": "code",
   "execution_count": 76,
   "metadata": {},
   "outputs": [],
   "source": [
    "import sklearn.metrics as sk ## No se si podemos usar las de sk learn\n",
    "\n",
    "def metricas(y_val,y_pred):\n",
    "    acc = sk.accuracy_score(y_val, y_pred)\n",
    "    recall = sk.recall_score(y_val, y_pred, average='macro') ### Cantidad de true positive / (true positive + false negative)\n",
    "    ### average = None hace el recall de cada etiqueta, hay average con peso y otras...\n",
    "    ### usamos average = macro que devuelve el promedio del average/precision/f1 entre las etiquetas\n",
    "    precision = sk.precision_score(y_val, y_pred, average='macro')\n",
    "    f1 = sk.f1_score(y_val, y_pred, average='macro')\n",
    "    print(\"Accuracy: {}\".format(acc))\n",
    "    print(\"Recall: {}\".format(recall))\n",
    "    print(\"Precision: {}\".format(precision))\n",
    "    print(\"F1: {}\".format(f1))\n",
    "    \n",
    "    "
   ]
  },
  {
   "cell_type": "code",
   "execution_count": 77,
   "metadata": {},
   "outputs": [
    {
     "name": "stdout",
     "output_type": "stream",
     "text": [
      "CPU times: user 9.02 ms, sys: 2 µs, total: 9.02 ms\n",
      "Wall time: 8.84 ms\n",
      "Accuracy: 0.7875\n",
      "Recall: 0.7822112884282028\n",
      "Precision: 0.8254540848090169\n",
      "F1: 0.7870004099425632\n"
     ]
    }
   ],
   "source": [
    "%time clf.fit(X_train, y_train)\n",
    "y_pred = clf.predict(X_val)\n",
    "metricas(y_val,y_pred)"
   ]
  },
  {
   "cell_type": "markdown",
   "metadata": {},
   "source": [
    "### IDEA"
   ]
  },
  {
   "cell_type": "markdown",
   "metadata": {},
   "source": [
    "Hacemos un grafiquito con las accuracys por K. Nos quedamos con las 5 mejores k. Analizamos en las 5 mejores sus métricas. Vemos si hay razones para preferir un k de menor accuracy."
   ]
  },
  {
   "cell_type": "markdown",
   "metadata": {},
   "source": [
    "#### Las k de mejor accuracy"
   ]
  },
  {
   "cell_type": "markdown",
   "metadata": {},
   "source": [
    "Buscamos dentro del intervalo 1 a 100 con saltos de a 2, para darnos una idea de donde pueden ubicarse los k de mejor accuracy"
   ]
  },
  {
   "cell_type": "code",
   "execution_count": 78,
   "metadata": {},
   "outputs": [
    {
     "name": "stderr",
     "output_type": "stream",
     "text": [
      "100%|██████████| 50/50 [04:05<00:00,  4.92s/it]\n"
     ]
    }
   ],
   "source": [
    "accs = []\n",
    "X_trains, Y_trains, X_vals, Y_vals = get_KFold_sets(X,y)\n",
    "\n",
    "from tqdm import tqdm\n",
    "for k in tqdm(range(1,100,2)):\n",
    "    acc = 0\n",
    "    for i in range(len(X_trains)): \n",
    "        clf = metnum.KNNClassifier(k)\n",
    "        clf.fit(X_trains[i],Y_trains[i])\n",
    "        y_pred = clf.predict(X_vals[i])\n",
    "        acc += sk.accuracy_score(Y_vals[i], y_pred)\n",
    "    acc = acc/len(X_trains)\n",
    "    accs.append((acc,k))"
   ]
  },
  {
   "cell_type": "code",
   "execution_count": 79,
   "metadata": {},
   "outputs": [
    {
     "name": "stdout",
     "output_type": "stream",
     "text": [
      "[(0.922, 1), (0.91525, 3), (0.9179999999999999, 5), (0.9145, 7), (0.9145, 9), (0.90625, 11), (0.9027499999999999, 13), (0.901, 15), (0.8985000000000001, 17), (0.8955, 19), (0.892, 21), (0.8879999999999999, 23), (0.88575, 25), (0.88275, 27), (0.88275, 29), (0.88125, 31), (0.8797499999999999, 33), (0.8765000000000001, 35), (0.8755000000000001, 37), (0.8707499999999999, 39), (0.8702499999999999, 41), (0.867, 43), (0.86425, 45), (0.8619999999999999, 47), (0.8592500000000001, 49), (0.8560000000000001, 51), (0.8549999999999999, 53), (0.85225, 55), (0.8515, 57), (0.84925, 59), (0.8465, 61), (0.84575, 63), (0.8424999999999999, 65), (0.8400000000000001, 67), (0.8380000000000001, 69), (0.83675, 71), (0.8345, 73), (0.8327500000000001, 75), (0.8310000000000001, 77), (0.8290000000000001, 79), (0.82775, 81), (0.8262499999999999, 83), (0.8230000000000001, 85), (0.81975, 87), (0.8177499999999999, 89), (0.8157500000000001, 91), (0.81375, 93), (0.8150000000000001, 95), (0.8135, 97), (0.812, 99)]\n"
     ]
    }
   ],
   "source": [
    "print((accs))"
   ]
  },
  {
   "cell_type": "code",
   "execution_count": 80,
   "metadata": {},
   "outputs": [
    {
     "data": {
      "text/plain": [
       "[<matplotlib.lines.Line2D at 0x7f36b0d5bfd0>]"
      ]
     },
     "execution_count": 80,
     "metadata": {},
     "output_type": "execute_result"
    },
    {
     "data": {
      "image/png": "[encoded data removed]",
      "text/plain": [
       "<Figure size 432x288 with 1 Axes>"
      ]
     },
     "metadata": {
      "needs_background": "light"
     },
     "output_type": "display_data"
    }
   ],
   "source": [
    "acc_grafico, k_grafico = zip(*accs)\n",
    "plt.plot(k_grafico,acc_grafico)\n"
   ]
  },
  {
   "cell_type": "markdown",
   "metadata": {},
   "source": [
    "Observamos que las k de mejor accuracy están en los números mas bajos"
   ]
  },
  {
   "cell_type": "code",
   "execution_count": 81,
   "metadata": {},
   "outputs": [
    {
     "name": "stderr",
     "output_type": "stream",
     "text": [
      "100%|██████████| 14/14 [01:10<00:00,  5.03s/it]\n"
     ]
    }
   ],
   "source": [
    "accs = []\n",
    "from tqdm import tqdm\n",
    "for k in tqdm(range(1,15,1)):\n",
    "    acc = 0\n",
    "    for i in range(len(X_trains)):\n",
    "        clf = metnum.KNNClassifier(k)\n",
    "        clf.fit(X_trains[i],Y_trains[i])\n",
    "        y_pred = clf.predict(X_vals[i])\n",
    "        acc += sk.accuracy_score(Y_vals[i], y_pred)\n",
    "    acc = acc/len(X_trains)\n",
    "    accs.append((acc,k))"
   ]
  },
  {
   "cell_type": "code",
   "execution_count": 82,
   "metadata": {},
   "outputs": [
    {
     "name": "stdout",
     "output_type": "stream",
     "text": [
      "[(0.922, 1), (0.9189999999999999, 4), (0.9179999999999999, 5), (0.9157499999999998, 6), (0.91525, 8)]\n",
      "[(0.922, 1), (0.8995000000000001, 2), (0.91525, 3), (0.9189999999999999, 4), (0.9179999999999999, 5), (0.9157499999999998, 6), (0.9145, 7), (0.91525, 8), (0.9145, 9), (0.91175, 10), (0.90625, 11), (0.9065, 12), (0.9027499999999999, 13), (0.9022499999999999, 14)]\n"
     ]
    },
    {
     "data": {
      "text/plain": [
       "[<matplotlib.lines.Line2D at 0x7f36b0cf6e20>]"
      ]
     },
     "execution_count": 82,
     "metadata": {},
     "output_type": "execute_result"
    },
    {
     "data": {
      "image/png": "[encoded data removed]",
      "text/plain": [
       "<Figure size 432x288 with 1 Axes>"
      ]
     },
     "metadata": {
      "needs_background": "light"
     },
     "output_type": "display_data"
    }
   ],
   "source": [
    "accs.sort(reverse = True)\n",
    "mejores5 = accs\n",
    "accs_copy = accs\n",
    "mejores5 = mejores5[:5]\n",
    "print(mejores5)\n",
    "accs.sort(key= lambda x: x[1])\n",
    "print(accs)\n",
    "acc_grafico, k_grafico = zip(*accs_copy)\n",
    "plt.plot(k_grafico,acc_grafico)"
   ]
  },
  {
   "cell_type": "code",
   "execution_count": 83,
   "metadata": {},
   "outputs": [
    {
     "name": "stdout",
     "output_type": "stream",
     "text": [
      "Accuracy: 0.93\n",
      "Recall: 0.9299886238678414\n",
      "Precision: 0.9304337060837575\n",
      "F1: 0.9297373392675745\n",
      "Accuracy: 0.922\n",
      "Recall: 0.9198706348952695\n",
      "Precision: 0.924216185264474\n",
      "F1: 0.9206044642089841\n",
      "Accuracy: 0.928\n",
      "Recall: 0.926109526009458\n",
      "Precision: 0.9306937825942769\n",
      "F1: 0.9271044348148619\n",
      "Accuracy: 0.929\n",
      "Recall: 0.9273753759987123\n",
      "Precision: 0.9315121397857832\n",
      "F1: 0.9282695423855356\n",
      "Accuracy: 0.931\n",
      "Recall: 0.9296397426016008\n",
      "Precision: 0.9338111118080121\n",
      "F1: 0.930545889171871\n"
     ]
    }
   ],
   "source": [
    "for tupla in mejores5:\n",
    "    clf = metnum.KNNClassifier(tupla[1])\n",
    "    clf.fit(X, y) # o sea estamos entrenando con todo el conjunto entero despues de haber validado\n",
    "    #calculamos las metricas con conjuntos de test nuevos que nunca tocamos hasta ahora\n",
    "    X_test = df_test[df_test.columns[1:]].values\n",
    "    y_test = df_test[\"label\"].values.reshape(-1, 1)\n",
    "    y_pred = clf.predict(X_test)\n",
    "    metricas(y_test,y_pred)"
   ]
  },
  {
   "cell_type": "markdown",
   "metadata": {},
   "source": [
    "#### Observamos que gano la que en teoria era la quinta mejor. Testear contra validacion solamente iba a repetir los mismos resultados. --Lau: Queremos quedarnos con la mejor en cross-validation igual no? Es la mas sólida en diferentes data sets. Yo pensaba que una vez que obtenemos las mejores 5 k, podiamos revisar sus métricas y capaz elegir una por alguna razón medio arbitraria."
   ]
  },
  {
   "cell_type": "markdown",
   "metadata": {},
   "source": [
    "### Búsqueda de par k vecinos y alpha componentes ideal"
   ]
  },
  {
   "cell_type": "markdown",
   "metadata": {},
   "source": [
    "#### Usamos nuestra k ideal para buscar el alpha ideal. Las k vecinos a menor distancia luego de la transformacion lineal no deberían variar."
   ]
  },
  {
   "cell_type": "code",
   "execution_count": 84,
   "metadata": {},
   "outputs": [
    {
     "name": "stderr",
     "output_type": "stream",
     "text": [
      "  0%|          | 0/10 [00:00<?, ?it/s]\n",
      "  0%|          | 0/5 [00:00<?, ?it/s]\u001b[A\n",
      " 20%|██        | 1/5 [00:00<00:03,  1.24it/s]\u001b[A\n",
      " 40%|████      | 2/5 [00:01<00:02,  1.26it/s]\u001b[A\n",
      " 60%|██████    | 3/5 [00:02<00:01,  1.27it/s]\u001b[A\n",
      " 80%|████████  | 4/5 [00:03<00:00,  1.27it/s]\u001b[A\n",
      "100%|██████████| 5/5 [00:03<00:00,  1.27it/s]\u001b[A\n",
      " 10%|█         | 1/10 [00:03<00:35,  3.95s/it]\n",
      "  0%|          | 0/5 [00:00<?, ?it/s]\u001b[A\n",
      " 20%|██        | 1/5 [00:04<00:18,  4.68s/it]\u001b[A\n",
      " 40%|████      | 2/5 [00:09<00:13,  4.53s/it]\u001b[A\n",
      " 60%|██████    | 3/5 [00:13<00:09,  4.54s/it]\u001b[A\n",
      " 80%|████████  | 4/5 [00:18<00:04,  4.58s/it]\u001b[A\n",
      "100%|██████████| 5/5 [00:22<00:00,  4.57s/it]\u001b[A\n",
      " 20%|██        | 2/10 [00:26<02:00, 15.07s/it]\n",
      "  0%|          | 0/5 [00:00<?, ?it/s]\u001b[A\n",
      " 20%|██        | 1/5 [00:08<00:33,  8.37s/it]\u001b[A\n",
      " 40%|████      | 2/5 [00:16<00:24,  8.31s/it]\u001b[A\n",
      " 60%|██████    | 3/5 [00:24<00:16,  8.28s/it]\u001b[A\n",
      " 80%|████████  | 4/5 [00:33<00:08,  8.38s/it]\u001b[A\n",
      "100%|██████████| 5/5 [00:41<00:00,  8.37s/it]\u001b[A\n",
      " 30%|███       | 3/10 [01:08<03:11, 27.31s/it]\n",
      "  0%|          | 0/5 [00:00<?, ?it/s]\u001b[A\n",
      " 20%|██        | 1/5 [00:12<00:48, 12.16s/it]\u001b[A\n",
      " 40%|████      | 2/5 [00:24<00:36, 12.18s/it]\u001b[A\n",
      " 60%|██████    | 3/5 [00:36<00:24, 12.26s/it]\u001b[A\n",
      " 80%|████████  | 4/5 [00:48<00:12, 12.24s/it]\u001b[A\n",
      "100%|██████████| 5/5 [01:01<00:00, 12.28s/it]\u001b[A\n",
      " 40%|████      | 4/10 [02:10<04:04, 40.77s/it]\n",
      "  0%|          | 0/5 [00:00<?, ?it/s]\u001b[A\n",
      " 20%|██        | 1/5 [00:16<01:04, 16.01s/it]\u001b[A\n",
      " 40%|████      | 2/5 [00:32<00:48, 16.09s/it]\u001b[A\n",
      " 60%|██████    | 3/5 [00:48<00:32, 16.19s/it]\u001b[A\n",
      " 80%|████████  | 4/5 [01:04<00:16, 16.18s/it]\u001b[A\n",
      "100%|██████████| 5/5 [01:20<00:00, 16.06s/it]\u001b[A\n",
      " 50%|█████     | 5/10 [03:30<04:35, 55.02s/it]\n",
      "  0%|          | 0/5 [00:00<?, ?it/s]\u001b[A\n",
      " 20%|██        | 1/5 [00:18<01:14, 18.68s/it]\u001b[A\n",
      " 40%|████      | 2/5 [00:37<00:56, 18.75s/it]\u001b[A\n",
      " 60%|██████    | 3/5 [00:56<00:37, 18.65s/it]\u001b[A\n",
      " 80%|████████  | 4/5 [01:14<00:18, 18.51s/it]\u001b[A\n",
      "100%|██████████| 5/5 [01:33<00:00, 18.63s/it]\u001b[A\n",
      " 60%|██████    | 6/10 [05:03<04:31, 67.98s/it]\n",
      "  0%|          | 0/5 [00:00<?, ?it/s]\u001b[A\n",
      " 20%|██        | 1/5 [00:22<01:28, 22.18s/it]\u001b[A\n",
      " 40%|████      | 2/5 [00:44<01:06, 22.25s/it]\u001b[A\n",
      " 60%|██████    | 3/5 [01:28<00:59, 29.63s/it]\u001b[A\n",
      " 60%|██████    | 6/10 [06:32<04:21, 65.40s/it]\n"
     ]
    },
    {
     "ename": "KeyboardInterrupt",
     "evalue": "",
     "output_type": "error",
     "traceback": [
      "\u001b[0;31m---------------------------------------------------------------------------\u001b[0m",
      "\u001b[0;31mKeyboardInterrupt\u001b[0m                         Traceback (most recent call last)",
      "\u001b[0;32m<ipython-input-84-5c98aca7f57f>\u001b[0m in \u001b[0;36m<module>\u001b[0;34m\u001b[0m\n\u001b[1;32m      8\u001b[0m     \u001b[0;32mfor\u001b[0m \u001b[0mi\u001b[0m \u001b[0;32min\u001b[0m \u001b[0mtqdm\u001b[0m\u001b[0;34m(\u001b[0m\u001b[0mrange\u001b[0m\u001b[0;34m(\u001b[0m\u001b[0mlen\u001b[0m\u001b[0;34m(\u001b[0m\u001b[0mX_trains\u001b[0m\u001b[0;34m)\u001b[0m\u001b[0;34m)\u001b[0m\u001b[0;34m)\u001b[0m\u001b[0;34m:\u001b[0m\u001b[0;34m\u001b[0m\u001b[0;34m\u001b[0m\u001b[0m\n\u001b[1;32m      9\u001b[0m         \u001b[0mpca\u001b[0m \u001b[0;34m=\u001b[0m \u001b[0mmetnum\u001b[0m\u001b[0;34m.\u001b[0m\u001b[0mPCA\u001b[0m\u001b[0;34m(\u001b[0m\u001b[0malpha\u001b[0m\u001b[0;34m)\u001b[0m\u001b[0;34m\u001b[0m\u001b[0;34m\u001b[0m\u001b[0m\n\u001b[0;32m---> 10\u001b[0;31m         \u001b[0mpca\u001b[0m\u001b[0;34m.\u001b[0m\u001b[0mfit\u001b[0m\u001b[0;34m(\u001b[0m\u001b[0mX_trains\u001b[0m\u001b[0;34m[\u001b[0m\u001b[0mi\u001b[0m\u001b[0;34m]\u001b[0m\u001b[0;34m)\u001b[0m\u001b[0;34m\u001b[0m\u001b[0;34m\u001b[0m\u001b[0m\n\u001b[0m\u001b[1;32m     11\u001b[0m         \u001b[0mX_trains_transformadas\u001b[0m\u001b[0;34m.\u001b[0m\u001b[0mappend\u001b[0m\u001b[0;34m(\u001b[0m\u001b[0mpca\u001b[0m\u001b[0;34m.\u001b[0m\u001b[0mtransform\u001b[0m\u001b[0;34m(\u001b[0m\u001b[0mX_trains\u001b[0m\u001b[0;34m[\u001b[0m\u001b[0mi\u001b[0m\u001b[0;34m]\u001b[0m\u001b[0;34m)\u001b[0m\u001b[0;34m)\u001b[0m\u001b[0;34m\u001b[0m\u001b[0;34m\u001b[0m\u001b[0m\n\u001b[1;32m     12\u001b[0m         \u001b[0mX_vals_transformadas\u001b[0m\u001b[0;34m.\u001b[0m\u001b[0mappend\u001b[0m\u001b[0;34m(\u001b[0m\u001b[0mpca\u001b[0m\u001b[0;34m.\u001b[0m\u001b[0mtransform\u001b[0m\u001b[0;34m(\u001b[0m\u001b[0mX_vals\u001b[0m\u001b[0;34m[\u001b[0m\u001b[0mi\u001b[0m\u001b[0;34m]\u001b[0m\u001b[0;34m)\u001b[0m\u001b[0;34m)\u001b[0m\u001b[0;34m\u001b[0m\u001b[0;34m\u001b[0m\u001b[0m\n",
      "\u001b[0;31mKeyboardInterrupt\u001b[0m: "
     ]
    }
   ],
   "source": [
    "\n",
    "k = 8 ### \"K ideal obtenida antes\"\n",
    "accs = []\n",
    "\n",
    "for alpha in tqdm(range(1,100,10)):\n",
    "    acc = 0\n",
    "    X_trains_transformadas = []\n",
    "    X_vals_transformadas = []\n",
    "    for i in range(len(X_trains)):\n",
    "        pca = metnum.PCA(alpha)\n",
    "        pca.fit(X_trains[i])\n",
    "        X_trains_transformadas.append(pca.transform(X_trains[i]))\n",
    "        X_vals_transformadas.append(pca.transform(X_vals[i]))\n",
    "        clf = metnum.KNNClassifier(k)\n",
    "        clf.fit(X_trains_transformadas[i],Y_trains[i])\n",
    "        y_pred = clf.predict(X_vals_transformadas[i])\n",
    "        acc += sk.accuracy_score(Y_vals[i], y_pred)\n",
    "    acc = acc/len(X_trains)\n",
    "    accs.append((acc,alpha))\n"
   ]
  },
  {
   "cell_type": "markdown",
   "metadata": {},
   "source": [
    "#### Esto tarda mucho en calcular. Literalmente 15 min. Voy a poner un criterio de parada en mi codigo de c++. Todavia no lo subi al repo."
   ]
  },
  {
   "cell_type": "code",
   "execution_count": null,
   "metadata": {},
   "outputs": [],
   "source": [
    "acc_grafico, a_grafico = zip(*accs)\n",
    "plt.plot(a_grafico,acc_grafico)\n",
    "print(accs)"
   ]
  },
  {
   "cell_type": "code",
   "execution_count": null,
   "metadata": {},
   "outputs": [],
   "source": [
    "### Aparece el \"codito\". ¿Buscamos en el intervalo(10,40)?"
   ]
  },
  {
   "cell_type": "code",
   "execution_count": null,
   "metadata": {},
   "outputs": [],
   "source": [
    "k = 8 \n",
    "accs = []\n",
    "\n",
    "for alpha in tqdm(range(10,40,5)):\n",
    "    acc = 0\n",
    "    X_trains_transformadas = []\n",
    "    X_vals_transformadas = []\n",
    "    for i in range(len(X_trains)):\n",
    "        pca = metnum.PCA(alpha)\n",
    "        pca.fit(X_trains[i])\n",
    "        X_trains_transformadas.append(pca.transform(X_trains[i]))\n",
    "        X_vals_transformadas.append(pca.transform(X_vals[i]))\n",
    "        clf = metnum.KNNClassifier(k)\n",
    "        clf.fit(X_trains_transformadas[i],Y_trains[i])\n",
    "        y_pred = clf.predict(X_vals_transformadas[i])\n",
    "        acc += sk.accuracy_score(Y_vals[i], y_pred)\n",
    "    acc = acc/len(X_trains)\n",
    "    accs.append((acc,alpha))"
   ]
  },
  {
   "cell_type": "code",
   "execution_count": null,
   "metadata": {},
   "outputs": [],
   "source": [
    "acc_grafico, a_grafico = zip(*accs)\n",
    "plt.plot(a_grafico,acc_grafico)"
   ]
  },
  {
   "cell_type": "markdown",
   "metadata": {},
   "source": [
    "### ¿Buscamos los mejores alphas en el intervalo (25,35)?"
   ]
  },
  {
   "cell_type": "code",
   "execution_count": null,
   "metadata": {},
   "outputs": [],
   "source": [
    "k = 8 \n",
    "accs = []\n",
    "\n",
    "for alpha in tqdm(range(26,35,1)):\n",
    "    acc = 0\n",
    "    X_trains_transformadas = []\n",
    "    X_vals_transformadas = []\n",
    "    for i in range(len(X_trains)):\n",
    "        pca = metnum.PCA(alpha)\n",
    "        pca.fit(X_trains[i])\n",
    "        X_trains_transformadas.append(pca.transform(X_trains[i]))\n",
    "        X_vals_transformadas.append(pca.transform(X_vals[i]))\n",
    "        clf = metnum.KNNClassifier(k)\n",
    "        clf.fit(X_trains_transformadas[i],Y_trains[i])\n",
    "        y_pred = clf.predict(X_vals_transformadas[i])\n",
    "        acc += sk.accuracy_score(Y_vals[i], y_pred)\n",
    "    acc = acc/len(X_trains)\n",
    "    accs.append((acc,alpha))"
   ]
  },
  {
   "cell_type": "code",
   "execution_count": null,
   "metadata": {},
   "outputs": [],
   "source": [
    "acc_grafico, a_grafico = zip(*accs)\n",
    "plt.plot(a_grafico,acc_grafico)"
   ]
  },
  {
   "cell_type": "code",
   "execution_count": null,
   "metadata": {},
   "outputs": [],
   "source": [
    "### Pareceria que 29,30,31,32 son los mejorcitos con el data set acotado a 4000."
   ]
  }
 ],
 "metadata": {
  "kernelspec": {
   "display_name": "Python 3",
   "language": "python",
   "name": "python3"
  },
  "language_info": {
   "codemirror_mode": {
    "name": "ipython",
    "version": 3
   },
   "file_extension": ".py",
   "mimetype": "text/x-python",
   "name": "python",
   "nbconvert_exporter": "python",
   "pygments_lexer": "ipython3",
   "version": "3.8.5"
  }
 },
 "nbformat": 4,
 "nbformat_minor": 4
}
